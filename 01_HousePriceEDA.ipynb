{
 "cells": [
  {
   "cell_type": "markdown",
   "metadata": {
    "hideCode": false,
    "hidePrompt": false
   },
   "source": [
    "# House Price Prediction"
   ]
  },
  {
   "cell_type": "code",
   "execution_count": 1,
   "metadata": {
    "hideCode": false,
    "hidePrompt": false
   },
   "outputs": [],
   "source": [
    "import re\n",
    "\n",
    "# option\n",
    "pd.set_option('max_rows', 50, 'max_columns', 80)\n",
    "%matplotlib inline"
   ]
  },
  {
   "cell_type": "markdown",
   "metadata": {
    "hideCode": false,
    "hidePrompt": false
   },
   "source": [
    "### Dataset\n",
    "- ID : 집을 구분하는 번호\n",
    "- date : 집을 구매한 날짜\n",
    "- price : 집의 가격(Target variable)\n",
    "- bedrooms : 침실의 수\n",
    "- bathrooms : 침실 개수 당 화장실의 수(화장실의 수 / 침실의 수 )\n",
    "- sqft_living : 주거 공간의 평방 피트(면적)\n",
    "- sqft_lot : 부지의 평방 피트(면적)\n",
    "- floors : 집의 층 수\n",
    "- waterfront : 집의 전방에 강이 흐르는지 유무 (a.k.a. 리버뷰)\n",
    "- view : 집이 얼마나 좋아 보이는지의 정도\n",
    "- condition : 집의 전반적인 상태\n",
    "- grade : King County grading 시스템 기준으로 매긴 집의 등급\n",
    "- sqft_above : 지하실을 제외한 평방 피트(면적)\n",
    "- sqft_basement : 지하실의 평방 피트(면적)\n",
    "- yr_built : 지어진 년도\n",
    "- yr_renovated : 집을 재건축한 년도\n",
    "- zipcode : 우편번호\n",
    "- lat : 위도\n",
    "- long : 경도\n",
    "- sqft_living15 : 2015년 기준 주거 공간의 평방 피트(면적, 집을 재건축했다면, 변화가 있을 수 있음)\n",
    "- sqft_lot15 : 2015년 기준 부지의 평방 피트(면적, 집을 재건축했다면, 변화가 있을 수 있음)"
   ]
  },
  {
   "cell_type": "code",
   "execution_count": 2,
   "metadata": {
    "hideCode": false,
    "hidePrompt": false
   },
   "outputs": [],
   "source": [
    "train_set = pd.read_csv('./train.csv')\n",
    "test_set = pd.read_csv('./test.csv')"
   ]
  },
  {
   "cell_type": "code",
   "execution_count": 3,
   "metadata": {
    "hideCode": false,
    "hidePrompt": false
   },
   "outputs": [
    {
     "name": "stdout",
     "output_type": "stream",
     "text": [
      "train set 데이터량 (15035, 21)\n",
      "test set 데이터량 (6468, 20)\n"
     ]
    }
   ],
   "source": [
    "print(\"train set 데이터량\", train_set.shape)\n",
    "print(\"test set 데이터량\", test_set.shape)"
   ]
  },
  {
   "cell_type": "markdown",
   "metadata": {
    "hideCode": false,
    "hidePrompt": false
   },
   "source": [
    "## 1. EDA"
   ]
  },
  {
   "cell_type": "code",
   "execution_count": 4,
   "metadata": {
    "hideCode": false,
    "hidePrompt": false,
    "scrolled": true
   },
   "outputs": [
    {
     "data": {
      "text/html": [
       "<div>\n",
       "<style scoped>\n",
       "    .dataframe tbody tr th:only-of-type {\n",
       "        vertical-align: middle;\n",
       "    }\n",
       "\n",
       "    .dataframe tbody tr th {\n",
       "        vertical-align: top;\n",
       "    }\n",
       "\n",
       "    .dataframe thead th {\n",
       "        text-align: right;\n",
       "    }\n",
       "</style>\n",
       "<table border=\"1\" class=\"dataframe\">\n",
       "  <thead>\n",
       "    <tr style=\"text-align: right;\">\n",
       "      <th></th>\n",
       "      <th>id</th>\n",
       "      <th>date</th>\n",
       "      <th>price</th>\n",
       "      <th>bedrooms</th>\n",
       "      <th>bathrooms</th>\n",
       "      <th>sqft_living</th>\n",
       "      <th>sqft_lot</th>\n",
       "      <th>floors</th>\n",
       "      <th>waterfront</th>\n",
       "      <th>view</th>\n",
       "      <th>condition</th>\n",
       "      <th>grade</th>\n",
       "      <th>sqft_above</th>\n",
       "      <th>sqft_basement</th>\n",
       "      <th>yr_built</th>\n",
       "      <th>yr_renovated</th>\n",
       "      <th>zipcode</th>\n",
       "      <th>lat</th>\n",
       "      <th>long</th>\n",
       "      <th>sqft_living15</th>\n",
       "      <th>sqft_lot15</th>\n",
       "    </tr>\n",
       "  </thead>\n",
       "  <tbody>\n",
       "    <tr>\n",
       "      <th>0</th>\n",
       "      <td>0</td>\n",
       "      <td>20141013T000000</td>\n",
       "      <td>221900.0</td>\n",
       "      <td>3</td>\n",
       "      <td>1.00</td>\n",
       "      <td>1180</td>\n",
       "      <td>5650</td>\n",
       "      <td>1.0</td>\n",
       "      <td>0</td>\n",
       "      <td>0</td>\n",
       "      <td>3</td>\n",
       "      <td>7</td>\n",
       "      <td>1180</td>\n",
       "      <td>0</td>\n",
       "      <td>1955</td>\n",
       "      <td>0</td>\n",
       "      <td>98178</td>\n",
       "      <td>47.5112</td>\n",
       "      <td>-122.257</td>\n",
       "      <td>1340</td>\n",
       "      <td>5650</td>\n",
       "    </tr>\n",
       "    <tr>\n",
       "      <th>1</th>\n",
       "      <td>1</td>\n",
       "      <td>20150225T000000</td>\n",
       "      <td>180000.0</td>\n",
       "      <td>2</td>\n",
       "      <td>1.00</td>\n",
       "      <td>770</td>\n",
       "      <td>10000</td>\n",
       "      <td>1.0</td>\n",
       "      <td>0</td>\n",
       "      <td>0</td>\n",
       "      <td>3</td>\n",
       "      <td>6</td>\n",
       "      <td>770</td>\n",
       "      <td>0</td>\n",
       "      <td>1933</td>\n",
       "      <td>0</td>\n",
       "      <td>98028</td>\n",
       "      <td>47.7379</td>\n",
       "      <td>-122.233</td>\n",
       "      <td>2720</td>\n",
       "      <td>8062</td>\n",
       "    </tr>\n",
       "    <tr>\n",
       "      <th>2</th>\n",
       "      <td>2</td>\n",
       "      <td>20150218T000000</td>\n",
       "      <td>510000.0</td>\n",
       "      <td>3</td>\n",
       "      <td>2.00</td>\n",
       "      <td>1680</td>\n",
       "      <td>8080</td>\n",
       "      <td>1.0</td>\n",
       "      <td>0</td>\n",
       "      <td>0</td>\n",
       "      <td>3</td>\n",
       "      <td>8</td>\n",
       "      <td>1680</td>\n",
       "      <td>0</td>\n",
       "      <td>1987</td>\n",
       "      <td>0</td>\n",
       "      <td>98074</td>\n",
       "      <td>47.6168</td>\n",
       "      <td>-122.045</td>\n",
       "      <td>1800</td>\n",
       "      <td>7503</td>\n",
       "    </tr>\n",
       "    <tr>\n",
       "      <th>3</th>\n",
       "      <td>3</td>\n",
       "      <td>20140627T000000</td>\n",
       "      <td>257500.0</td>\n",
       "      <td>3</td>\n",
       "      <td>2.25</td>\n",
       "      <td>1715</td>\n",
       "      <td>6819</td>\n",
       "      <td>2.0</td>\n",
       "      <td>0</td>\n",
       "      <td>0</td>\n",
       "      <td>3</td>\n",
       "      <td>7</td>\n",
       "      <td>1715</td>\n",
       "      <td>0</td>\n",
       "      <td>1995</td>\n",
       "      <td>0</td>\n",
       "      <td>98003</td>\n",
       "      <td>47.3097</td>\n",
       "      <td>-122.327</td>\n",
       "      <td>2238</td>\n",
       "      <td>6819</td>\n",
       "    </tr>\n",
       "    <tr>\n",
       "      <th>4</th>\n",
       "      <td>4</td>\n",
       "      <td>20150115T000000</td>\n",
       "      <td>291850.0</td>\n",
       "      <td>3</td>\n",
       "      <td>1.50</td>\n",
       "      <td>1060</td>\n",
       "      <td>9711</td>\n",
       "      <td>1.0</td>\n",
       "      <td>0</td>\n",
       "      <td>0</td>\n",
       "      <td>3</td>\n",
       "      <td>7</td>\n",
       "      <td>1060</td>\n",
       "      <td>0</td>\n",
       "      <td>1963</td>\n",
       "      <td>0</td>\n",
       "      <td>98198</td>\n",
       "      <td>47.4095</td>\n",
       "      <td>-122.315</td>\n",
       "      <td>1650</td>\n",
       "      <td>9711</td>\n",
       "    </tr>\n",
       "    <tr>\n",
       "      <th>5</th>\n",
       "      <td>5</td>\n",
       "      <td>20150403T000000</td>\n",
       "      <td>662500.0</td>\n",
       "      <td>3</td>\n",
       "      <td>2.50</td>\n",
       "      <td>3560</td>\n",
       "      <td>9796</td>\n",
       "      <td>1.0</td>\n",
       "      <td>0</td>\n",
       "      <td>0</td>\n",
       "      <td>3</td>\n",
       "      <td>8</td>\n",
       "      <td>1860</td>\n",
       "      <td>1700</td>\n",
       "      <td>1965</td>\n",
       "      <td>0</td>\n",
       "      <td>98007</td>\n",
       "      <td>47.6007</td>\n",
       "      <td>-122.145</td>\n",
       "      <td>2210</td>\n",
       "      <td>8925</td>\n",
       "    </tr>\n",
       "    <tr>\n",
       "      <th>6</th>\n",
       "      <td>6</td>\n",
       "      <td>20140527T000000</td>\n",
       "      <td>468000.0</td>\n",
       "      <td>2</td>\n",
       "      <td>1.00</td>\n",
       "      <td>1160</td>\n",
       "      <td>6000</td>\n",
       "      <td>1.0</td>\n",
       "      <td>0</td>\n",
       "      <td>0</td>\n",
       "      <td>4</td>\n",
       "      <td>7</td>\n",
       "      <td>860</td>\n",
       "      <td>300</td>\n",
       "      <td>1942</td>\n",
       "      <td>0</td>\n",
       "      <td>98115</td>\n",
       "      <td>47.6900</td>\n",
       "      <td>-122.292</td>\n",
       "      <td>1330</td>\n",
       "      <td>6000</td>\n",
       "    </tr>\n",
       "    <tr>\n",
       "      <th>7</th>\n",
       "      <td>7</td>\n",
       "      <td>20140528T000000</td>\n",
       "      <td>310000.0</td>\n",
       "      <td>3</td>\n",
       "      <td>1.00</td>\n",
       "      <td>1430</td>\n",
       "      <td>19901</td>\n",
       "      <td>1.5</td>\n",
       "      <td>0</td>\n",
       "      <td>0</td>\n",
       "      <td>4</td>\n",
       "      <td>7</td>\n",
       "      <td>1430</td>\n",
       "      <td>0</td>\n",
       "      <td>1927</td>\n",
       "      <td>0</td>\n",
       "      <td>98028</td>\n",
       "      <td>47.7558</td>\n",
       "      <td>-122.229</td>\n",
       "      <td>1780</td>\n",
       "      <td>12697</td>\n",
       "    </tr>\n",
       "    <tr>\n",
       "      <th>8</th>\n",
       "      <td>8</td>\n",
       "      <td>20141007T000000</td>\n",
       "      <td>400000.0</td>\n",
       "      <td>3</td>\n",
       "      <td>1.75</td>\n",
       "      <td>1370</td>\n",
       "      <td>9680</td>\n",
       "      <td>1.0</td>\n",
       "      <td>0</td>\n",
       "      <td>0</td>\n",
       "      <td>4</td>\n",
       "      <td>7</td>\n",
       "      <td>1370</td>\n",
       "      <td>0</td>\n",
       "      <td>1977</td>\n",
       "      <td>0</td>\n",
       "      <td>98074</td>\n",
       "      <td>47.6127</td>\n",
       "      <td>-122.045</td>\n",
       "      <td>1370</td>\n",
       "      <td>10208</td>\n",
       "    </tr>\n",
       "    <tr>\n",
       "      <th>9</th>\n",
       "      <td>9</td>\n",
       "      <td>20150312T000000</td>\n",
       "      <td>530000.0</td>\n",
       "      <td>5</td>\n",
       "      <td>2.00</td>\n",
       "      <td>1810</td>\n",
       "      <td>4850</td>\n",
       "      <td>1.5</td>\n",
       "      <td>0</td>\n",
       "      <td>0</td>\n",
       "      <td>3</td>\n",
       "      <td>7</td>\n",
       "      <td>1810</td>\n",
       "      <td>0</td>\n",
       "      <td>1900</td>\n",
       "      <td>0</td>\n",
       "      <td>98107</td>\n",
       "      <td>47.6700</td>\n",
       "      <td>-122.394</td>\n",
       "      <td>1360</td>\n",
       "      <td>4850</td>\n",
       "    </tr>\n",
       "    <tr>\n",
       "      <th>10</th>\n",
       "      <td>10</td>\n",
       "      <td>20150124T000000</td>\n",
       "      <td>650000.0</td>\n",
       "      <td>4</td>\n",
       "      <td>3.00</td>\n",
       "      <td>2950</td>\n",
       "      <td>5000</td>\n",
       "      <td>2.0</td>\n",
       "      <td>0</td>\n",
       "      <td>3</td>\n",
       "      <td>3</td>\n",
       "      <td>9</td>\n",
       "      <td>1980</td>\n",
       "      <td>970</td>\n",
       "      <td>1979</td>\n",
       "      <td>0</td>\n",
       "      <td>98126</td>\n",
       "      <td>47.5714</td>\n",
       "      <td>-122.375</td>\n",
       "      <td>2140</td>\n",
       "      <td>4000</td>\n",
       "    </tr>\n",
       "    <tr>\n",
       "      <th>11</th>\n",
       "      <td>11</td>\n",
       "      <td>20140731T000000</td>\n",
       "      <td>395000.0</td>\n",
       "      <td>3</td>\n",
       "      <td>2.00</td>\n",
       "      <td>1890</td>\n",
       "      <td>14040</td>\n",
       "      <td>2.0</td>\n",
       "      <td>0</td>\n",
       "      <td>0</td>\n",
       "      <td>3</td>\n",
       "      <td>7</td>\n",
       "      <td>1890</td>\n",
       "      <td>0</td>\n",
       "      <td>1994</td>\n",
       "      <td>0</td>\n",
       "      <td>98019</td>\n",
       "      <td>47.7277</td>\n",
       "      <td>-121.962</td>\n",
       "      <td>1890</td>\n",
       "      <td>14018</td>\n",
       "    </tr>\n",
       "    <tr>\n",
       "      <th>12</th>\n",
       "      <td>12</td>\n",
       "      <td>20140529T000000</td>\n",
       "      <td>485000.0</td>\n",
       "      <td>4</td>\n",
       "      <td>1.00</td>\n",
       "      <td>1600</td>\n",
       "      <td>4300</td>\n",
       "      <td>1.5</td>\n",
       "      <td>0</td>\n",
       "      <td>0</td>\n",
       "      <td>4</td>\n",
       "      <td>7</td>\n",
       "      <td>1600</td>\n",
       "      <td>0</td>\n",
       "      <td>1916</td>\n",
       "      <td>0</td>\n",
       "      <td>98103</td>\n",
       "      <td>47.6648</td>\n",
       "      <td>-122.343</td>\n",
       "      <td>1610</td>\n",
       "      <td>4300</td>\n",
       "    </tr>\n",
       "    <tr>\n",
       "      <th>13</th>\n",
       "      <td>13</td>\n",
       "      <td>20141205T000000</td>\n",
       "      <td>189000.0</td>\n",
       "      <td>2</td>\n",
       "      <td>1.00</td>\n",
       "      <td>1200</td>\n",
       "      <td>9850</td>\n",
       "      <td>1.0</td>\n",
       "      <td>0</td>\n",
       "      <td>0</td>\n",
       "      <td>4</td>\n",
       "      <td>7</td>\n",
       "      <td>1200</td>\n",
       "      <td>0</td>\n",
       "      <td>1921</td>\n",
       "      <td>0</td>\n",
       "      <td>98002</td>\n",
       "      <td>47.3089</td>\n",
       "      <td>-122.210</td>\n",
       "      <td>1060</td>\n",
       "      <td>5095</td>\n",
       "    </tr>\n",
       "    <tr>\n",
       "      <th>14</th>\n",
       "      <td>14</td>\n",
       "      <td>20150424T000000</td>\n",
       "      <td>230000.0</td>\n",
       "      <td>3</td>\n",
       "      <td>1.00</td>\n",
       "      <td>1250</td>\n",
       "      <td>9774</td>\n",
       "      <td>1.0</td>\n",
       "      <td>0</td>\n",
       "      <td>0</td>\n",
       "      <td>4</td>\n",
       "      <td>7</td>\n",
       "      <td>1250</td>\n",
       "      <td>0</td>\n",
       "      <td>1969</td>\n",
       "      <td>0</td>\n",
       "      <td>98003</td>\n",
       "      <td>47.3343</td>\n",
       "      <td>-122.306</td>\n",
       "      <td>1280</td>\n",
       "      <td>8850</td>\n",
       "    </tr>\n",
       "    <tr>\n",
       "      <th>15</th>\n",
       "      <td>15</td>\n",
       "      <td>20140514T000000</td>\n",
       "      <td>385000.0</td>\n",
       "      <td>4</td>\n",
       "      <td>1.75</td>\n",
       "      <td>1620</td>\n",
       "      <td>4980</td>\n",
       "      <td>1.0</td>\n",
       "      <td>0</td>\n",
       "      <td>0</td>\n",
       "      <td>4</td>\n",
       "      <td>7</td>\n",
       "      <td>860</td>\n",
       "      <td>760</td>\n",
       "      <td>1947</td>\n",
       "      <td>0</td>\n",
       "      <td>98133</td>\n",
       "      <td>47.7025</td>\n",
       "      <td>-122.341</td>\n",
       "      <td>1400</td>\n",
       "      <td>4980</td>\n",
       "    </tr>\n",
       "    <tr>\n",
       "      <th>16</th>\n",
       "      <td>16</td>\n",
       "      <td>20140826T000000</td>\n",
       "      <td>2000000.0</td>\n",
       "      <td>3</td>\n",
       "      <td>2.75</td>\n",
       "      <td>3050</td>\n",
       "      <td>44867</td>\n",
       "      <td>1.0</td>\n",
       "      <td>0</td>\n",
       "      <td>4</td>\n",
       "      <td>3</td>\n",
       "      <td>9</td>\n",
       "      <td>2330</td>\n",
       "      <td>720</td>\n",
       "      <td>1968</td>\n",
       "      <td>0</td>\n",
       "      <td>98040</td>\n",
       "      <td>47.5316</td>\n",
       "      <td>-122.233</td>\n",
       "      <td>4110</td>\n",
       "      <td>20336</td>\n",
       "    </tr>\n",
       "    <tr>\n",
       "      <th>17</th>\n",
       "      <td>17</td>\n",
       "      <td>20140516T000000</td>\n",
       "      <td>252700.0</td>\n",
       "      <td>2</td>\n",
       "      <td>1.50</td>\n",
       "      <td>1070</td>\n",
       "      <td>9643</td>\n",
       "      <td>1.0</td>\n",
       "      <td>0</td>\n",
       "      <td>0</td>\n",
       "      <td>3</td>\n",
       "      <td>7</td>\n",
       "      <td>1070</td>\n",
       "      <td>0</td>\n",
       "      <td>1985</td>\n",
       "      <td>0</td>\n",
       "      <td>98030</td>\n",
       "      <td>47.3533</td>\n",
       "      <td>-122.166</td>\n",
       "      <td>1220</td>\n",
       "      <td>8386</td>\n",
       "    </tr>\n",
       "    <tr>\n",
       "      <th>18</th>\n",
       "      <td>18</td>\n",
       "      <td>20141120T000000</td>\n",
       "      <td>329000.0</td>\n",
       "      <td>3</td>\n",
       "      <td>2.25</td>\n",
       "      <td>2450</td>\n",
       "      <td>6500</td>\n",
       "      <td>2.0</td>\n",
       "      <td>0</td>\n",
       "      <td>0</td>\n",
       "      <td>4</td>\n",
       "      <td>8</td>\n",
       "      <td>2450</td>\n",
       "      <td>0</td>\n",
       "      <td>1985</td>\n",
       "      <td>0</td>\n",
       "      <td>98030</td>\n",
       "      <td>47.3739</td>\n",
       "      <td>-122.172</td>\n",
       "      <td>2200</td>\n",
       "      <td>6865</td>\n",
       "    </tr>\n",
       "    <tr>\n",
       "      <th>19</th>\n",
       "      <td>19</td>\n",
       "      <td>20141103T000000</td>\n",
       "      <td>233000.0</td>\n",
       "      <td>3</td>\n",
       "      <td>2.00</td>\n",
       "      <td>1710</td>\n",
       "      <td>4697</td>\n",
       "      <td>1.5</td>\n",
       "      <td>0</td>\n",
       "      <td>0</td>\n",
       "      <td>5</td>\n",
       "      <td>6</td>\n",
       "      <td>1710</td>\n",
       "      <td>0</td>\n",
       "      <td>1941</td>\n",
       "      <td>0</td>\n",
       "      <td>98002</td>\n",
       "      <td>47.3048</td>\n",
       "      <td>-122.218</td>\n",
       "      <td>1030</td>\n",
       "      <td>4705</td>\n",
       "    </tr>\n",
       "    <tr>\n",
       "      <th>20</th>\n",
       "      <td>20</td>\n",
       "      <td>20140626T000000</td>\n",
       "      <td>937000.0</td>\n",
       "      <td>3</td>\n",
       "      <td>1.75</td>\n",
       "      <td>2450</td>\n",
       "      <td>2691</td>\n",
       "      <td>2.0</td>\n",
       "      <td>0</td>\n",
       "      <td>0</td>\n",
       "      <td>3</td>\n",
       "      <td>8</td>\n",
       "      <td>1750</td>\n",
       "      <td>700</td>\n",
       "      <td>1915</td>\n",
       "      <td>0</td>\n",
       "      <td>98119</td>\n",
       "      <td>47.6386</td>\n",
       "      <td>-122.360</td>\n",
       "      <td>1760</td>\n",
       "      <td>3573</td>\n",
       "    </tr>\n",
       "    <tr>\n",
       "      <th>21</th>\n",
       "      <td>21</td>\n",
       "      <td>20141201T000000</td>\n",
       "      <td>667000.0</td>\n",
       "      <td>3</td>\n",
       "      <td>1.00</td>\n",
       "      <td>1400</td>\n",
       "      <td>1581</td>\n",
       "      <td>1.5</td>\n",
       "      <td>0</td>\n",
       "      <td>0</td>\n",
       "      <td>5</td>\n",
       "      <td>8</td>\n",
       "      <td>1400</td>\n",
       "      <td>0</td>\n",
       "      <td>1909</td>\n",
       "      <td>0</td>\n",
       "      <td>98112</td>\n",
       "      <td>47.6221</td>\n",
       "      <td>-122.314</td>\n",
       "      <td>1860</td>\n",
       "      <td>3861</td>\n",
       "    </tr>\n",
       "    <tr>\n",
       "      <th>22</th>\n",
       "      <td>22</td>\n",
       "      <td>20141110T000000</td>\n",
       "      <td>580500.0</td>\n",
       "      <td>3</td>\n",
       "      <td>2.50</td>\n",
       "      <td>2320</td>\n",
       "      <td>3980</td>\n",
       "      <td>2.0</td>\n",
       "      <td>0</td>\n",
       "      <td>0</td>\n",
       "      <td>3</td>\n",
       "      <td>8</td>\n",
       "      <td>2320</td>\n",
       "      <td>0</td>\n",
       "      <td>2003</td>\n",
       "      <td>0</td>\n",
       "      <td>98027</td>\n",
       "      <td>47.5391</td>\n",
       "      <td>-122.070</td>\n",
       "      <td>2580</td>\n",
       "      <td>3980</td>\n",
       "    </tr>\n",
       "    <tr>\n",
       "      <th>23</th>\n",
       "      <td>23</td>\n",
       "      <td>20140624T000000</td>\n",
       "      <td>687500.0</td>\n",
       "      <td>4</td>\n",
       "      <td>1.75</td>\n",
       "      <td>2330</td>\n",
       "      <td>5000</td>\n",
       "      <td>1.5</td>\n",
       "      <td>0</td>\n",
       "      <td>0</td>\n",
       "      <td>4</td>\n",
       "      <td>7</td>\n",
       "      <td>1510</td>\n",
       "      <td>820</td>\n",
       "      <td>1929</td>\n",
       "      <td>0</td>\n",
       "      <td>98117</td>\n",
       "      <td>47.6823</td>\n",
       "      <td>-122.368</td>\n",
       "      <td>1460</td>\n",
       "      <td>5000</td>\n",
       "    </tr>\n",
       "    <tr>\n",
       "      <th>24</th>\n",
       "      <td>24</td>\n",
       "      <td>20141110T000000</td>\n",
       "      <td>535000.0</td>\n",
       "      <td>3</td>\n",
       "      <td>1.00</td>\n",
       "      <td>1090</td>\n",
       "      <td>3000</td>\n",
       "      <td>1.5</td>\n",
       "      <td>0</td>\n",
       "      <td>0</td>\n",
       "      <td>4</td>\n",
       "      <td>8</td>\n",
       "      <td>1090</td>\n",
       "      <td>0</td>\n",
       "      <td>1929</td>\n",
       "      <td>0</td>\n",
       "      <td>98117</td>\n",
       "      <td>47.6889</td>\n",
       "      <td>-122.375</td>\n",
       "      <td>1570</td>\n",
       "      <td>5080</td>\n",
       "    </tr>\n",
       "    <tr>\n",
       "      <th>...</th>\n",
       "      <td>...</td>\n",
       "      <td>...</td>\n",
       "      <td>...</td>\n",
       "      <td>...</td>\n",
       "      <td>...</td>\n",
       "      <td>...</td>\n",
       "      <td>...</td>\n",
       "      <td>...</td>\n",
       "      <td>...</td>\n",
       "      <td>...</td>\n",
       "      <td>...</td>\n",
       "      <td>...</td>\n",
       "      <td>...</td>\n",
       "      <td>...</td>\n",
       "      <td>...</td>\n",
       "      <td>...</td>\n",
       "      <td>...</td>\n",
       "      <td>...</td>\n",
       "      <td>...</td>\n",
       "      <td>...</td>\n",
       "      <td>...</td>\n",
       "    </tr>\n",
       "    <tr>\n",
       "      <th>15010</th>\n",
       "      <td>15010</td>\n",
       "      <td>20150123T000000</td>\n",
       "      <td>579000.0</td>\n",
       "      <td>4</td>\n",
       "      <td>3.25</td>\n",
       "      <td>1900</td>\n",
       "      <td>2631</td>\n",
       "      <td>2.0</td>\n",
       "      <td>0</td>\n",
       "      <td>0</td>\n",
       "      <td>3</td>\n",
       "      <td>9</td>\n",
       "      <td>1250</td>\n",
       "      <td>650</td>\n",
       "      <td>2014</td>\n",
       "      <td>0</td>\n",
       "      <td>98144</td>\n",
       "      <td>47.5869</td>\n",
       "      <td>-122.311</td>\n",
       "      <td>1710</td>\n",
       "      <td>4502</td>\n",
       "    </tr>\n",
       "    <tr>\n",
       "      <th>15011</th>\n",
       "      <td>15011</td>\n",
       "      <td>20140623T000000</td>\n",
       "      <td>362500.0</td>\n",
       "      <td>2</td>\n",
       "      <td>1.50</td>\n",
       "      <td>940</td>\n",
       "      <td>1768</td>\n",
       "      <td>2.0</td>\n",
       "      <td>0</td>\n",
       "      <td>0</td>\n",
       "      <td>3</td>\n",
       "      <td>7</td>\n",
       "      <td>940</td>\n",
       "      <td>0</td>\n",
       "      <td>2009</td>\n",
       "      <td>0</td>\n",
       "      <td>98144</td>\n",
       "      <td>47.5925</td>\n",
       "      <td>-122.295</td>\n",
       "      <td>1130</td>\n",
       "      <td>1159</td>\n",
       "    </tr>\n",
       "    <tr>\n",
       "      <th>15012</th>\n",
       "      <td>15012</td>\n",
       "      <td>20140529T000000</td>\n",
       "      <td>645000.0</td>\n",
       "      <td>3</td>\n",
       "      <td>3.25</td>\n",
       "      <td>1730</td>\n",
       "      <td>1229</td>\n",
       "      <td>2.0</td>\n",
       "      <td>0</td>\n",
       "      <td>2</td>\n",
       "      <td>3</td>\n",
       "      <td>9</td>\n",
       "      <td>1320</td>\n",
       "      <td>410</td>\n",
       "      <td>2008</td>\n",
       "      <td>0</td>\n",
       "      <td>98119</td>\n",
       "      <td>47.6374</td>\n",
       "      <td>-122.369</td>\n",
       "      <td>1710</td>\n",
       "      <td>1686</td>\n",
       "    </tr>\n",
       "    <tr>\n",
       "      <th>15013</th>\n",
       "      <td>15013</td>\n",
       "      <td>20141003T000000</td>\n",
       "      <td>594866.0</td>\n",
       "      <td>3</td>\n",
       "      <td>3.00</td>\n",
       "      <td>2780</td>\n",
       "      <td>6000</td>\n",
       "      <td>2.0</td>\n",
       "      <td>0</td>\n",
       "      <td>0</td>\n",
       "      <td>3</td>\n",
       "      <td>9</td>\n",
       "      <td>2780</td>\n",
       "      <td>0</td>\n",
       "      <td>2013</td>\n",
       "      <td>0</td>\n",
       "      <td>98065</td>\n",
       "      <td>47.5184</td>\n",
       "      <td>-121.886</td>\n",
       "      <td>2850</td>\n",
       "      <td>6000</td>\n",
       "    </tr>\n",
       "    <tr>\n",
       "      <th>15014</th>\n",
       "      <td>15014</td>\n",
       "      <td>20141112T000000</td>\n",
       "      <td>490000.0</td>\n",
       "      <td>3</td>\n",
       "      <td>2.25</td>\n",
       "      <td>1500</td>\n",
       "      <td>1290</td>\n",
       "      <td>2.0</td>\n",
       "      <td>0</td>\n",
       "      <td>0</td>\n",
       "      <td>3</td>\n",
       "      <td>8</td>\n",
       "      <td>1220</td>\n",
       "      <td>280</td>\n",
       "      <td>2006</td>\n",
       "      <td>0</td>\n",
       "      <td>98117</td>\n",
       "      <td>47.6785</td>\n",
       "      <td>-122.375</td>\n",
       "      <td>1460</td>\n",
       "      <td>1375</td>\n",
       "    </tr>\n",
       "    <tr>\n",
       "      <th>15015</th>\n",
       "      <td>15015</td>\n",
       "      <td>20140610T000000</td>\n",
       "      <td>399950.0</td>\n",
       "      <td>2</td>\n",
       "      <td>1.00</td>\n",
       "      <td>710</td>\n",
       "      <td>1157</td>\n",
       "      <td>2.0</td>\n",
       "      <td>0</td>\n",
       "      <td>0</td>\n",
       "      <td>4</td>\n",
       "      <td>7</td>\n",
       "      <td>710</td>\n",
       "      <td>0</td>\n",
       "      <td>1943</td>\n",
       "      <td>0</td>\n",
       "      <td>98102</td>\n",
       "      <td>47.6413</td>\n",
       "      <td>-122.329</td>\n",
       "      <td>1370</td>\n",
       "      <td>1173</td>\n",
       "    </tr>\n",
       "    <tr>\n",
       "      <th>15016</th>\n",
       "      <td>15016</td>\n",
       "      <td>20140828T000000</td>\n",
       "      <td>270000.0</td>\n",
       "      <td>3</td>\n",
       "      <td>2.50</td>\n",
       "      <td>1870</td>\n",
       "      <td>5000</td>\n",
       "      <td>2.0</td>\n",
       "      <td>0</td>\n",
       "      <td>0</td>\n",
       "      <td>3</td>\n",
       "      <td>7</td>\n",
       "      <td>1870</td>\n",
       "      <td>0</td>\n",
       "      <td>2009</td>\n",
       "      <td>0</td>\n",
       "      <td>98042</td>\n",
       "      <td>47.3339</td>\n",
       "      <td>-122.055</td>\n",
       "      <td>2170</td>\n",
       "      <td>5399</td>\n",
       "    </tr>\n",
       "    <tr>\n",
       "      <th>15017</th>\n",
       "      <td>15017</td>\n",
       "      <td>20141015T000000</td>\n",
       "      <td>505000.0</td>\n",
       "      <td>2</td>\n",
       "      <td>2.50</td>\n",
       "      <td>1430</td>\n",
       "      <td>1201</td>\n",
       "      <td>3.0</td>\n",
       "      <td>0</td>\n",
       "      <td>0</td>\n",
       "      <td>3</td>\n",
       "      <td>8</td>\n",
       "      <td>1430</td>\n",
       "      <td>0</td>\n",
       "      <td>2009</td>\n",
       "      <td>0</td>\n",
       "      <td>98107</td>\n",
       "      <td>47.6707</td>\n",
       "      <td>-122.381</td>\n",
       "      <td>1430</td>\n",
       "      <td>1249</td>\n",
       "    </tr>\n",
       "    <tr>\n",
       "      <th>15018</th>\n",
       "      <td>15018</td>\n",
       "      <td>20150305T000000</td>\n",
       "      <td>385000.0</td>\n",
       "      <td>3</td>\n",
       "      <td>2.50</td>\n",
       "      <td>1520</td>\n",
       "      <td>1488</td>\n",
       "      <td>3.0</td>\n",
       "      <td>0</td>\n",
       "      <td>0</td>\n",
       "      <td>3</td>\n",
       "      <td>8</td>\n",
       "      <td>1520</td>\n",
       "      <td>0</td>\n",
       "      <td>2006</td>\n",
       "      <td>0</td>\n",
       "      <td>98125</td>\n",
       "      <td>47.7337</td>\n",
       "      <td>-122.309</td>\n",
       "      <td>1520</td>\n",
       "      <td>1497</td>\n",
       "    </tr>\n",
       "    <tr>\n",
       "      <th>15019</th>\n",
       "      <td>15019</td>\n",
       "      <td>20141113T000000</td>\n",
       "      <td>414500.0</td>\n",
       "      <td>2</td>\n",
       "      <td>1.50</td>\n",
       "      <td>1210</td>\n",
       "      <td>1278</td>\n",
       "      <td>2.0</td>\n",
       "      <td>0</td>\n",
       "      <td>0</td>\n",
       "      <td>3</td>\n",
       "      <td>8</td>\n",
       "      <td>1020</td>\n",
       "      <td>190</td>\n",
       "      <td>2007</td>\n",
       "      <td>0</td>\n",
       "      <td>98117</td>\n",
       "      <td>47.6756</td>\n",
       "      <td>-122.375</td>\n",
       "      <td>1210</td>\n",
       "      <td>1118</td>\n",
       "    </tr>\n",
       "    <tr>\n",
       "      <th>15020</th>\n",
       "      <td>15020</td>\n",
       "      <td>20140910T000000</td>\n",
       "      <td>347500.0</td>\n",
       "      <td>3</td>\n",
       "      <td>2.50</td>\n",
       "      <td>2540</td>\n",
       "      <td>4760</td>\n",
       "      <td>2.0</td>\n",
       "      <td>0</td>\n",
       "      <td>0</td>\n",
       "      <td>3</td>\n",
       "      <td>8</td>\n",
       "      <td>2540</td>\n",
       "      <td>0</td>\n",
       "      <td>2010</td>\n",
       "      <td>0</td>\n",
       "      <td>98038</td>\n",
       "      <td>47.3452</td>\n",
       "      <td>-122.022</td>\n",
       "      <td>2540</td>\n",
       "      <td>4571</td>\n",
       "    </tr>\n",
       "    <tr>\n",
       "      <th>15021</th>\n",
       "      <td>15021</td>\n",
       "      <td>20140514T000000</td>\n",
       "      <td>1222500.0</td>\n",
       "      <td>4</td>\n",
       "      <td>3.50</td>\n",
       "      <td>4910</td>\n",
       "      <td>9444</td>\n",
       "      <td>1.5</td>\n",
       "      <td>0</td>\n",
       "      <td>0</td>\n",
       "      <td>3</td>\n",
       "      <td>11</td>\n",
       "      <td>3110</td>\n",
       "      <td>1800</td>\n",
       "      <td>2007</td>\n",
       "      <td>0</td>\n",
       "      <td>98074</td>\n",
       "      <td>47.6502</td>\n",
       "      <td>-122.066</td>\n",
       "      <td>4560</td>\n",
       "      <td>11063</td>\n",
       "    </tr>\n",
       "    <tr>\n",
       "      <th>15022</th>\n",
       "      <td>15022</td>\n",
       "      <td>20150317T000000</td>\n",
       "      <td>1088000.0</td>\n",
       "      <td>5</td>\n",
       "      <td>3.75</td>\n",
       "      <td>4170</td>\n",
       "      <td>8142</td>\n",
       "      <td>2.0</td>\n",
       "      <td>0</td>\n",
       "      <td>2</td>\n",
       "      <td>3</td>\n",
       "      <td>10</td>\n",
       "      <td>4170</td>\n",
       "      <td>0</td>\n",
       "      <td>2006</td>\n",
       "      <td>0</td>\n",
       "      <td>98056</td>\n",
       "      <td>47.5354</td>\n",
       "      <td>-122.181</td>\n",
       "      <td>3030</td>\n",
       "      <td>7980</td>\n",
       "    </tr>\n",
       "    <tr>\n",
       "      <th>15023</th>\n",
       "      <td>15023</td>\n",
       "      <td>20141017T000000</td>\n",
       "      <td>350000.0</td>\n",
       "      <td>4</td>\n",
       "      <td>2.75</td>\n",
       "      <td>2500</td>\n",
       "      <td>5995</td>\n",
       "      <td>2.0</td>\n",
       "      <td>0</td>\n",
       "      <td>0</td>\n",
       "      <td>3</td>\n",
       "      <td>8</td>\n",
       "      <td>2500</td>\n",
       "      <td>0</td>\n",
       "      <td>2008</td>\n",
       "      <td>0</td>\n",
       "      <td>98042</td>\n",
       "      <td>47.3749</td>\n",
       "      <td>-122.107</td>\n",
       "      <td>2530</td>\n",
       "      <td>5988</td>\n",
       "    </tr>\n",
       "    <tr>\n",
       "      <th>15024</th>\n",
       "      <td>15024</td>\n",
       "      <td>20140813T000000</td>\n",
       "      <td>679950.0</td>\n",
       "      <td>5</td>\n",
       "      <td>2.75</td>\n",
       "      <td>3600</td>\n",
       "      <td>9437</td>\n",
       "      <td>2.0</td>\n",
       "      <td>0</td>\n",
       "      <td>0</td>\n",
       "      <td>3</td>\n",
       "      <td>9</td>\n",
       "      <td>3600</td>\n",
       "      <td>0</td>\n",
       "      <td>2014</td>\n",
       "      <td>0</td>\n",
       "      <td>98059</td>\n",
       "      <td>47.4822</td>\n",
       "      <td>-122.131</td>\n",
       "      <td>3550</td>\n",
       "      <td>9421</td>\n",
       "    </tr>\n",
       "    <tr>\n",
       "      <th>15025</th>\n",
       "      <td>15025</td>\n",
       "      <td>20150421T000000</td>\n",
       "      <td>1575000.0</td>\n",
       "      <td>4</td>\n",
       "      <td>3.25</td>\n",
       "      <td>3410</td>\n",
       "      <td>10125</td>\n",
       "      <td>2.0</td>\n",
       "      <td>0</td>\n",
       "      <td>0</td>\n",
       "      <td>3</td>\n",
       "      <td>10</td>\n",
       "      <td>3410</td>\n",
       "      <td>0</td>\n",
       "      <td>2007</td>\n",
       "      <td>0</td>\n",
       "      <td>98040</td>\n",
       "      <td>47.5653</td>\n",
       "      <td>-122.223</td>\n",
       "      <td>2290</td>\n",
       "      <td>10125</td>\n",
       "    </tr>\n",
       "    <tr>\n",
       "      <th>15026</th>\n",
       "      <td>15026</td>\n",
       "      <td>20140915T000000</td>\n",
       "      <td>810000.0</td>\n",
       "      <td>4</td>\n",
       "      <td>3.00</td>\n",
       "      <td>3990</td>\n",
       "      <td>7838</td>\n",
       "      <td>2.0</td>\n",
       "      <td>0</td>\n",
       "      <td>0</td>\n",
       "      <td>3</td>\n",
       "      <td>9</td>\n",
       "      <td>3990</td>\n",
       "      <td>0</td>\n",
       "      <td>2003</td>\n",
       "      <td>0</td>\n",
       "      <td>98053</td>\n",
       "      <td>47.6857</td>\n",
       "      <td>-122.046</td>\n",
       "      <td>3370</td>\n",
       "      <td>6814</td>\n",
       "    </tr>\n",
       "    <tr>\n",
       "      <th>15027</th>\n",
       "      <td>15027</td>\n",
       "      <td>20141015T000000</td>\n",
       "      <td>1537000.0</td>\n",
       "      <td>5</td>\n",
       "      <td>3.75</td>\n",
       "      <td>4470</td>\n",
       "      <td>8088</td>\n",
       "      <td>2.0</td>\n",
       "      <td>0</td>\n",
       "      <td>0</td>\n",
       "      <td>3</td>\n",
       "      <td>11</td>\n",
       "      <td>4470</td>\n",
       "      <td>0</td>\n",
       "      <td>2008</td>\n",
       "      <td>0</td>\n",
       "      <td>98004</td>\n",
       "      <td>47.6321</td>\n",
       "      <td>-122.200</td>\n",
       "      <td>2780</td>\n",
       "      <td>8964</td>\n",
       "    </tr>\n",
       "    <tr>\n",
       "      <th>15028</th>\n",
       "      <td>15028</td>\n",
       "      <td>20150407T000000</td>\n",
       "      <td>467000.0</td>\n",
       "      <td>3</td>\n",
       "      <td>2.50</td>\n",
       "      <td>1425</td>\n",
       "      <td>1179</td>\n",
       "      <td>3.0</td>\n",
       "      <td>0</td>\n",
       "      <td>0</td>\n",
       "      <td>3</td>\n",
       "      <td>8</td>\n",
       "      <td>1425</td>\n",
       "      <td>0</td>\n",
       "      <td>2008</td>\n",
       "      <td>0</td>\n",
       "      <td>98125</td>\n",
       "      <td>47.6963</td>\n",
       "      <td>-122.318</td>\n",
       "      <td>1285</td>\n",
       "      <td>1253</td>\n",
       "    </tr>\n",
       "    <tr>\n",
       "      <th>15029</th>\n",
       "      <td>15029</td>\n",
       "      <td>20140825T000000</td>\n",
       "      <td>507250.0</td>\n",
       "      <td>3</td>\n",
       "      <td>2.50</td>\n",
       "      <td>2270</td>\n",
       "      <td>5536</td>\n",
       "      <td>2.0</td>\n",
       "      <td>0</td>\n",
       "      <td>0</td>\n",
       "      <td>3</td>\n",
       "      <td>8</td>\n",
       "      <td>2270</td>\n",
       "      <td>0</td>\n",
       "      <td>2003</td>\n",
       "      <td>0</td>\n",
       "      <td>98065</td>\n",
       "      <td>47.5389</td>\n",
       "      <td>-121.881</td>\n",
       "      <td>2270</td>\n",
       "      <td>5731</td>\n",
       "    </tr>\n",
       "    <tr>\n",
       "      <th>15030</th>\n",
       "      <td>15030</td>\n",
       "      <td>20141014T000000</td>\n",
       "      <td>610685.0</td>\n",
       "      <td>4</td>\n",
       "      <td>2.50</td>\n",
       "      <td>2520</td>\n",
       "      <td>6023</td>\n",
       "      <td>2.0</td>\n",
       "      <td>0</td>\n",
       "      <td>0</td>\n",
       "      <td>3</td>\n",
       "      <td>9</td>\n",
       "      <td>2520</td>\n",
       "      <td>0</td>\n",
       "      <td>2014</td>\n",
       "      <td>0</td>\n",
       "      <td>98056</td>\n",
       "      <td>47.5137</td>\n",
       "      <td>-122.167</td>\n",
       "      <td>2520</td>\n",
       "      <td>6023</td>\n",
       "    </tr>\n",
       "    <tr>\n",
       "      <th>15031</th>\n",
       "      <td>15031</td>\n",
       "      <td>20150326T000000</td>\n",
       "      <td>1007500.0</td>\n",
       "      <td>4</td>\n",
       "      <td>3.50</td>\n",
       "      <td>3510</td>\n",
       "      <td>7200</td>\n",
       "      <td>2.0</td>\n",
       "      <td>0</td>\n",
       "      <td>0</td>\n",
       "      <td>3</td>\n",
       "      <td>9</td>\n",
       "      <td>2600</td>\n",
       "      <td>910</td>\n",
       "      <td>2009</td>\n",
       "      <td>0</td>\n",
       "      <td>98136</td>\n",
       "      <td>47.5537</td>\n",
       "      <td>-122.398</td>\n",
       "      <td>2050</td>\n",
       "      <td>6200</td>\n",
       "    </tr>\n",
       "    <tr>\n",
       "      <th>15032</th>\n",
       "      <td>15032</td>\n",
       "      <td>20140521T000000</td>\n",
       "      <td>360000.0</td>\n",
       "      <td>3</td>\n",
       "      <td>2.50</td>\n",
       "      <td>1530</td>\n",
       "      <td>1131</td>\n",
       "      <td>3.0</td>\n",
       "      <td>0</td>\n",
       "      <td>0</td>\n",
       "      <td>3</td>\n",
       "      <td>8</td>\n",
       "      <td>1530</td>\n",
       "      <td>0</td>\n",
       "      <td>2009</td>\n",
       "      <td>0</td>\n",
       "      <td>98103</td>\n",
       "      <td>47.6993</td>\n",
       "      <td>-122.346</td>\n",
       "      <td>1530</td>\n",
       "      <td>1509</td>\n",
       "    </tr>\n",
       "    <tr>\n",
       "      <th>15033</th>\n",
       "      <td>15033</td>\n",
       "      <td>20150223T000000</td>\n",
       "      <td>400000.0</td>\n",
       "      <td>4</td>\n",
       "      <td>2.50</td>\n",
       "      <td>2310</td>\n",
       "      <td>5813</td>\n",
       "      <td>2.0</td>\n",
       "      <td>0</td>\n",
       "      <td>0</td>\n",
       "      <td>3</td>\n",
       "      <td>8</td>\n",
       "      <td>2310</td>\n",
       "      <td>0</td>\n",
       "      <td>2014</td>\n",
       "      <td>0</td>\n",
       "      <td>98146</td>\n",
       "      <td>47.5107</td>\n",
       "      <td>-122.362</td>\n",
       "      <td>1830</td>\n",
       "      <td>7200</td>\n",
       "    </tr>\n",
       "    <tr>\n",
       "      <th>15034</th>\n",
       "      <td>15034</td>\n",
       "      <td>20141015T000000</td>\n",
       "      <td>325000.0</td>\n",
       "      <td>2</td>\n",
       "      <td>0.75</td>\n",
       "      <td>1020</td>\n",
       "      <td>1076</td>\n",
       "      <td>2.0</td>\n",
       "      <td>0</td>\n",
       "      <td>0</td>\n",
       "      <td>3</td>\n",
       "      <td>7</td>\n",
       "      <td>1020</td>\n",
       "      <td>0</td>\n",
       "      <td>2008</td>\n",
       "      <td>0</td>\n",
       "      <td>98144</td>\n",
       "      <td>47.5941</td>\n",
       "      <td>-122.299</td>\n",
       "      <td>1020</td>\n",
       "      <td>1357</td>\n",
       "    </tr>\n",
       "  </tbody>\n",
       "</table>\n",
       "<p>15035 rows × 21 columns</p>\n",
       "</div>"
      ],
      "text/plain": [
       "          id             date      price  bedrooms  bathrooms  sqft_living  \\\n",
       "0          0  20141013T000000   221900.0         3       1.00         1180   \n",
       "1          1  20150225T000000   180000.0         2       1.00          770   \n",
       "2          2  20150218T000000   510000.0         3       2.00         1680   \n",
       "3          3  20140627T000000   257500.0         3       2.25         1715   \n",
       "4          4  20150115T000000   291850.0         3       1.50         1060   \n",
       "5          5  20150403T000000   662500.0         3       2.50         3560   \n",
       "6          6  20140527T000000   468000.0         2       1.00         1160   \n",
       "7          7  20140528T000000   310000.0         3       1.00         1430   \n",
       "8          8  20141007T000000   400000.0         3       1.75         1370   \n",
       "9          9  20150312T000000   530000.0         5       2.00         1810   \n",
       "10        10  20150124T000000   650000.0         4       3.00         2950   \n",
       "11        11  20140731T000000   395000.0         3       2.00         1890   \n",
       "12        12  20140529T000000   485000.0         4       1.00         1600   \n",
       "13        13  20141205T000000   189000.0         2       1.00         1200   \n",
       "14        14  20150424T000000   230000.0         3       1.00         1250   \n",
       "15        15  20140514T000000   385000.0         4       1.75         1620   \n",
       "16        16  20140826T000000  2000000.0         3       2.75         3050   \n",
       "17        17  20140516T000000   252700.0         2       1.50         1070   \n",
       "18        18  20141120T000000   329000.0         3       2.25         2450   \n",
       "19        19  20141103T000000   233000.0         3       2.00         1710   \n",
       "20        20  20140626T000000   937000.0         3       1.75         2450   \n",
       "21        21  20141201T000000   667000.0         3       1.00         1400   \n",
       "22        22  20141110T000000   580500.0         3       2.50         2320   \n",
       "23        23  20140624T000000   687500.0         4       1.75         2330   \n",
       "24        24  20141110T000000   535000.0         3       1.00         1090   \n",
       "...      ...              ...        ...       ...        ...          ...   \n",
       "15010  15010  20150123T000000   579000.0         4       3.25         1900   \n",
       "15011  15011  20140623T000000   362500.0         2       1.50          940   \n",
       "15012  15012  20140529T000000   645000.0         3       3.25         1730   \n",
       "15013  15013  20141003T000000   594866.0         3       3.00         2780   \n",
       "15014  15014  20141112T000000   490000.0         3       2.25         1500   \n",
       "15015  15015  20140610T000000   399950.0         2       1.00          710   \n",
       "15016  15016  20140828T000000   270000.0         3       2.50         1870   \n",
       "15017  15017  20141015T000000   505000.0         2       2.50         1430   \n",
       "15018  15018  20150305T000000   385000.0         3       2.50         1520   \n",
       "15019  15019  20141113T000000   414500.0         2       1.50         1210   \n",
       "15020  15020  20140910T000000   347500.0         3       2.50         2540   \n",
       "15021  15021  20140514T000000  1222500.0         4       3.50         4910   \n",
       "15022  15022  20150317T000000  1088000.0         5       3.75         4170   \n",
       "15023  15023  20141017T000000   350000.0         4       2.75         2500   \n",
       "15024  15024  20140813T000000   679950.0         5       2.75         3600   \n",
       "15025  15025  20150421T000000  1575000.0         4       3.25         3410   \n",
       "15026  15026  20140915T000000   810000.0         4       3.00         3990   \n",
       "15027  15027  20141015T000000  1537000.0         5       3.75         4470   \n",
       "15028  15028  20150407T000000   467000.0         3       2.50         1425   \n",
       "15029  15029  20140825T000000   507250.0         3       2.50         2270   \n",
       "15030  15030  20141014T000000   610685.0         4       2.50         2520   \n",
       "15031  15031  20150326T000000  1007500.0         4       3.50         3510   \n",
       "15032  15032  20140521T000000   360000.0         3       2.50         1530   \n",
       "15033  15033  20150223T000000   400000.0         4       2.50         2310   \n",
       "15034  15034  20141015T000000   325000.0         2       0.75         1020   \n",
       "\n",
       "       sqft_lot  floors  waterfront  view  condition  grade  sqft_above  \\\n",
       "0          5650     1.0           0     0          3      7        1180   \n",
       "1         10000     1.0           0     0          3      6         770   \n",
       "2          8080     1.0           0     0          3      8        1680   \n",
       "3          6819     2.0           0     0          3      7        1715   \n",
       "4          9711     1.0           0     0          3      7        1060   \n",
       "5          9796     1.0           0     0          3      8        1860   \n",
       "6          6000     1.0           0     0          4      7         860   \n",
       "7         19901     1.5           0     0          4      7        1430   \n",
       "8          9680     1.0           0     0          4      7        1370   \n",
       "9          4850     1.5           0     0          3      7        1810   \n",
       "10         5000     2.0           0     3          3      9        1980   \n",
       "11        14040     2.0           0     0          3      7        1890   \n",
       "12         4300     1.5           0     0          4      7        1600   \n",
       "13         9850     1.0           0     0          4      7        1200   \n",
       "14         9774     1.0           0     0          4      7        1250   \n",
       "15         4980     1.0           0     0          4      7         860   \n",
       "16        44867     1.0           0     4          3      9        2330   \n",
       "17         9643     1.0           0     0          3      7        1070   \n",
       "18         6500     2.0           0     0          4      8        2450   \n",
       "19         4697     1.5           0     0          5      6        1710   \n",
       "20         2691     2.0           0     0          3      8        1750   \n",
       "21         1581     1.5           0     0          5      8        1400   \n",
       "22         3980     2.0           0     0          3      8        2320   \n",
       "23         5000     1.5           0     0          4      7        1510   \n",
       "24         3000     1.5           0     0          4      8        1090   \n",
       "...         ...     ...         ...   ...        ...    ...         ...   \n",
       "15010      2631     2.0           0     0          3      9        1250   \n",
       "15011      1768     2.0           0     0          3      7         940   \n",
       "15012      1229     2.0           0     2          3      9        1320   \n",
       "15013      6000     2.0           0     0          3      9        2780   \n",
       "15014      1290     2.0           0     0          3      8        1220   \n",
       "15015      1157     2.0           0     0          4      7         710   \n",
       "15016      5000     2.0           0     0          3      7        1870   \n",
       "15017      1201     3.0           0     0          3      8        1430   \n",
       "15018      1488     3.0           0     0          3      8        1520   \n",
       "15019      1278     2.0           0     0          3      8        1020   \n",
       "15020      4760     2.0           0     0          3      8        2540   \n",
       "15021      9444     1.5           0     0          3     11        3110   \n",
       "15022      8142     2.0           0     2          3     10        4170   \n",
       "15023      5995     2.0           0     0          3      8        2500   \n",
       "15024      9437     2.0           0     0          3      9        3600   \n",
       "15025     10125     2.0           0     0          3     10        3410   \n",
       "15026      7838     2.0           0     0          3      9        3990   \n",
       "15027      8088     2.0           0     0          3     11        4470   \n",
       "15028      1179     3.0           0     0          3      8        1425   \n",
       "15029      5536     2.0           0     0          3      8        2270   \n",
       "15030      6023     2.0           0     0          3      9        2520   \n",
       "15031      7200     2.0           0     0          3      9        2600   \n",
       "15032      1131     3.0           0     0          3      8        1530   \n",
       "15033      5813     2.0           0     0          3      8        2310   \n",
       "15034      1076     2.0           0     0          3      7        1020   \n",
       "\n",
       "       sqft_basement  yr_built  yr_renovated  zipcode      lat     long  \\\n",
       "0                  0      1955             0    98178  47.5112 -122.257   \n",
       "1                  0      1933             0    98028  47.7379 -122.233   \n",
       "2                  0      1987             0    98074  47.6168 -122.045   \n",
       "3                  0      1995             0    98003  47.3097 -122.327   \n",
       "4                  0      1963             0    98198  47.4095 -122.315   \n",
       "5               1700      1965             0    98007  47.6007 -122.145   \n",
       "6                300      1942             0    98115  47.6900 -122.292   \n",
       "7                  0      1927             0    98028  47.7558 -122.229   \n",
       "8                  0      1977             0    98074  47.6127 -122.045   \n",
       "9                  0      1900             0    98107  47.6700 -122.394   \n",
       "10               970      1979             0    98126  47.5714 -122.375   \n",
       "11                 0      1994             0    98019  47.7277 -121.962   \n",
       "12                 0      1916             0    98103  47.6648 -122.343   \n",
       "13                 0      1921             0    98002  47.3089 -122.210   \n",
       "14                 0      1969             0    98003  47.3343 -122.306   \n",
       "15               760      1947             0    98133  47.7025 -122.341   \n",
       "16               720      1968             0    98040  47.5316 -122.233   \n",
       "17                 0      1985             0    98030  47.3533 -122.166   \n",
       "18                 0      1985             0    98030  47.3739 -122.172   \n",
       "19                 0      1941             0    98002  47.3048 -122.218   \n",
       "20               700      1915             0    98119  47.6386 -122.360   \n",
       "21                 0      1909             0    98112  47.6221 -122.314   \n",
       "22                 0      2003             0    98027  47.5391 -122.070   \n",
       "23               820      1929             0    98117  47.6823 -122.368   \n",
       "24                 0      1929             0    98117  47.6889 -122.375   \n",
       "...              ...       ...           ...      ...      ...      ...   \n",
       "15010            650      2014             0    98144  47.5869 -122.311   \n",
       "15011              0      2009             0    98144  47.5925 -122.295   \n",
       "15012            410      2008             0    98119  47.6374 -122.369   \n",
       "15013              0      2013             0    98065  47.5184 -121.886   \n",
       "15014            280      2006             0    98117  47.6785 -122.375   \n",
       "15015              0      1943             0    98102  47.6413 -122.329   \n",
       "15016              0      2009             0    98042  47.3339 -122.055   \n",
       "15017              0      2009             0    98107  47.6707 -122.381   \n",
       "15018              0      2006             0    98125  47.7337 -122.309   \n",
       "15019            190      2007             0    98117  47.6756 -122.375   \n",
       "15020              0      2010             0    98038  47.3452 -122.022   \n",
       "15021           1800      2007             0    98074  47.6502 -122.066   \n",
       "15022              0      2006             0    98056  47.5354 -122.181   \n",
       "15023              0      2008             0    98042  47.3749 -122.107   \n",
       "15024              0      2014             0    98059  47.4822 -122.131   \n",
       "15025              0      2007             0    98040  47.5653 -122.223   \n",
       "15026              0      2003             0    98053  47.6857 -122.046   \n",
       "15027              0      2008             0    98004  47.6321 -122.200   \n",
       "15028              0      2008             0    98125  47.6963 -122.318   \n",
       "15029              0      2003             0    98065  47.5389 -121.881   \n",
       "15030              0      2014             0    98056  47.5137 -122.167   \n",
       "15031            910      2009             0    98136  47.5537 -122.398   \n",
       "15032              0      2009             0    98103  47.6993 -122.346   \n",
       "15033              0      2014             0    98146  47.5107 -122.362   \n",
       "15034              0      2008             0    98144  47.5941 -122.299   \n",
       "\n",
       "       sqft_living15  sqft_lot15  \n",
       "0               1340        5650  \n",
       "1               2720        8062  \n",
       "2               1800        7503  \n",
       "3               2238        6819  \n",
       "4               1650        9711  \n",
       "5               2210        8925  \n",
       "6               1330        6000  \n",
       "7               1780       12697  \n",
       "8               1370       10208  \n",
       "9               1360        4850  \n",
       "10              2140        4000  \n",
       "11              1890       14018  \n",
       "12              1610        4300  \n",
       "13              1060        5095  \n",
       "14              1280        8850  \n",
       "15              1400        4980  \n",
       "16              4110       20336  \n",
       "17              1220        8386  \n",
       "18              2200        6865  \n",
       "19              1030        4705  \n",
       "20              1760        3573  \n",
       "21              1860        3861  \n",
       "22              2580        3980  \n",
       "23              1460        5000  \n",
       "24              1570        5080  \n",
       "...              ...         ...  \n",
       "15010           1710        4502  \n",
       "15011           1130        1159  \n",
       "15012           1710        1686  \n",
       "15013           2850        6000  \n",
       "15014           1460        1375  \n",
       "15015           1370        1173  \n",
       "15016           2170        5399  \n",
       "15017           1430        1249  \n",
       "15018           1520        1497  \n",
       "15019           1210        1118  \n",
       "15020           2540        4571  \n",
       "15021           4560       11063  \n",
       "15022           3030        7980  \n",
       "15023           2530        5988  \n",
       "15024           3550        9421  \n",
       "15025           2290       10125  \n",
       "15026           3370        6814  \n",
       "15027           2780        8964  \n",
       "15028           1285        1253  \n",
       "15029           2270        5731  \n",
       "15030           2520        6023  \n",
       "15031           2050        6200  \n",
       "15032           1530        1509  \n",
       "15033           1830        7200  \n",
       "15034           1020        1357  \n",
       "\n",
       "[15035 rows x 21 columns]"
      ]
     },
     "execution_count": 4,
     "metadata": {},
     "output_type": "execute_result"
    }
   ],
   "source": [
    "train_set"
   ]
  },
  {
   "cell_type": "markdown",
   "metadata": {
    "hideCode": false,
    "hidePrompt": false
   },
   "source": [
    "### 1-1. Null Data 확인"
   ]
  },
  {
   "cell_type": "code",
   "execution_count": 5,
   "metadata": {
    "hideCode": false,
    "hidePrompt": false,
    "scrolled": true
   },
   "outputs": [
    {
     "name": "stdout",
     "output_type": "stream",
     "text": [
      "<class 'pandas.core.frame.DataFrame'>\n",
      "RangeIndex: 15035 entries, 0 to 15034\n",
      "Data columns (total 21 columns):\n",
      "id               15035 non-null int64\n",
      "date             15035 non-null object\n",
      "price            15035 non-null float64\n",
      "bedrooms         15035 non-null int64\n",
      "bathrooms        15035 non-null float64\n",
      "sqft_living      15035 non-null int64\n",
      "sqft_lot         15035 non-null int64\n",
      "floors           15035 non-null float64\n",
      "waterfront       15035 non-null int64\n",
      "view             15035 non-null int64\n",
      "condition        15035 non-null int64\n",
      "grade            15035 non-null int64\n",
      "sqft_above       15035 non-null int64\n",
      "sqft_basement    15035 non-null int64\n",
      "yr_built         15035 non-null int64\n",
      "yr_renovated     15035 non-null int64\n",
      "zipcode          15035 non-null int64\n",
      "lat              15035 non-null float64\n",
      "long             15035 non-null float64\n",
      "sqft_living15    15035 non-null int64\n",
      "sqft_lot15       15035 non-null int64\n",
      "dtypes: float64(5), int64(15), object(1)\n",
      "memory usage: 2.4+ MB\n"
     ]
    }
   ],
   "source": [
    "train_set.info()"
   ]
  },
  {
   "cell_type": "markdown",
   "metadata": {},
   "source": [
    "### Target 분포"
   ]
  },
  {
   "cell_type": "markdown",
   "metadata": {},
   "source": [
    "- target value 의 분포가 정규분포와는 거리가 멉니다.\n",
    "- skewness 가 0보다 큼을 분포 모양이 왼쪽으로 치우쳐져 있는 형태를 통해서도 확인할 수 있으며, 수치들을 통해서도 확인할 수 있습니다.\n",
    "- kurtosis 역시 매우 뾰족한 분포 모양을 통해서도 알 수 있고, 그 수치가 나타남을 확인 할 수 있습니다."
   ]
  },
  {
   "cell_type": "code",
   "execution_count": 6,
   "metadata": {},
   "outputs": [
    {
     "name": "stdout",
     "output_type": "stream",
     "text": [
      "skewness:  4.290252396939529\n",
      "kurtosis: 40.15491919350329\n"
     ]
    },
    {
     "data": {
      "text/plain": [
       "<matplotlib.axes._subplots.AxesSubplot at 0x126c58898>"
      ]
     },
     "execution_count": 6,
     "metadata": {},
     "output_type": "execute_result"
    },
    {
     "name": "stderr",
     "output_type": "stream",
     "text": [
      "/Users/emjayahn/.pyenv/versions/3.7.0/envs/dss/lib/python3.7/site-packages/matplotlib/font_manager.py:1238: UserWarning: findfont: Font family ['AppleMyungjo'] not found. Falling back to DejaVu Sans.\n",
      "  (prop.get_family(), self.defaultFamily[fontext]))\n",
      "/Users/emjayahn/.pyenv/versions/3.7.0/envs/dss/lib/python3.7/site-packages/matplotlib/font_manager.py:1238: UserWarning: findfont: Font family ['AppleMyungjo'] not found. Falling back to DejaVu Sans.\n",
      "  (prop.get_family(), self.defaultFamily[fontext]))\n"
     ]
    },
    {
     "data": {
      "image/png": "[encoded data removed]",
      "text/plain": [
       "<Figure size 1440x720 with 1 Axes>"
      ]
     },
     "metadata": {
      "needs_background": "light"
     },
     "output_type": "display_data"
    }
   ],
   "source": [
    "print(\"skewness: \", train_set['price'].skew())\n",
    "print(\"kurtosis:\", train_set['price'].kurt())\n",
    "\n",
    "plt.figure(figsize=(20, 10))\n",
    "sns.distplot(train_set['price'])"
   ]
  },
  {
   "cell_type": "markdown",
   "metadata": {},
   "source": [
    "- 이런 현상을 좀 완화해 주기 위해, **log** 를 씌워 target value 를 잡아보겠습니다."
   ]
  },
  {
   "cell_type": "code",
   "execution_count": 7,
   "metadata": {
    "scrolled": true
   },
   "outputs": [
    {
     "data": {
      "text/plain": [
       "<matplotlib.axes._subplots.AxesSubplot at 0x12a437b38>"
      ]
     },
     "execution_count": 7,
     "metadata": {},
     "output_type": "execute_result"
    },
    {
     "data": {
      "image/png": "[encoded data removed]",
      "text/plain": [
       "<Figure size 1440x720 with 1 Axes>"
      ]
     },
     "metadata": {
      "needs_background": "light"
     },
     "output_type": "display_data"
    }
   ],
   "source": [
    "plt.figure(figsize=(20, 10))\n",
    "sns.distplot(np.log(train_set['price']))"
   ]
  },
  {
   "cell_type": "code",
   "execution_count": 8,
   "metadata": {},
   "outputs": [],
   "source": [
    "train_set['price'] = np.log(train_set['price'])"
   ]
  },
  {
   "cell_type": "markdown",
   "metadata": {
    "hideCode": false,
    "hidePrompt": false
   },
   "source": [
    "### Correlation 확인"
   ]
  },
  {
   "cell_type": "code",
   "execution_count": 9,
   "metadata": {
    "hideCode": false,
    "hidePrompt": false,
    "scrolled": true
   },
   "outputs": [
    {
     "data": {
      "text/plain": [
       "price            1.000000\n",
       "grade            0.707412\n",
       "sqft_living      0.697907\n",
       "sqft_living15    0.621800\n",
       "sqft_above       0.607197\n",
       "bathrooms        0.552000\n",
       "lat              0.444417\n",
       "bedrooms         0.359946\n",
       "view             0.347505\n",
       "floors           0.317810\n",
       "sqft_basement    0.314378\n",
       "waterfront       0.172580\n",
       "yr_renovated     0.127533\n",
       "sqft_lot         0.108946\n",
       "sqft_lot15       0.096976\n",
       "yr_built         0.076294\n",
       "long             0.054362\n",
       "condition        0.042947\n",
       "id               0.035940\n",
       "zipcode         -0.039195\n",
       "Name: price, dtype: float64"
      ]
     },
     "execution_count": 9,
     "metadata": {},
     "output_type": "execute_result"
    }
   ],
   "source": [
    "train_set.corr()['price'].sort_values(ascending=False)"
   ]
  },
  {
   "cell_type": "markdown",
   "metadata": {},
   "source": [
    "## FEATURE ANALYSIS"
   ]
  },
  {
   "cell_type": "markdown",
   "metadata": {},
   "source": [
    "### `grade`\n",
    "- King County grading 시스템 기준으로 매긴 집의 등급\n",
    "- train_set 과 test_set 의 grade feature 의 unique 값을 찍어보면, 다음과 같습니다.\n",
    "    - train_set 은 1등급~13등급 (2등급 제외), test_set에서는 1, 2 등급 제외\n"
   ]
  },
  {
   "cell_type": "code",
   "execution_count": 10,
   "metadata": {},
   "outputs": [
    {
     "data": {
      "text/plain": [
       "[1, 3, 4, 5, 6, 7, 8, 9, 10, 11, 12, 13]"
      ]
     },
     "execution_count": 10,
     "metadata": {},
     "output_type": "execute_result"
    }
   ],
   "source": [
    "sorted(train_set['grade'].unique())"
   ]
  },
  {
   "cell_type": "code",
   "execution_count": 11,
   "metadata": {},
   "outputs": [
    {
     "data": {
      "text/plain": [
       "[3, 4, 5, 6, 7, 8, 9, 10, 11, 12, 13]"
      ]
     },
     "execution_count": 11,
     "metadata": {},
     "output_type": "execute_result"
    }
   ],
   "source": [
    "sorted(test_set['grade'].unique())\n"
   ]
  },
  {
   "cell_type": "markdown",
   "metadata": {},
   "source": [
    "- `grade` column 을 범주형 데이터로 볼것인가, 실수형 데이터로 볼것인가 고민입니다.\n",
    "    - 실수형 데이터로 보려고 합니다. 범주형 데이터로 보기 위해서는 각 카테고리마다 그 데이터 갯수가 train 되기에 충분한 양의 데이터가 필요한데 그렇지 못하기 떄문입니다."
   ]
  },
  {
   "cell_type": "code",
   "execution_count": 12,
   "metadata": {},
   "outputs": [
    {
     "name": "stdout",
     "output_type": "stream",
     "text": [
      "train_set 에서 grade 1의 데이터 갯수: 1\n",
      "train_set 에서 grade 2의 데이터 갯수: 0\n",
      "train_set 에서 grade 3의 데이터 갯수: 2\n",
      "train_set 에서 grade 4의 데이터 갯수: 23\n",
      "train_set 에서 grade 5의 데이터 갯수: 174\n",
      "train_set 에서 grade 6의 데이터 갯수: 1406\n",
      "train_set 에서 grade 7의 데이터 갯수: 6228\n",
      "train_set 에서 grade 8의 데이터 갯수: 4207\n",
      "train_set 에서 grade 9의 데이터 갯수: 1855\n",
      "train_set 에서 grade 10의 데이터 갯수: 781\n",
      "train_set 에서 grade 11의 데이터 갯수: 288\n",
      "train_set 에서 grade 12의 데이터 갯수: 61\n",
      "train_set 에서 grade 13의 데이터 갯수: 9\n",
      "\n",
      "\n",
      "test_set 에서 grade 1의 데이터 갯수: 0\n",
      "test_set 에서 grade 2의 데이터 갯수: 0\n",
      "test_set 에서 grade 3의 데이터 갯수: 1\n",
      "test_set 에서 grade 4의 데이터 갯수: 6\n",
      "test_set 에서 grade 5의 데이터 갯수: 62\n",
      "test_set 에서 grade 6의 데이터 갯수: 611\n",
      "test_set 에서 grade 7의 데이터 갯수: 2701\n",
      "test_set 에서 grade 8의 데이터 갯수: 1843\n",
      "test_set 에서 grade 9의 데이터 갯수: 754\n",
      "test_set 에서 grade 10의 데이터 갯수: 350\n",
      "test_set 에서 grade 11의 데이터 갯수: 108\n",
      "test_set 에서 grade 12의 데이터 갯수: 28\n",
      "test_set 에서 grade 13의 데이터 갯수: 4\n"
     ]
    }
   ],
   "source": [
    "for i in range(1, 14):\n",
    "    print(\"train_set 에서 grade {}의 데이터 갯수:\".format(i), len(train_set[train_set['grade']==i]))\n",
    "print('\\n')\n",
    "for i in range(1, 14):\n",
    "    print(\"test_set 에서 grade {}의 데이터 갯수:\".format(i), len(test_set[test_set['grade']==i]))"
   ]
  },
  {
   "cell_type": "code",
   "execution_count": 13,
   "metadata": {
    "scrolled": false
   },
   "outputs": [
    {
     "data": {
      "text/plain": [
       "<matplotlib.axes._subplots.AxesSubplot at 0x1258e7400>"
      ]
     },
     "execution_count": 13,
     "metadata": {},
     "output_type": "execute_result"
    },
    {
     "data": {
      "image/png": "[encoded data removed]",
      "text/plain": [
       "<Figure size 432x288 with 1 Axes>"
      ]
     },
     "metadata": {
      "needs_background": "light"
     },
     "output_type": "display_data"
    }
   ],
   "source": [
    "sns.distplot(train_set['grade'])"
   ]
  },
  {
   "cell_type": "markdown",
   "metadata": {},
   "source": [
    "- `price`와 `grade`는 pearson correlation 에 의해 양의 상관관계를 가지고 있음을 확인할 수 있습니다. 0.71.\n",
    "- 아래 그림에서도 확인이 가능합니다."
   ]
  },
  {
   "cell_type": "code",
   "execution_count": 14,
   "metadata": {
    "scrolled": true
   },
   "outputs": [
    {
     "data": {
      "image/png": "[encoded data removed]",
      "text/plain": [
       "<Figure size 432x288 with 1 Axes>"
      ]
     },
     "metadata": {
      "needs_background": "light"
     },
     "output_type": "display_data"
    }
   ],
   "source": [
    "plt.scatter(train_set['grade'], train_set['price'])\n",
    "plt.title(\"GRADE vs PRICE\")\n",
    "plt.xlabel('grade')\n",
    "plt.ylabel('price')\n",
    "plt.show()"
   ]
  },
  {
   "cell_type": "markdown",
   "metadata": {},
   "source": [
    "### `sqft_living` & `sqft_living15` & `sqft_above`\n",
    "- 주거 공간의 평방 피트(면적)과 2015년 기준 주거 공간의 평방 피트를 의미합니다.\n",
    "- 지하실을 제외한 평방 피트를 의미합니다.\n",
    "- 세 feature 의 분포 모양은 서로 비슷함을 확인해 볼 수 있습니다."
   ]
  },
  {
   "cell_type": "code",
   "execution_count": 15,
   "metadata": {
    "scrolled": false
   },
   "outputs": [
    {
     "data": {
      "image/png": "[encoded data removed]",
      "text/plain": [
       "<Figure size 1440x576 with 3 Axes>"
      ]
     },
     "metadata": {
      "needs_background": "light"
     },
     "output_type": "display_data"
    }
   ],
   "source": [
    "plt.figure(figsize=(20, 8))\n",
    "plt.subplot(131)\n",
    "plt.title(\"Distribution of 'sqft_living'\")\n",
    "sns.distplot(train_set['sqft_living'])\n",
    "\n",
    "plt.subplot(132)\n",
    "plt.title(\"Distribution of 'sqft_living15'\")\n",
    "sns.distplot(train_set['sqft_living15'])\n",
    "\n",
    "plt.subplot(133)\n",
    "plt.title(\"Distribution of 'sqft_above'\")\n",
    "sns.distplot(train_set['sqft_above'])\n",
    "\n",
    "plt.show()"
   ]
  },
  {
   "cell_type": "markdown",
   "metadata": {},
   "source": [
    "- 독립 변수간 서로의 pearson correlation 매우 높은 것을 확인 할 수 있습니다.\n",
    "- 변수간 상호의존적인 경우, overfitting을 방지하기 위해 두 변수를 추후에 다뤄줄 필요가 있겠습니다."
   ]
  },
  {
   "cell_type": "code",
   "execution_count": 55,
   "metadata": {
    "scrolled": true
   },
   "outputs": [
    {
     "data": {
      "text/html": [
       "<div>\n",
       "<style scoped>\n",
       "    .dataframe tbody tr th:only-of-type {\n",
       "        vertical-align: middle;\n",
       "    }\n",
       "\n",
       "    .dataframe tbody tr th {\n",
       "        vertical-align: top;\n",
       "    }\n",
       "\n",
       "    .dataframe thead th {\n",
       "        text-align: right;\n",
       "    }\n",
       "</style>\n",
       "<table border=\"1\" class=\"dataframe\">\n",
       "  <thead>\n",
       "    <tr style=\"text-align: right;\">\n",
       "      <th></th>\n",
       "      <th>sqft_living</th>\n",
       "      <th>sqft_living15</th>\n",
       "      <th>sqft_above</th>\n",
       "      <th>sqft_basement</th>\n",
       "    </tr>\n",
       "  </thead>\n",
       "  <tbody>\n",
       "    <tr>\n",
       "      <th>sqft_living</th>\n",
       "      <td>1.000000</td>\n",
       "      <td>0.760271</td>\n",
       "      <td>0.878736</td>\n",
       "      <td>0.434017</td>\n",
       "    </tr>\n",
       "    <tr>\n",
       "      <th>sqft_living15</th>\n",
       "      <td>0.760271</td>\n",
       "      <td>1.000000</td>\n",
       "      <td>0.737795</td>\n",
       "      <td>0.198380</td>\n",
       "    </tr>\n",
       "    <tr>\n",
       "      <th>sqft_above</th>\n",
       "      <td>0.878736</td>\n",
       "      <td>0.737795</td>\n",
       "      <td>1.000000</td>\n",
       "      <td>-0.048623</td>\n",
       "    </tr>\n",
       "    <tr>\n",
       "      <th>sqft_basement</th>\n",
       "      <td>0.434017</td>\n",
       "      <td>0.198380</td>\n",
       "      <td>-0.048623</td>\n",
       "      <td>1.000000</td>\n",
       "    </tr>\n",
       "  </tbody>\n",
       "</table>\n",
       "</div>"
      ],
      "text/plain": [
       "               sqft_living  sqft_living15  sqft_above  sqft_basement\n",
       "sqft_living       1.000000       0.760271    0.878736       0.434017\n",
       "sqft_living15     0.760271       1.000000    0.737795       0.198380\n",
       "sqft_above        0.878736       0.737795    1.000000      -0.048623\n",
       "sqft_basement     0.434017       0.198380   -0.048623       1.000000"
      ]
     },
     "execution_count": 55,
     "metadata": {},
     "output_type": "execute_result"
    }
   ],
   "source": [
    "train_set[['sqft_living', 'sqft_living15', 'sqft_above', 'sqft_basement']].corr()"
   ]
  },
  {
   "cell_type": "markdown",
   "metadata": {},
   "source": [
    "### `bathrooms`\n",
    "- 침실 갯수당 화장실의 수"
   ]
  },
  {
   "cell_type": "code",
   "execution_count": 17,
   "metadata": {
    "scrolled": true
   },
   "outputs": [
    {
     "data": {
      "text/plain": [
       "<matplotlib.axes._subplots.AxesSubplot at 0x12a9b7828>"
      ]
     },
     "execution_count": 17,
     "metadata": {},
     "output_type": "execute_result"
    },
    {
     "data": {
      "image/png": "[encoded data removed]",
      "text/plain": [
       "<Figure size 720x576 with 2 Axes>"
      ]
     },
     "metadata": {
      "needs_background": "light"
     },
     "output_type": "display_data"
    }
   ],
   "source": [
    "plt.figure(figsize=(10, 8))\n",
    "plt.subplot(211)\n",
    "sns.distplot(train_set['bathrooms'])\n",
    "plt.subplot(212)\n",
    "sns.distplot(np.log1p(train_set['bathrooms']))"
   ]
  },
  {
   "cell_type": "markdown",
   "metadata": {},
   "source": [
    "### `lat` & `long`\n",
    "- 위도 & 경도\n",
    "- correlation 을 비교 했을 때, 위도의 경우 0.4, 경도의 경우 0.05 를 갖는 것을 볼 수 있다.\n",
    "- 같은 경도에 위치했을 때, 위도 값이 클 수록 집 값이 높다는 의미로 볼수 있겠다."
   ]
  },
  {
   "cell_type": "code",
   "execution_count": 152,
   "metadata": {
    "scrolled": true
   },
   "outputs": [
    {
     "name": "stdout",
     "output_type": "stream",
     "text": [
      "-121.315 47.7776\n"
     ]
    }
   ],
   "source": [
    "print(max(train_set['long']), max(train_set['lat']))"
   ]
  },
  {
   "cell_type": "code",
   "execution_count": 153,
   "metadata": {
    "scrolled": false
   },
   "outputs": [
    {
     "data": {
      "image/png": "[encoded data removed]",
      "text/plain": [
       "<Figure size 432x288 with 1 Axes>"
      ]
     },
     "metadata": {
      "needs_background": "light"
     },
     "output_type": "display_data"
    }
   ],
   "source": [
    "plt.scatter(train_set['long'], train_set['lat'])\n",
    "plt.scatter(test_set['long'], test_set['lat'])\n",
    "plt.show()"
   ]
  },
  {
   "cell_type": "code",
   "execution_count": 174,
   "metadata": {
    "scrolled": true
   },
   "outputs": [],
   "source": [
    "import geopandas as gpd\n",
    "from shapely.geometry import Point\n",
    "countries = gpd.read_file(gpd.datasets.get_path('naturalearth_lowres'))\n",
    "cities = gpd.read_file(gpd.datasets.get_path('naturalearth_cities'))"
   ]
  },
  {
   "cell_type": "code",
   "execution_count": null,
   "metadata": {},
   "outputs": [],
   "source": [
    "geometry = [Point(xy) for xy in zip(train_set['long'], train_set['lat'])]\n",
    "geo_df = gpd.GeoDataFrame(train_set, geometry = geometry)\n",
    "usa = gpd.read_file('./maps/states_21basic/states.shp')"
   ]
  },
  {
   "cell_type": "code",
   "execution_count": 156,
   "metadata": {
    "scrolled": true
   },
   "outputs": [
    {
     "data": {
      "text/plain": [
       "<matplotlib.axes._subplots.AxesSubplot at 0x12ef3ebe0>"
      ]
     },
     "execution_count": 156,
     "metadata": {},
     "output_type": "execute_result"
    },
    {
     "data": {
      "image/png": "[encoded data removed]",
      "text/plain": [
       "<Figure size 432x288 with 1 Axes>"
      ]
     },
     "metadata": {
      "needs_background": "light"
     },
     "output_type": "display_data"
    }
   ],
   "source": [
    "geo_df.plot()"
   ]
  },
  {
   "cell_type": "code",
   "execution_count": 166,
   "metadata": {},
   "outputs": [
    {
     "data": {
      "text/plain": [
       "<matplotlib.axes._subplots.AxesSubplot at 0x1300316d8>"
      ]
     },
     "execution_count": 166,
     "metadata": {},
     "output_type": "execute_result"
    },
    {
     "data": {
      "image/png": "[encoded data removed]",
      "text/plain": [
       "<Figure size 720x720 with 1 Axes>"
      ]
     },
     "metadata": {
      "needs_background": "light"
     },
     "output_type": "display_data"
    }
   ],
   "source": [
    "df = geopandas.read_file(geopandas.datasets.get_path('nybb'))\n",
    "ax = df.plot(figsize=(10, 10), alpha=0.5, edgecolor='k')\n",
    "geo_df.plot(ax = ax)"
   ]
  },
  {
   "cell_type": "markdown",
   "metadata": {},
   "source": [
    "### `view`\n",
    "- 집이 얼마나 좋아 보이는지의 정도"
   ]
  },
  {
   "cell_type": "code",
   "execution_count": 19,
   "metadata": {
    "scrolled": true
   },
   "outputs": [
    {
     "name": "stdout",
     "output_type": "stream",
     "text": [
      "[0 3 4 2 1]\n",
      "[0 2 4 1 3]\n"
     ]
    }
   ],
   "source": [
    "print(train_set['view'].unique())\n",
    "print(test_set['view'].unique())"
   ]
  },
  {
   "cell_type": "code",
   "execution_count": 20,
   "metadata": {
    "scrolled": true
   },
   "outputs": [
    {
     "name": "stdout",
     "output_type": "stream",
     "text": [
      "view 값이 0인 data수: 13548\n",
      "view 값이 1인 data수: 241\n",
      "view 값이 2인 data수: 665\n",
      "view 값이 3인 data수: 373\n",
      "view 값이 4인 data수: 208\n",
      "\n",
      "\n",
      "view 값이 0인 data수: 5837\n",
      "view 값이 1인 data수: 91\n",
      "view 값이 2인 data수: 297\n",
      "view 값이 3인 data수: 134\n",
      "view 값이 4인 data수: 109\n"
     ]
    }
   ],
   "source": [
    "for i in range(5):\n",
    "    print(\"view 값이 {}인 data수:\".format(i), len(train_set[train_set['view']==i]))\n",
    "print('\\n')\n",
    "for i in range(5):\n",
    "    print(\"view 값이 {}인 data수:\".format(i), len(test_set[test_set['view']==i]))        "
   ]
  },
  {
   "cell_type": "code",
   "execution_count": 21,
   "metadata": {},
   "outputs": [
    {
     "data": {
      "text/plain": [
       "<matplotlib.axes._subplots.AxesSubplot at 0x12ad41b00>"
      ]
     },
     "execution_count": 21,
     "metadata": {},
     "output_type": "execute_result"
    },
    {
     "data": {
      "image/png": "[encoded data removed]",
      "text/plain": [
       "<Figure size 432x288 with 1 Axes>"
      ]
     },
     "metadata": {
      "needs_background": "light"
     },
     "output_type": "display_data"
    }
   ],
   "source": [
    "train_set['view'].hist()"
   ]
  },
  {
   "cell_type": "code",
   "execution_count": 22,
   "metadata": {},
   "outputs": [
    {
     "name": "stderr",
     "output_type": "stream",
     "text": [
      "/Users/emjayahn/.pyenv/versions/3.7.0/envs/dss/lib/python3.7/site-packages/seaborn/regression.py:546: UserWarning: The `size` paramter has been renamed to `height`; please update your code.\n",
      "  warnings.warn(msg, UserWarning)\n",
      "/Users/emjayahn/.pyenv/versions/3.7.0/envs/dss/lib/python3.7/site-packages/matplotlib/font_manager.py:1238: UserWarning: findfont: Font family ['AppleMyungjo'] not found. Falling back to DejaVu Sans.\n",
      "  (prop.get_family(), self.defaultFamily[fontext]))\n"
     ]
    },
    {
     "data": {
      "text/plain": [
       "<seaborn.axisgrid.FacetGrid at 0x12afd9b70>"
      ]
     },
     "execution_count": 22,
     "metadata": {},
     "output_type": "execute_result"
    },
    {
     "data": {
      "image/png": "[encoded data removed]",
      "text/plain": [
       "<Figure size 622.6x576 with 1 Axes>"
      ]
     },
     "metadata": {
      "needs_background": "light"
     },
     "output_type": "display_data"
    }
   ],
   "source": [
    "sns.lmplot(x=\"sqft_living\", y=\"price\", hue=\"view\", data=train_set, palette = 'magma', size = 8)"
   ]
  },
  {
   "cell_type": "markdown",
   "metadata": {},
   "source": [
    "### `floors`\n",
    "- 집의 층수"
   ]
  },
  {
   "cell_type": "code",
   "execution_count": 23,
   "metadata": {
    "scrolled": true
   },
   "outputs": [
    {
     "name": "stdout",
     "output_type": "stream",
     "text": [
      "train_set [1.0, 1.5, 2.0, 2.5, 3.0, 3.5]\n",
      "test_set [1.0, 1.5, 2.0, 2.5, 3.0, 3.5]\n"
     ]
    }
   ],
   "source": [
    "print(\"train_set\", sorted(train_set['floors'].unique()))\n",
    "print(\"test_set\", sorted(test_set['floors'].unique()))"
   ]
  },
  {
   "cell_type": "code",
   "execution_count": 24,
   "metadata": {
    "scrolled": true
   },
   "outputs": [
    {
     "data": {
      "image/png": "[encoded data removed]",
      "text/plain": [
       "<Figure size 432x288 with 1 Axes>"
      ]
     },
     "metadata": {
      "needs_background": "light"
     },
     "output_type": "display_data"
    }
   ],
   "source": [
    "plt.title(\"feature 'floors' histogram in train_set and test_set\")\n",
    "train_set['floors'].hist()\n",
    "test_set['floors'].hist()\n",
    "plt.show()"
   ]
  },
  {
   "cell_type": "code",
   "execution_count": 25,
   "metadata": {
    "scrolled": true
   },
   "outputs": [
    {
     "name": "stdout",
     "output_type": "stream",
     "text": [
      "floors 값이 1.0인 data수: 7361\n",
      "floors 값이 1.5인 data수: 1330\n",
      "floors 값이 2.0인 data수: 5810\n",
      "floors 값이 2.5인 data수: 113\n",
      "floors 값이 3.0인 data수: 417\n",
      "floors 값이 3.5인 data수: 4\n",
      "\n",
      "\n",
      "floors 값이 1.0인 data수: 3251\n",
      "floors 값이 1.5인 data수: 565\n",
      "floors 값이 2.0인 data수: 2406\n",
      "floors 값이 2.5인 data수: 48\n",
      "floors 값이 3.0인 data수: 194\n",
      "floors 값이 3.5인 data수: 4\n"
     ]
    }
   ],
   "source": [
    "for i in sorted(train_set['floors'].unique()):\n",
    "    print(\"floors 값이 {}인 data수:\".format(i), len(train_set[train_set['floors']==i]))\n",
    "print('\\n')\n",
    "for i in sorted(test_set['floors'].unique()):\n",
    "    print(\"floors 값이 {}인 data수:\".format(i), len(test_set[test_set['floors']==i]))        "
   ]
  },
  {
   "cell_type": "code",
   "execution_count": 26,
   "metadata": {
    "scrolled": true
   },
   "outputs": [
    {
     "name": "stderr",
     "output_type": "stream",
     "text": [
      "/Users/emjayahn/.pyenv/versions/3.7.0/envs/dss/lib/python3.7/site-packages/seaborn/regression.py:546: UserWarning: The `size` paramter has been renamed to `height`; please update your code.\n",
      "  warnings.warn(msg, UserWarning)\n"
     ]
    },
    {
     "data": {
      "text/plain": [
       "<seaborn.axisgrid.FacetGrid at 0x12b1ec2e8>"
      ]
     },
     "execution_count": 26,
     "metadata": {},
     "output_type": "execute_result"
    },
    {
     "data": {
      "image/png": "[encoded data removed]",
      "text/plain": [
       "<Figure size 632.975x576 with 1 Axes>"
      ]
     },
     "metadata": {
      "needs_background": "light"
     },
     "output_type": "display_data"
    }
   ],
   "source": [
    "sns.lmplot(x=\"sqft_living\", y=\"price\", hue=\"floors\", data=train_set, palette = 'magma', size = 8)"
   ]
  },
  {
   "cell_type": "markdown",
   "metadata": {},
   "source": [
    "### `sqft_basement`\n",
    "- 지하실의 평방피트\n",
    "- 최소 0 ~ 4130 (피트) 까지 분포되어있는 feature 이다."
   ]
  },
  {
   "cell_type": "code",
   "execution_count": 58,
   "metadata": {},
   "outputs": [
    {
     "data": {
      "text/plain": [
       "count    15035.000000\n",
       "mean       289.632059\n",
       "std        440.663284\n",
       "min          0.000000\n",
       "25%          0.000000\n",
       "50%          0.000000\n",
       "75%        550.000000\n",
       "max       4130.000000\n",
       "Name: sqft_basement, dtype: float64"
      ]
     },
     "execution_count": 58,
     "metadata": {},
     "output_type": "execute_result"
    }
   ],
   "source": [
    "train_set['sqft_basement'].describe()"
   ]
  },
  {
   "cell_type": "code",
   "execution_count": 57,
   "metadata": {
    "scrolled": false
   },
   "outputs": [
    {
     "data": {
      "text/plain": [
       "<matplotlib.axes._subplots.AxesSubplot at 0x12ca148d0>"
      ]
     },
     "execution_count": 57,
     "metadata": {},
     "output_type": "execute_result"
    },
    {
     "data": {
      "image/png": "[encoded data removed]",
      "text/plain": [
       "<Figure size 432x288 with 1 Axes>"
      ]
     },
     "metadata": {
      "needs_background": "light"
     },
     "output_type": "display_data"
    }
   ],
   "source": [
    "train_set['sqft_basement'].hist()"
   ]
  },
  {
   "cell_type": "markdown",
   "metadata": {},
   "source": [
    "- `sqft_basement`는 feature 간 correlation 이 큰 것이 없다."
   ]
  },
  {
   "cell_type": "code",
   "execution_count": 59,
   "metadata": {},
   "outputs": [
    {
     "data": {
      "text/html": [
       "<div>\n",
       "<style scoped>\n",
       "    .dataframe tbody tr th:only-of-type {\n",
       "        vertical-align: middle;\n",
       "    }\n",
       "\n",
       "    .dataframe tbody tr th {\n",
       "        vertical-align: top;\n",
       "    }\n",
       "\n",
       "    .dataframe thead th {\n",
       "        text-align: right;\n",
       "    }\n",
       "</style>\n",
       "<table border=\"1\" class=\"dataframe\">\n",
       "  <thead>\n",
       "    <tr style=\"text-align: right;\">\n",
       "      <th></th>\n",
       "      <th>sqft_living</th>\n",
       "      <th>sqft_living15</th>\n",
       "      <th>sqft_above</th>\n",
       "      <th>sqft_basement</th>\n",
       "      <th>sqft_lot</th>\n",
       "      <th>sqft_lot15</th>\n",
       "    </tr>\n",
       "  </thead>\n",
       "  <tbody>\n",
       "    <tr>\n",
       "      <th>sqft_living</th>\n",
       "      <td>1.000000</td>\n",
       "      <td>0.760271</td>\n",
       "      <td>0.878736</td>\n",
       "      <td>0.434017</td>\n",
       "      <td>0.176500</td>\n",
       "      <td>0.184176</td>\n",
       "    </tr>\n",
       "    <tr>\n",
       "      <th>sqft_living15</th>\n",
       "      <td>0.760271</td>\n",
       "      <td>1.000000</td>\n",
       "      <td>0.737795</td>\n",
       "      <td>0.198380</td>\n",
       "      <td>0.147562</td>\n",
       "      <td>0.183599</td>\n",
       "    </tr>\n",
       "    <tr>\n",
       "      <th>sqft_above</th>\n",
       "      <td>0.878736</td>\n",
       "      <td>0.737795</td>\n",
       "      <td>1.000000</td>\n",
       "      <td>-0.048623</td>\n",
       "      <td>0.186242</td>\n",
       "      <td>0.194226</td>\n",
       "    </tr>\n",
       "    <tr>\n",
       "      <th>sqft_basement</th>\n",
       "      <td>0.434017</td>\n",
       "      <td>0.198380</td>\n",
       "      <td>-0.048623</td>\n",
       "      <td>1.000000</td>\n",
       "      <td>0.017818</td>\n",
       "      <td>0.018813</td>\n",
       "    </tr>\n",
       "    <tr>\n",
       "      <th>sqft_lot</th>\n",
       "      <td>0.176500</td>\n",
       "      <td>0.147562</td>\n",
       "      <td>0.186242</td>\n",
       "      <td>0.017818</td>\n",
       "      <td>1.000000</td>\n",
       "      <td>0.728458</td>\n",
       "    </tr>\n",
       "    <tr>\n",
       "      <th>sqft_lot15</th>\n",
       "      <td>0.184176</td>\n",
       "      <td>0.183599</td>\n",
       "      <td>0.194226</td>\n",
       "      <td>0.018813</td>\n",
       "      <td>0.728458</td>\n",
       "      <td>1.000000</td>\n",
       "    </tr>\n",
       "  </tbody>\n",
       "</table>\n",
       "</div>"
      ],
      "text/plain": [
       "               sqft_living  sqft_living15  sqft_above  sqft_basement  \\\n",
       "sqft_living       1.000000       0.760271    0.878736       0.434017   \n",
       "sqft_living15     0.760271       1.000000    0.737795       0.198380   \n",
       "sqft_above        0.878736       0.737795    1.000000      -0.048623   \n",
       "sqft_basement     0.434017       0.198380   -0.048623       1.000000   \n",
       "sqft_lot          0.176500       0.147562    0.186242       0.017818   \n",
       "sqft_lot15        0.184176       0.183599    0.194226       0.018813   \n",
       "\n",
       "               sqft_lot  sqft_lot15  \n",
       "sqft_living    0.176500    0.184176  \n",
       "sqft_living15  0.147562    0.183599  \n",
       "sqft_above     0.186242    0.194226  \n",
       "sqft_basement  0.017818    0.018813  \n",
       "sqft_lot       1.000000    0.728458  \n",
       "sqft_lot15     0.728458    1.000000  "
      ]
     },
     "execution_count": 59,
     "metadata": {},
     "output_type": "execute_result"
    }
   ],
   "source": [
    "train_set[['sqft_living', 'sqft_living15', 'sqft_above', 'sqft_basement', 'sqft_lot', 'sqft_lot15']].corr()"
   ]
  },
  {
   "cell_type": "markdown",
   "metadata": {},
   "source": [
    "### `waterfront`\n",
    "- 집의 전방에 강이 흐르는지 유무\n",
    "- 변수형 데이터의 갯수가 14928 : 107 개로 차이가 크다"
   ]
  },
  {
   "cell_type": "code",
   "execution_count": 73,
   "metadata": {
    "scrolled": true
   },
   "outputs": [
    {
     "data": {
      "text/plain": [
       "0    14928\n",
       "1      107\n",
       "Name: waterfront, dtype: int64"
      ]
     },
     "execution_count": 73,
     "metadata": {},
     "output_type": "execute_result"
    }
   ],
   "source": [
    "train_set['waterfront'].value_counts()"
   ]
  },
  {
   "cell_type": "markdown",
   "metadata": {},
   "source": [
    "- grade vs price 의 기울기가 waterfront 가 다를 때 크게 달라지지 않는다.  bias 의 차이가 나타난다."
   ]
  },
  {
   "cell_type": "code",
   "execution_count": 76,
   "metadata": {
    "scrolled": true
   },
   "outputs": [
    {
     "data": {
      "text/plain": [
       "<seaborn.axisgrid.FacetGrid at 0x12ca506a0>"
      ]
     },
     "execution_count": 76,
     "metadata": {},
     "output_type": "execute_result"
    },
    {
     "data": {
      "image/png": "[encoded data removed]",
      "text/plain": [
       "<Figure size 422.925x360 with 1 Axes>"
      ]
     },
     "metadata": {
      "needs_background": "light"
     },
     "output_type": "display_data"
    }
   ],
   "source": [
    "sns.lmplot(x='grade', y='price', hue='waterfront', data=train_set)"
   ]
  },
  {
   "cell_type": "markdown",
   "metadata": {},
   "source": [
    "- waterfront 값을 category 로 넣어도 될 것 같은 느낌"
   ]
  },
  {
   "cell_type": "code",
   "execution_count": 77,
   "metadata": {
    "scrolled": true
   },
   "outputs": [
    {
     "data": {
      "text/plain": [
       "<seaborn.axisgrid.FacetGrid at 0x12d00fc18>"
      ]
     },
     "execution_count": 77,
     "metadata": {},
     "output_type": "execute_result"
    },
    {
     "data": {
      "image/png": "[encoded data removed]",
      "text/plain": [
       "<Figure size 422.925x360 with 1 Axes>"
      ]
     },
     "metadata": {
      "needs_background": "light"
     },
     "output_type": "display_data"
    }
   ],
   "source": [
    "sns.lmplot(x='sqft_living', y='price', hue='waterfront', data=train_set)"
   ]
  },
  {
   "cell_type": "markdown",
   "metadata": {},
   "source": [
    "### `yr_built` & `yr_renovated`\n",
    "- 집을 재건축한 년도"
   ]
  },
  {
   "cell_type": "code",
   "execution_count": 83,
   "metadata": {},
   "outputs": [
    {
     "data": {
      "text/plain": [
       "array([1955, 1933, 1987, 1995, 1963, 1965, 1942, 1927, 1977, 1900, 1979,\n",
       "       1994, 1916, 1921, 1969, 1947, 1968, 1985, 1941, 1915, 1909, 2003,\n",
       "       1929, 1981, 1930, 1904, 1996, 1984, 2014, 1922, 1966, 1950, 2008,\n",
       "       1959, 1954, 1989, 2005, 1973, 1972, 1986, 1956, 2002, 1992, 1964,\n",
       "       1952, 1925, 1961, 2006, 1988, 2001, 1962, 1939, 1967, 1975, 1910,\n",
       "       1983, 1991, 1905, 1980, 1971, 2010, 1945, 1924, 1978, 1926, 1923,\n",
       "       1990, 2000, 1976, 1949, 1999, 1901, 1993, 1948, 1920, 1997, 1957,\n",
       "       2004, 1960, 1940, 1918, 1974, 1911, 1937, 1982, 1908, 1931, 1998,\n",
       "       1928, 1943, 1907, 2013, 1953, 2012, 2007, 1912, 2011, 1917, 1958,\n",
       "       1946, 1951, 1932, 1944, 2009, 1903, 1970, 1938, 1919, 1906, 1936,\n",
       "       1913, 1902, 1914, 2015, 1935, 1934])"
      ]
     },
     "execution_count": 83,
     "metadata": {},
     "output_type": "execute_result"
    }
   ],
   "source": [
    "train_set['yr_built'].unique()"
   ]
  },
  {
   "cell_type": "code",
   "execution_count": 78,
   "metadata": {
    "scrolled": false
   },
   "outputs": [
    {
     "data": {
      "text/plain": [
       "array([   0, 2002, 1999, 1991, 1978, 2005, 2008, 2003, 1994, 1984, 1954,\n",
       "       2014, 2011, 1974, 1983, 2013, 1990, 1957, 1977, 1981, 1995, 2000,\n",
       "       1986, 1992, 2004, 2007, 1987, 2006, 1985, 1971, 1945, 1979, 1997,\n",
       "       2010, 1969, 1948, 2009, 1970, 2015, 1989, 2001, 1968, 2012, 1963,\n",
       "       1993, 1962, 1972, 1980, 1998, 1955, 1996, 1950, 1956, 1982, 1988,\n",
       "       1940, 1946, 1975, 1964, 1958, 1976, 1973, 1967, 1965, 1944])"
      ]
     },
     "execution_count": 78,
     "metadata": {},
     "output_type": "execute_result"
    }
   ],
   "source": [
    "train_set['yr_renovated'].unique()"
   ]
  },
  {
   "cell_type": "code",
   "execution_count": 86,
   "metadata": {
    "scrolled": true
   },
   "outputs": [
    {
     "data": {
      "text/plain": [
       "2014    405\n",
       "2006    325\n",
       "2004    305\n",
       "2005    302\n",
       "2003    284\n",
       "2007    281\n",
       "1977    272\n",
       "1978    265\n",
       "1968    254\n",
       "2008    247\n",
       "1967    242\n",
       "1979    235\n",
       "1959    225\n",
       "1990    225\n",
       "1987    223\n",
       "2001    221\n",
       "1989    210\n",
       "1954    209\n",
       "1962    202\n",
       "1947    193\n",
       "1955    193\n",
       "1969    192\n",
       "1950    189\n",
       "1988    185\n",
       "1999    182\n",
       "       ... \n",
       "1919     59\n",
       "1900     59\n",
       "1923     56\n",
       "1912     52\n",
       "1921     51\n",
       "1911     50\n",
       "1905     50\n",
       "1931     49\n",
       "1937     49\n",
       "1907     44\n",
       "1915     43\n",
       "1913     43\n",
       "1938     42\n",
       "1917     42\n",
       "1914     40\n",
       "1904     36\n",
       "1903     30\n",
       "1936     29\n",
       "2015     28\n",
       "1932     24\n",
       "1901     21\n",
       "1933     20\n",
       "1902     20\n",
       "1935     19\n",
       "1934     11\n",
       "Name: yr_built, Length: 116, dtype: int64"
      ]
     },
     "execution_count": 86,
     "metadata": {},
     "output_type": "execute_result"
    }
   ],
   "source": [
    "train_set['yr_built'].value_counts()"
   ]
  },
  {
   "cell_type": "markdown",
   "metadata": {},
   "source": [
    "- 앞서, null 값이 없다고 생각했었지만, yr_renovated 의 경우 대부분의 값들이 0값임을 알수 있다. \n",
    "- 이는 애초에 재건축이 되지 않았거나, 혹은 재건축이 되었더라도, 기록을 못했기때문에 일어난 일이라고 생각하는 것이 일감이지만, 좀더 살펴볼 필요가 있다."
   ]
  },
  {
   "cell_type": "code",
   "execution_count": 82,
   "metadata": {
    "scrolled": true
   },
   "outputs": [
    {
     "data": {
      "text/plain": [
       "0       14404\n",
       "2014       71\n",
       "2013       28\n",
       "2003       25\n",
       "2007       25\n",
       "2000       25\n",
       "2005       24\n",
       "1990       18\n",
       "2004       17\n",
       "2006       17\n",
       "2001       15\n",
       "2009       15\n",
       "1991       15\n",
       "1989       15\n",
       "2002       15\n",
       "1998       14\n",
       "1984       14\n",
       "1995       14\n",
       "1983       13\n",
       "1994       13\n",
       "1999       13\n",
       "1985       13\n",
       "2010       12\n",
       "2008       11\n",
       "1987       11\n",
       "        ...  \n",
       "1981        4\n",
       "1975        4\n",
       "1980        4\n",
       "1970        4\n",
       "1964        4\n",
       "1955        3\n",
       "1972        3\n",
       "1965        3\n",
       "1956        3\n",
       "1969        3\n",
       "1967        2\n",
       "1974        2\n",
       "1957        2\n",
       "1958        2\n",
       "1962        2\n",
       "1971        2\n",
       "1973        2\n",
       "1948        1\n",
       "1950        1\n",
       "1945        1\n",
       "1946        1\n",
       "1954        1\n",
       "1976        1\n",
       "1944        1\n",
       "1940        1\n",
       "Name: yr_renovated, Length: 65, dtype: int64"
      ]
     },
     "execution_count": 82,
     "metadata": {},
     "output_type": "execute_result"
    }
   ],
   "source": [
    "train_set['yr_renovated'].value_counts()"
   ]
  },
  {
   "cell_type": "markdown",
   "metadata": {},
   "source": [
    "- 경험칙상, 재건축을 하게 되면 지어진 날짜보다는 재건축된 날짜가 아파트의 연식을 계산하는데 더 주요한 변수가 된다.\n",
    "    - 따라서, yr_renovated 와 yr_built 를 합치는 새로운 column 을 생각해 볼 수 있다.\n",
    "    - 재건축을 하지 않아, yr_renovated 의 값이 0 인 경우, yr_built 를 가져오고,\n",
    "    - 재건축을 한 경우에는 yr_renovated 의 값을 가져오는 column 을 생성해보는 것이다."
   ]
  },
  {
   "cell_type": "code",
   "execution_count": 88,
   "metadata": {
    "scrolled": false
   },
   "outputs": [
    {
     "data": {
      "text/plain": [
       "<matplotlib.collections.PathCollection at 0x12be62da0>"
      ]
     },
     "execution_count": 88,
     "metadata": {},
     "output_type": "execute_result"
    },
    {
     "data": {
      "image/png": "[encoded data removed]",
      "text/plain": [
       "<Figure size 432x288 with 1 Axes>"
      ]
     },
     "metadata": {
      "needs_background": "light"
     },
     "output_type": "display_data"
    }
   ],
   "source": [
    "plt.xlabel(\"yr_built\")\n",
    "plt.ylabel(\"yr_renovated\")\n",
    "plt.scatter(train_set['yr_built'], train_set['yr_renovated'])"
   ]
  },
  {
   "cell_type": "markdown",
   "metadata": {},
   "source": [
    "- 가장 최근에 지어진 주택 중, 재건축이 된 주택(위 그래프 상에서 오른쪽 상단에 있는 주택)을 살펴보겠습니다.\n",
    "    - 2003년에 지어진 건물이 2009년에 재건축 된 것을 볼 수 있습니다."
   ]
  },
  {
   "cell_type": "code",
   "execution_count": 89,
   "metadata": {
    "scrolled": true
   },
   "outputs": [
    {
     "data": {
      "text/html": [
       "<div>\n",
       "<style scoped>\n",
       "    .dataframe tbody tr th:only-of-type {\n",
       "        vertical-align: middle;\n",
       "    }\n",
       "\n",
       "    .dataframe tbody tr th {\n",
       "        vertical-align: top;\n",
       "    }\n",
       "\n",
       "    .dataframe thead th {\n",
       "        text-align: right;\n",
       "    }\n",
       "</style>\n",
       "<table border=\"1\" class=\"dataframe\">\n",
       "  <thead>\n",
       "    <tr style=\"text-align: right;\">\n",
       "      <th></th>\n",
       "      <th>id</th>\n",
       "      <th>date</th>\n",
       "      <th>price</th>\n",
       "      <th>bedrooms</th>\n",
       "      <th>bathrooms</th>\n",
       "      <th>sqft_living</th>\n",
       "      <th>sqft_lot</th>\n",
       "      <th>floors</th>\n",
       "      <th>waterfront</th>\n",
       "      <th>view</th>\n",
       "      <th>condition</th>\n",
       "      <th>grade</th>\n",
       "      <th>sqft_above</th>\n",
       "      <th>sqft_basement</th>\n",
       "      <th>yr_built</th>\n",
       "      <th>yr_renovated</th>\n",
       "      <th>zipcode</th>\n",
       "      <th>lat</th>\n",
       "      <th>long</th>\n",
       "      <th>sqft_living15</th>\n",
       "      <th>sqft_lot15</th>\n",
       "      <th>year</th>\n",
       "      <th>month</th>\n",
       "      <th>day</th>\n",
       "    </tr>\n",
       "  </thead>\n",
       "  <tbody>\n",
       "    <tr>\n",
       "      <th>12638</th>\n",
       "      <td>12638</td>\n",
       "      <td>20141022</td>\n",
       "      <td>13.623139</td>\n",
       "      <td>4</td>\n",
       "      <td>3.5</td>\n",
       "      <td>3620</td>\n",
       "      <td>6499</td>\n",
       "      <td>2.5</td>\n",
       "      <td>0</td>\n",
       "      <td>0</td>\n",
       "      <td>3</td>\n",
       "      <td>9</td>\n",
       "      <td>3620</td>\n",
       "      <td>0</td>\n",
       "      <td>2003</td>\n",
       "      <td>2009</td>\n",
       "      <td>98177</td>\n",
       "      <td>47.7326</td>\n",
       "      <td>-122.36</td>\n",
       "      <td>2330</td>\n",
       "      <td>7200</td>\n",
       "      <td>2014</td>\n",
       "      <td>10</td>\n",
       "      <td>22</td>\n",
       "    </tr>\n",
       "  </tbody>\n",
       "</table>\n",
       "</div>"
      ],
      "text/plain": [
       "          id      date      price  bedrooms  bathrooms  sqft_living  sqft_lot  \\\n",
       "12638  12638  20141022  13.623139         4        3.5         3620      6499   \n",
       "\n",
       "       floors  waterfront  view  condition  grade  sqft_above  sqft_basement  \\\n",
       "12638     2.5           0     0          3      9        3620              0   \n",
       "\n",
       "       yr_built  yr_renovated  zipcode      lat    long  sqft_living15  \\\n",
       "12638      2003          2009    98177  47.7326 -122.36           2330   \n",
       "\n",
       "       sqft_lot15  year  month  day  \n",
       "12638        7200  2014     10   22  "
      ]
     },
     "execution_count": 89,
     "metadata": {},
     "output_type": "execute_result"
    }
   ],
   "source": [
    "train_set[(train_set['yr_built']>=2000 ) & (train_set['yr_renovated']!=0)]"
   ]
  },
  {
   "cell_type": "code",
   "execution_count": 103,
   "metadata": {},
   "outputs": [],
   "source": [
    "train_set['yr_combine'] = train_set.apply(lambda df: max(df['yr_built'], df['yr_renovated']), axis=1)"
   ]
  },
  {
   "cell_type": "code",
   "execution_count": 120,
   "metadata": {
    "scrolled": true
   },
   "outputs": [
    {
     "data": {
      "image/png": "[encoded data removed]",
      "text/plain": [
       "<Figure size 720x432 with 3 Axes>"
      ]
     },
     "metadata": {
      "needs_background": "light"
     },
     "output_type": "display_data"
    },
    {
     "data": {
      "image/png": "[encoded data removed]",
      "text/plain": [
       "<Figure size 432x288 with 1 Axes>"
      ]
     },
     "metadata": {
      "needs_background": "light"
     },
     "output_type": "display_data"
    }
   ],
   "source": [
    "from sklearn.preprocessing import scale\n",
    "plt.figure(figsize=(10, 6))\n",
    "\n",
    "plt.subplot(131)\n",
    "sns.distplot(train_set['yr_combine'])\n",
    "\n",
    "plt.subplot(132)\n",
    "sns.distplot(train_set['yr_built'])\n",
    "\n",
    "plt.subplot(133)\n",
    "sns.distplot(train_set['yr_renovated'])\n",
    "plt.show()\n",
    "\n",
    "sns.distplot(np.log1p(train_set['yr_combine']))\n",
    "plt.show()"
   ]
  },
  {
   "cell_type": "code",
   "execution_count": 112,
   "metadata": {
    "scrolled": false
   },
   "outputs": [
    {
     "data": {
      "text/html": [
       "<div>\n",
       "<style scoped>\n",
       "    .dataframe tbody tr th:only-of-type {\n",
       "        vertical-align: middle;\n",
       "    }\n",
       "\n",
       "    .dataframe tbody tr th {\n",
       "        vertical-align: top;\n",
       "    }\n",
       "\n",
       "    .dataframe thead th {\n",
       "        text-align: right;\n",
       "    }\n",
       "</style>\n",
       "<table border=\"1\" class=\"dataframe\">\n",
       "  <thead>\n",
       "    <tr style=\"text-align: right;\">\n",
       "      <th></th>\n",
       "      <th>price</th>\n",
       "      <th>yr_combine</th>\n",
       "    </tr>\n",
       "  </thead>\n",
       "  <tbody>\n",
       "    <tr>\n",
       "      <th>price</th>\n",
       "      <td>1.000000</td>\n",
       "      <td>0.128711</td>\n",
       "    </tr>\n",
       "    <tr>\n",
       "      <th>yr_combine</th>\n",
       "      <td>0.128711</td>\n",
       "      <td>1.000000</td>\n",
       "    </tr>\n",
       "  </tbody>\n",
       "</table>\n",
       "</div>"
      ],
      "text/plain": [
       "               price  yr_combine\n",
       "price       1.000000    0.128711\n",
       "yr_combine  0.128711    1.000000"
      ]
     },
     "execution_count": 112,
     "metadata": {},
     "output_type": "execute_result"
    }
   ],
   "source": [
    "train_set[['price', 'yr_combine']].corr()"
   ]
  },
  {
   "cell_type": "markdown",
   "metadata": {},
   "source": [
    "### `sqft_lot` & `sqft_lot15`\n",
    "- 부지의 평방 피트(면적)"
   ]
  },
  {
   "cell_type": "code",
   "execution_count": 130,
   "metadata": {
    "scrolled": true
   },
   "outputs": [
    {
     "name": "stdout",
     "output_type": "stream",
     "text": [
      "count    1.503500e+04\n",
      "mean     1.529697e+04\n",
      "std      4.261282e+04\n",
      "min      5.200000e+02\n",
      "25%      5.027500e+03\n",
      "50%      7.620000e+03\n",
      "75%      1.069550e+04\n",
      "max      1.651359e+06\n",
      "Name: sqft_lot, dtype: float64\n",
      "\n",
      "\n",
      "count     15035.000000\n",
      "mean      12823.884935\n",
      "std       27736.259787\n",
      "min         651.000000\n",
      "25%        5100.000000\n",
      "50%        7610.000000\n",
      "75%       10076.000000\n",
      "max      871200.000000\n",
      "Name: sqft_lot15, dtype: float64\n"
     ]
    }
   ],
   "source": [
    "print(train_set['sqft_lot'].describe())\n",
    "print('\\n')\n",
    "print(train_set['sqft_lot15'].describe())"
   ]
  },
  {
   "cell_type": "code",
   "execution_count": 135,
   "metadata": {
    "scrolled": true
   },
   "outputs": [
    {
     "data": {
      "image/png": "[encoded data removed]",
      "text/plain": [
       "<Figure size 720x432 with 2 Axes>"
      ]
     },
     "metadata": {
      "needs_background": "light"
     },
     "output_type": "display_data"
    }
   ],
   "source": [
    "plt.figure(figsize=(10, 6))\n",
    "\n",
    "plt.subplot(121)\n",
    "plt.xlabel(\"sqft_lot\")\n",
    "train_set['sqft_lot'].hist()\n",
    "\n",
    "plt.subplot(122)\n",
    "plt.xlabel(\"sqft_lot15\")\n",
    "train_set['sqft_lot15'].hist()\n",
    "plt.show()"
   ]
  },
  {
   "cell_type": "code",
   "execution_count": 137,
   "metadata": {},
   "outputs": [
    {
     "data": {
      "text/html": [
       "<div>\n",
       "<style scoped>\n",
       "    .dataframe tbody tr th:only-of-type {\n",
       "        vertical-align: middle;\n",
       "    }\n",
       "\n",
       "    .dataframe tbody tr th {\n",
       "        vertical-align: top;\n",
       "    }\n",
       "\n",
       "    .dataframe thead th {\n",
       "        text-align: right;\n",
       "    }\n",
       "</style>\n",
       "<table border=\"1\" class=\"dataframe\">\n",
       "  <thead>\n",
       "    <tr style=\"text-align: right;\">\n",
       "      <th></th>\n",
       "      <th>sqft_lot</th>\n",
       "      <th>sqft_lot15</th>\n",
       "      <th>price</th>\n",
       "    </tr>\n",
       "  </thead>\n",
       "  <tbody>\n",
       "    <tr>\n",
       "      <th>sqft_lot</th>\n",
       "      <td>1.000000</td>\n",
       "      <td>0.728458</td>\n",
       "      <td>0.108946</td>\n",
       "    </tr>\n",
       "    <tr>\n",
       "      <th>sqft_lot15</th>\n",
       "      <td>0.728458</td>\n",
       "      <td>1.000000</td>\n",
       "      <td>0.096976</td>\n",
       "    </tr>\n",
       "    <tr>\n",
       "      <th>price</th>\n",
       "      <td>0.108946</td>\n",
       "      <td>0.096976</td>\n",
       "      <td>1.000000</td>\n",
       "    </tr>\n",
       "  </tbody>\n",
       "</table>\n",
       "</div>"
      ],
      "text/plain": [
       "            sqft_lot  sqft_lot15     price\n",
       "sqft_lot    1.000000    0.728458  0.108946\n",
       "sqft_lot15  0.728458    1.000000  0.096976\n",
       "price       0.108946    0.096976  1.000000"
      ]
     },
     "execution_count": 137,
     "metadata": {},
     "output_type": "execute_result"
    }
   ],
   "source": [
    "train_set[['sqft_lot', 'sqft_lot15', 'price']].corr()"
   ]
  },
  {
   "cell_type": "code",
   "execution_count": 43,
   "metadata": {
    "scrolled": true
   },
   "outputs": [
    {
     "data": {
      "image/png": "[encoded data removed]",
      "text/plain": [
       "<Figure size 720x432 with 1 Axes>"
      ]
     },
     "metadata": {
      "needs_background": "light"
     },
     "output_type": "display_data"
    }
   ],
   "source": [
    "plt.figure(figsize=(10, 6))\n",
    "plt.scatter(train_set['sqft_lot'], train_set['sqft_living'])\n",
    "plt.xlabel(\"sqft_lot\")\n",
    "plt.ylabel(\"sqft_living\")\n",
    "plt.show()"
   ]
  },
  {
   "cell_type": "markdown",
   "metadata": {
    "hideCode": false,
    "hidePrompt": false
   },
   "source": [
    "### `Date`"
   ]
  },
  {
   "cell_type": "markdown",
   "metadata": {
    "hideCode": false,
    "hidePrompt": false
   },
   "source": [
    "- `date` feature 에는 null 값이 없는 것을 확인 해 볼 수 있습니다."
   ]
  },
  {
   "cell_type": "code",
   "execution_count": 27,
   "metadata": {
    "hideCode": false,
    "hidePrompt": false,
    "scrolled": true
   },
   "outputs": [
    {
     "data": {
      "text/plain": [
       "False"
      ]
     },
     "execution_count": 27,
     "metadata": {},
     "output_type": "execute_result"
    }
   ],
   "source": [
    "train_set['date'].isnull().any()"
   ]
  },
  {
   "cell_type": "markdown",
   "metadata": {
    "hideCode": false,
    "hidePrompt": false
   },
   "source": [
    "- `Date` Column 이 모두 **날짜(숫자 8자리) + T000000** pattern 으로 되어있는지 확인\n",
    "    - 확인결과, 모두 숫자, T000000 형태가 붙어있는 것을 확인 할 수 있습니다. (True)"
   ]
  },
  {
   "cell_type": "code",
   "execution_count": 28,
   "metadata": {
    "hideCode": false,
    "hidePrompt": false
   },
   "outputs": [
    {
     "data": {
      "text/plain": [
       "<re.Match object; span=(0, 15), match='20141013T000000'>"
      ]
     },
     "execution_count": 28,
     "metadata": {},
     "output_type": "execute_result"
    }
   ],
   "source": [
    "def regex(data):\n",
    "    pattern = re.compile('^[0-9]{8}T000000$')\n",
    "    match = pattern.match(data)\n",
    "    if match:\n",
    "        return True\n",
    "    else:\n",
    "        return False\n",
    "    \n",
    "pattern = re.compile('[0-9]{8}T000000$')\n",
    "pattern.match(train_set['date'].iloc[0])"
   ]
  },
  {
   "cell_type": "code",
   "execution_count": 29,
   "metadata": {
    "hideCode": false,
    "hidePrompt": false
   },
   "outputs": [],
   "source": [
    "train_set['date_pattern_check'] = train_set['date'].apply(lambda data: regex(data))"
   ]
  },
  {
   "cell_type": "code",
   "execution_count": 30,
   "metadata": {
    "hideCode": false,
    "hidePrompt": false
   },
   "outputs": [
    {
     "data": {
      "text/plain": [
       "array([ True])"
      ]
     },
     "execution_count": 30,
     "metadata": {},
     "output_type": "execute_result"
    }
   ],
   "source": [
    "train_set['date_pattern_check'].unique()"
   ]
  },
  {
   "cell_type": "code",
   "execution_count": 31,
   "metadata": {
    "hideCode": false,
    "hidePrompt": false,
    "scrolled": true
   },
   "outputs": [],
   "source": [
    "# 확인 후, 필요 없는 column 제거\n",
    "train_set = train_set.drop('date_pattern_check', axis=1)"
   ]
  },
  {
   "cell_type": "markdown",
   "metadata": {
    "hideCode": false,
    "hidePrompt": false
   },
   "source": [
    "- `date` column의 T000000은 데이터를 구분하는 큰 의미가 없어 보이므로, 제거해줍니다."
   ]
  },
  {
   "cell_type": "code",
   "execution_count": 32,
   "metadata": {
    "hideCode": false,
    "hidePrompt": false,
    "scrolled": false
   },
   "outputs": [
    {
     "data": {
      "text/html": [
       "<div>\n",
       "<style scoped>\n",
       "    .dataframe tbody tr th:only-of-type {\n",
       "        vertical-align: middle;\n",
       "    }\n",
       "\n",
       "    .dataframe tbody tr th {\n",
       "        vertical-align: top;\n",
       "    }\n",
       "\n",
       "    .dataframe thead th {\n",
       "        text-align: right;\n",
       "    }\n",
       "</style>\n",
       "<table border=\"1\" class=\"dataframe\">\n",
       "  <thead>\n",
       "    <tr style=\"text-align: right;\">\n",
       "      <th></th>\n",
       "      <th>id</th>\n",
       "      <th>date</th>\n",
       "      <th>price</th>\n",
       "      <th>bedrooms</th>\n",
       "      <th>bathrooms</th>\n",
       "      <th>sqft_living</th>\n",
       "      <th>sqft_lot</th>\n",
       "      <th>floors</th>\n",
       "      <th>waterfront</th>\n",
       "      <th>view</th>\n",
       "      <th>condition</th>\n",
       "      <th>grade</th>\n",
       "      <th>sqft_above</th>\n",
       "      <th>sqft_basement</th>\n",
       "      <th>yr_built</th>\n",
       "      <th>yr_renovated</th>\n",
       "      <th>zipcode</th>\n",
       "      <th>lat</th>\n",
       "      <th>long</th>\n",
       "      <th>sqft_living15</th>\n",
       "      <th>sqft_lot15</th>\n",
       "    </tr>\n",
       "  </thead>\n",
       "  <tbody>\n",
       "    <tr>\n",
       "      <th>0</th>\n",
       "      <td>0</td>\n",
       "      <td>20141013</td>\n",
       "      <td>12.309982</td>\n",
       "      <td>3</td>\n",
       "      <td>1.00</td>\n",
       "      <td>1180</td>\n",
       "      <td>5650</td>\n",
       "      <td>1.0</td>\n",
       "      <td>0</td>\n",
       "      <td>0</td>\n",
       "      <td>3</td>\n",
       "      <td>7</td>\n",
       "      <td>1180</td>\n",
       "      <td>0</td>\n",
       "      <td>1955</td>\n",
       "      <td>0</td>\n",
       "      <td>98178</td>\n",
       "      <td>47.5112</td>\n",
       "      <td>-122.257</td>\n",
       "      <td>1340</td>\n",
       "      <td>5650</td>\n",
       "    </tr>\n",
       "    <tr>\n",
       "      <th>1</th>\n",
       "      <td>1</td>\n",
       "      <td>20150225</td>\n",
       "      <td>12.100712</td>\n",
       "      <td>2</td>\n",
       "      <td>1.00</td>\n",
       "      <td>770</td>\n",
       "      <td>10000</td>\n",
       "      <td>1.0</td>\n",
       "      <td>0</td>\n",
       "      <td>0</td>\n",
       "      <td>3</td>\n",
       "      <td>6</td>\n",
       "      <td>770</td>\n",
       "      <td>0</td>\n",
       "      <td>1933</td>\n",
       "      <td>0</td>\n",
       "      <td>98028</td>\n",
       "      <td>47.7379</td>\n",
       "      <td>-122.233</td>\n",
       "      <td>2720</td>\n",
       "      <td>8062</td>\n",
       "    </tr>\n",
       "    <tr>\n",
       "      <th>2</th>\n",
       "      <td>2</td>\n",
       "      <td>20150218</td>\n",
       "      <td>13.142166</td>\n",
       "      <td>3</td>\n",
       "      <td>2.00</td>\n",
       "      <td>1680</td>\n",
       "      <td>8080</td>\n",
       "      <td>1.0</td>\n",
       "      <td>0</td>\n",
       "      <td>0</td>\n",
       "      <td>3</td>\n",
       "      <td>8</td>\n",
       "      <td>1680</td>\n",
       "      <td>0</td>\n",
       "      <td>1987</td>\n",
       "      <td>0</td>\n",
       "      <td>98074</td>\n",
       "      <td>47.6168</td>\n",
       "      <td>-122.045</td>\n",
       "      <td>1800</td>\n",
       "      <td>7503</td>\n",
       "    </tr>\n",
       "    <tr>\n",
       "      <th>3</th>\n",
       "      <td>3</td>\n",
       "      <td>20140627</td>\n",
       "      <td>12.458775</td>\n",
       "      <td>3</td>\n",
       "      <td>2.25</td>\n",
       "      <td>1715</td>\n",
       "      <td>6819</td>\n",
       "      <td>2.0</td>\n",
       "      <td>0</td>\n",
       "      <td>0</td>\n",
       "      <td>3</td>\n",
       "      <td>7</td>\n",
       "      <td>1715</td>\n",
       "      <td>0</td>\n",
       "      <td>1995</td>\n",
       "      <td>0</td>\n",
       "      <td>98003</td>\n",
       "      <td>47.3097</td>\n",
       "      <td>-122.327</td>\n",
       "      <td>2238</td>\n",
       "      <td>6819</td>\n",
       "    </tr>\n",
       "    <tr>\n",
       "      <th>4</th>\n",
       "      <td>4</td>\n",
       "      <td>20150115</td>\n",
       "      <td>12.583995</td>\n",
       "      <td>3</td>\n",
       "      <td>1.50</td>\n",
       "      <td>1060</td>\n",
       "      <td>9711</td>\n",
       "      <td>1.0</td>\n",
       "      <td>0</td>\n",
       "      <td>0</td>\n",
       "      <td>3</td>\n",
       "      <td>7</td>\n",
       "      <td>1060</td>\n",
       "      <td>0</td>\n",
       "      <td>1963</td>\n",
       "      <td>0</td>\n",
       "      <td>98198</td>\n",
       "      <td>47.4095</td>\n",
       "      <td>-122.315</td>\n",
       "      <td>1650</td>\n",
       "      <td>9711</td>\n",
       "    </tr>\n",
       "  </tbody>\n",
       "</table>\n",
       "</div>"
      ],
      "text/plain": [
       "   id      date      price  bedrooms  bathrooms  sqft_living  sqft_lot  \\\n",
       "0   0  20141013  12.309982         3       1.00         1180      5650   \n",
       "1   1  20150225  12.100712         2       1.00          770     10000   \n",
       "2   2  20150218  13.142166         3       2.00         1680      8080   \n",
       "3   3  20140627  12.458775         3       2.25         1715      6819   \n",
       "4   4  20150115  12.583995         3       1.50         1060      9711   \n",
       "\n",
       "   floors  waterfront  view  condition  grade  sqft_above  sqft_basement  \\\n",
       "0     1.0           0     0          3      7        1180              0   \n",
       "1     1.0           0     0          3      6         770              0   \n",
       "2     1.0           0     0          3      8        1680              0   \n",
       "3     2.0           0     0          3      7        1715              0   \n",
       "4     1.0           0     0          3      7        1060              0   \n",
       "\n",
       "   yr_built  yr_renovated  zipcode      lat     long  sqft_living15  \\\n",
       "0      1955             0    98178  47.5112 -122.257           1340   \n",
       "1      1933             0    98028  47.7379 -122.233           2720   \n",
       "2      1987             0    98074  47.6168 -122.045           1800   \n",
       "3      1995             0    98003  47.3097 -122.327           2238   \n",
       "4      1963             0    98198  47.4095 -122.315           1650   \n",
       "\n",
       "   sqft_lot15  \n",
       "0        5650  \n",
       "1        8062  \n",
       "2        7503  \n",
       "3        6819  \n",
       "4        9711  "
      ]
     },
     "execution_count": 32,
     "metadata": {},
     "output_type": "execute_result"
    }
   ],
   "source": [
    "train_set['date'] = train_set['date'].apply(lambda data: data[:8])\n",
    "train_set.head()"
   ]
  },
  {
   "cell_type": "markdown",
   "metadata": {
    "hideCode": false,
    "hidePrompt": false
   },
   "source": [
    "- `date` column 이 `yyyymmdd` 형식을 가지고 있으므로, `year`, `month`, `day` 형식의 column 으로 생성해줍니다."
   ]
  },
  {
   "cell_type": "code",
   "execution_count": 33,
   "metadata": {
    "hideCode": false,
    "hidePrompt": false,
    "scrolled": true
   },
   "outputs": [
    {
     "data": {
      "text/html": [
       "<div>\n",
       "<style scoped>\n",
       "    .dataframe tbody tr th:only-of-type {\n",
       "        vertical-align: middle;\n",
       "    }\n",
       "\n",
       "    .dataframe tbody tr th {\n",
       "        vertical-align: top;\n",
       "    }\n",
       "\n",
       "    .dataframe thead th {\n",
       "        text-align: right;\n",
       "    }\n",
       "</style>\n",
       "<table border=\"1\" class=\"dataframe\">\n",
       "  <thead>\n",
       "    <tr style=\"text-align: right;\">\n",
       "      <th></th>\n",
       "      <th>id</th>\n",
       "      <th>date</th>\n",
       "      <th>price</th>\n",
       "      <th>bedrooms</th>\n",
       "      <th>bathrooms</th>\n",
       "      <th>sqft_living</th>\n",
       "      <th>sqft_lot</th>\n",
       "      <th>floors</th>\n",
       "      <th>waterfront</th>\n",
       "      <th>view</th>\n",
       "      <th>condition</th>\n",
       "      <th>grade</th>\n",
       "      <th>sqft_above</th>\n",
       "      <th>sqft_basement</th>\n",
       "      <th>yr_built</th>\n",
       "      <th>yr_renovated</th>\n",
       "      <th>zipcode</th>\n",
       "      <th>lat</th>\n",
       "      <th>long</th>\n",
       "      <th>sqft_living15</th>\n",
       "      <th>sqft_lot15</th>\n",
       "      <th>year</th>\n",
       "      <th>month</th>\n",
       "      <th>day</th>\n",
       "    </tr>\n",
       "  </thead>\n",
       "  <tbody>\n",
       "    <tr>\n",
       "      <th>0</th>\n",
       "      <td>0</td>\n",
       "      <td>20141013</td>\n",
       "      <td>12.309982</td>\n",
       "      <td>3</td>\n",
       "      <td>1.00</td>\n",
       "      <td>1180</td>\n",
       "      <td>5650</td>\n",
       "      <td>1.0</td>\n",
       "      <td>0</td>\n",
       "      <td>0</td>\n",
       "      <td>3</td>\n",
       "      <td>7</td>\n",
       "      <td>1180</td>\n",
       "      <td>0</td>\n",
       "      <td>1955</td>\n",
       "      <td>0</td>\n",
       "      <td>98178</td>\n",
       "      <td>47.5112</td>\n",
       "      <td>-122.257</td>\n",
       "      <td>1340</td>\n",
       "      <td>5650</td>\n",
       "      <td>2014</td>\n",
       "      <td>10</td>\n",
       "      <td>13</td>\n",
       "    </tr>\n",
       "    <tr>\n",
       "      <th>1</th>\n",
       "      <td>1</td>\n",
       "      <td>20150225</td>\n",
       "      <td>12.100712</td>\n",
       "      <td>2</td>\n",
       "      <td>1.00</td>\n",
       "      <td>770</td>\n",
       "      <td>10000</td>\n",
       "      <td>1.0</td>\n",
       "      <td>0</td>\n",
       "      <td>0</td>\n",
       "      <td>3</td>\n",
       "      <td>6</td>\n",
       "      <td>770</td>\n",
       "      <td>0</td>\n",
       "      <td>1933</td>\n",
       "      <td>0</td>\n",
       "      <td>98028</td>\n",
       "      <td>47.7379</td>\n",
       "      <td>-122.233</td>\n",
       "      <td>2720</td>\n",
       "      <td>8062</td>\n",
       "      <td>2015</td>\n",
       "      <td>2</td>\n",
       "      <td>25</td>\n",
       "    </tr>\n",
       "    <tr>\n",
       "      <th>2</th>\n",
       "      <td>2</td>\n",
       "      <td>20150218</td>\n",
       "      <td>13.142166</td>\n",
       "      <td>3</td>\n",
       "      <td>2.00</td>\n",
       "      <td>1680</td>\n",
       "      <td>8080</td>\n",
       "      <td>1.0</td>\n",
       "      <td>0</td>\n",
       "      <td>0</td>\n",
       "      <td>3</td>\n",
       "      <td>8</td>\n",
       "      <td>1680</td>\n",
       "      <td>0</td>\n",
       "      <td>1987</td>\n",
       "      <td>0</td>\n",
       "      <td>98074</td>\n",
       "      <td>47.6168</td>\n",
       "      <td>-122.045</td>\n",
       "      <td>1800</td>\n",
       "      <td>7503</td>\n",
       "      <td>2015</td>\n",
       "      <td>2</td>\n",
       "      <td>18</td>\n",
       "    </tr>\n",
       "    <tr>\n",
       "      <th>3</th>\n",
       "      <td>3</td>\n",
       "      <td>20140627</td>\n",
       "      <td>12.458775</td>\n",
       "      <td>3</td>\n",
       "      <td>2.25</td>\n",
       "      <td>1715</td>\n",
       "      <td>6819</td>\n",
       "      <td>2.0</td>\n",
       "      <td>0</td>\n",
       "      <td>0</td>\n",
       "      <td>3</td>\n",
       "      <td>7</td>\n",
       "      <td>1715</td>\n",
       "      <td>0</td>\n",
       "      <td>1995</td>\n",
       "      <td>0</td>\n",
       "      <td>98003</td>\n",
       "      <td>47.3097</td>\n",
       "      <td>-122.327</td>\n",
       "      <td>2238</td>\n",
       "      <td>6819</td>\n",
       "      <td>2014</td>\n",
       "      <td>6</td>\n",
       "      <td>27</td>\n",
       "    </tr>\n",
       "    <tr>\n",
       "      <th>4</th>\n",
       "      <td>4</td>\n",
       "      <td>20150115</td>\n",
       "      <td>12.583995</td>\n",
       "      <td>3</td>\n",
       "      <td>1.50</td>\n",
       "      <td>1060</td>\n",
       "      <td>9711</td>\n",
       "      <td>1.0</td>\n",
       "      <td>0</td>\n",
       "      <td>0</td>\n",
       "      <td>3</td>\n",
       "      <td>7</td>\n",
       "      <td>1060</td>\n",
       "      <td>0</td>\n",
       "      <td>1963</td>\n",
       "      <td>0</td>\n",
       "      <td>98198</td>\n",
       "      <td>47.4095</td>\n",
       "      <td>-122.315</td>\n",
       "      <td>1650</td>\n",
       "      <td>9711</td>\n",
       "      <td>2015</td>\n",
       "      <td>1</td>\n",
       "      <td>15</td>\n",
       "    </tr>\n",
       "  </tbody>\n",
       "</table>\n",
       "</div>"
      ],
      "text/plain": [
       "   id      date      price  bedrooms  bathrooms  sqft_living  sqft_lot  \\\n",
       "0   0  20141013  12.309982         3       1.00         1180      5650   \n",
       "1   1  20150225  12.100712         2       1.00          770     10000   \n",
       "2   2  20150218  13.142166         3       2.00         1680      8080   \n",
       "3   3  20140627  12.458775         3       2.25         1715      6819   \n",
       "4   4  20150115  12.583995         3       1.50         1060      9711   \n",
       "\n",
       "   floors  waterfront  view  condition  grade  sqft_above  sqft_basement  \\\n",
       "0     1.0           0     0          3      7        1180              0   \n",
       "1     1.0           0     0          3      6         770              0   \n",
       "2     1.0           0     0          3      8        1680              0   \n",
       "3     2.0           0     0          3      7        1715              0   \n",
       "4     1.0           0     0          3      7        1060              0   \n",
       "\n",
       "   yr_built  yr_renovated  zipcode      lat     long  sqft_living15  \\\n",
       "0      1955             0    98178  47.5112 -122.257           1340   \n",
       "1      1933             0    98028  47.7379 -122.233           2720   \n",
       "2      1987             0    98074  47.6168 -122.045           1800   \n",
       "3      1995             0    98003  47.3097 -122.327           2238   \n",
       "4      1963             0    98198  47.4095 -122.315           1650   \n",
       "\n",
       "   sqft_lot15  year  month  day  \n",
       "0        5650  2014     10   13  \n",
       "1        8062  2015      2   25  \n",
       "2        7503  2015      2   18  \n",
       "3        6819  2014      6   27  \n",
       "4        9711  2015      1   15  "
      ]
     },
     "execution_count": 33,
     "metadata": {},
     "output_type": "execute_result"
    }
   ],
   "source": [
    "train_set['year'] = train_set['date'].apply(lambda data: int(data[:4]))\n",
    "train_set['month'] = train_set['date'].apply(lambda date: int(date[4:6]))\n",
    "train_set['day'] = train_set['date'].apply(lambda date: int(date[6:]))\n",
    "train_set.head()"
   ]
  },
  {
   "cell_type": "markdown",
   "metadata": {},
   "source": [
    "- `year` 와 `price` 간의 Boxplot"
   ]
  },
  {
   "cell_type": "code",
   "execution_count": 34,
   "metadata": {},
   "outputs": [
    {
     "data": {
      "image/png": "[encoded data removed]",
      "text/plain": [
       "<Figure size 432x288 with 1 Axes>"
      ]
     },
     "metadata": {
      "needs_background": "light"
     },
     "output_type": "display_data"
    }
   ],
   "source": [
    "ax = sns.boxplot(x=\"year\", y=\"price\", data=train_set)"
   ]
  },
  {
   "cell_type": "markdown",
   "metadata": {},
   "source": [
    "- `month` 와 `price`간의 Boxplot"
   ]
  },
  {
   "cell_type": "code",
   "execution_count": 35,
   "metadata": {},
   "outputs": [
    {
     "data": {
      "image/png": "[encoded data removed]",
      "text/plain": [
       "<Figure size 1440x720 with 1 Axes>"
      ]
     },
     "metadata": {
      "needs_background": "light"
     },
     "output_type": "display_data"
    }
   ],
   "source": [
    "plt.figure(figsize=(20, 10))\n",
    "ax = sns.boxplot(x=\"month\", y=\"price\", data=train_set)"
   ]
  },
  {
   "cell_type": "code",
   "execution_count": 36,
   "metadata": {},
   "outputs": [
    {
     "data": {
      "image/png": "[encoded data removed]",
      "text/plain": [
       "<Figure size 1440x720 with 1 Axes>"
      ]
     },
     "metadata": {
      "needs_background": "light"
     },
     "output_type": "display_data"
    }
   ],
   "source": [
    "plt.figure(figsize=(20, 10))\n",
    "ax = sns.boxplot(x=\"day\", y=\"price\", data=train_set)"
   ]
  },
  {
   "cell_type": "code",
   "execution_count": 37,
   "metadata": {},
   "outputs": [
    {
     "data": {
      "text/html": [
       "<div>\n",
       "<style scoped>\n",
       "    .dataframe tbody tr th:only-of-type {\n",
       "        vertical-align: middle;\n",
       "    }\n",
       "\n",
       "    .dataframe tbody tr th {\n",
       "        vertical-align: top;\n",
       "    }\n",
       "\n",
       "    .dataframe thead th {\n",
       "        text-align: right;\n",
       "    }\n",
       "</style>\n",
       "<table border=\"1\" class=\"dataframe\">\n",
       "  <thead>\n",
       "    <tr style=\"text-align: right;\">\n",
       "      <th></th>\n",
       "      <th>id</th>\n",
       "      <th>date</th>\n",
       "      <th>price</th>\n",
       "      <th>bedrooms</th>\n",
       "      <th>bathrooms</th>\n",
       "      <th>sqft_living</th>\n",
       "      <th>sqft_lot</th>\n",
       "      <th>floors</th>\n",
       "      <th>waterfront</th>\n",
       "      <th>view</th>\n",
       "      <th>condition</th>\n",
       "      <th>grade</th>\n",
       "      <th>sqft_above</th>\n",
       "      <th>sqft_basement</th>\n",
       "      <th>yr_built</th>\n",
       "      <th>yr_renovated</th>\n",
       "      <th>zipcode</th>\n",
       "      <th>lat</th>\n",
       "      <th>long</th>\n",
       "      <th>sqft_living15</th>\n",
       "      <th>sqft_lot15</th>\n",
       "      <th>year</th>\n",
       "      <th>month</th>\n",
       "      <th>day</th>\n",
       "    </tr>\n",
       "  </thead>\n",
       "  <tbody>\n",
       "    <tr>\n",
       "      <th>0</th>\n",
       "      <td>0</td>\n",
       "      <td>20141013</td>\n",
       "      <td>12.309982</td>\n",
       "      <td>3</td>\n",
       "      <td>1.00</td>\n",
       "      <td>1180</td>\n",
       "      <td>5650</td>\n",
       "      <td>1.0</td>\n",
       "      <td>0</td>\n",
       "      <td>0</td>\n",
       "      <td>3</td>\n",
       "      <td>7</td>\n",
       "      <td>1180</td>\n",
       "      <td>0</td>\n",
       "      <td>1955</td>\n",
       "      <td>0</td>\n",
       "      <td>98178</td>\n",
       "      <td>47.5112</td>\n",
       "      <td>-122.257</td>\n",
       "      <td>1340</td>\n",
       "      <td>5650</td>\n",
       "      <td>2014</td>\n",
       "      <td>10</td>\n",
       "      <td>13</td>\n",
       "    </tr>\n",
       "    <tr>\n",
       "      <th>1</th>\n",
       "      <td>1</td>\n",
       "      <td>20150225</td>\n",
       "      <td>12.100712</td>\n",
       "      <td>2</td>\n",
       "      <td>1.00</td>\n",
       "      <td>770</td>\n",
       "      <td>10000</td>\n",
       "      <td>1.0</td>\n",
       "      <td>0</td>\n",
       "      <td>0</td>\n",
       "      <td>3</td>\n",
       "      <td>6</td>\n",
       "      <td>770</td>\n",
       "      <td>0</td>\n",
       "      <td>1933</td>\n",
       "      <td>0</td>\n",
       "      <td>98028</td>\n",
       "      <td>47.7379</td>\n",
       "      <td>-122.233</td>\n",
       "      <td>2720</td>\n",
       "      <td>8062</td>\n",
       "      <td>2015</td>\n",
       "      <td>2</td>\n",
       "      <td>25</td>\n",
       "    </tr>\n",
       "    <tr>\n",
       "      <th>2</th>\n",
       "      <td>2</td>\n",
       "      <td>20150218</td>\n",
       "      <td>13.142166</td>\n",
       "      <td>3</td>\n",
       "      <td>2.00</td>\n",
       "      <td>1680</td>\n",
       "      <td>8080</td>\n",
       "      <td>1.0</td>\n",
       "      <td>0</td>\n",
       "      <td>0</td>\n",
       "      <td>3</td>\n",
       "      <td>8</td>\n",
       "      <td>1680</td>\n",
       "      <td>0</td>\n",
       "      <td>1987</td>\n",
       "      <td>0</td>\n",
       "      <td>98074</td>\n",
       "      <td>47.6168</td>\n",
       "      <td>-122.045</td>\n",
       "      <td>1800</td>\n",
       "      <td>7503</td>\n",
       "      <td>2015</td>\n",
       "      <td>2</td>\n",
       "      <td>18</td>\n",
       "    </tr>\n",
       "    <tr>\n",
       "      <th>3</th>\n",
       "      <td>3</td>\n",
       "      <td>20140627</td>\n",
       "      <td>12.458775</td>\n",
       "      <td>3</td>\n",
       "      <td>2.25</td>\n",
       "      <td>1715</td>\n",
       "      <td>6819</td>\n",
       "      <td>2.0</td>\n",
       "      <td>0</td>\n",
       "      <td>0</td>\n",
       "      <td>3</td>\n",
       "      <td>7</td>\n",
       "      <td>1715</td>\n",
       "      <td>0</td>\n",
       "      <td>1995</td>\n",
       "      <td>0</td>\n",
       "      <td>98003</td>\n",
       "      <td>47.3097</td>\n",
       "      <td>-122.327</td>\n",
       "      <td>2238</td>\n",
       "      <td>6819</td>\n",
       "      <td>2014</td>\n",
       "      <td>6</td>\n",
       "      <td>27</td>\n",
       "    </tr>\n",
       "    <tr>\n",
       "      <th>4</th>\n",
       "      <td>4</td>\n",
       "      <td>20150115</td>\n",
       "      <td>12.583995</td>\n",
       "      <td>3</td>\n",
       "      <td>1.50</td>\n",
       "      <td>1060</td>\n",
       "      <td>9711</td>\n",
       "      <td>1.0</td>\n",
       "      <td>0</td>\n",
       "      <td>0</td>\n",
       "      <td>3</td>\n",
       "      <td>7</td>\n",
       "      <td>1060</td>\n",
       "      <td>0</td>\n",
       "      <td>1963</td>\n",
       "      <td>0</td>\n",
       "      <td>98198</td>\n",
       "      <td>47.4095</td>\n",
       "      <td>-122.315</td>\n",
       "      <td>1650</td>\n",
       "      <td>9711</td>\n",
       "      <td>2015</td>\n",
       "      <td>1</td>\n",
       "      <td>15</td>\n",
       "    </tr>\n",
       "  </tbody>\n",
       "</table>\n",
       "</div>"
      ],
      "text/plain": [
       "   id      date      price  bedrooms  bathrooms  sqft_living  sqft_lot  \\\n",
       "0   0  20141013  12.309982         3       1.00         1180      5650   \n",
       "1   1  20150225  12.100712         2       1.00          770     10000   \n",
       "2   2  20150218  13.142166         3       2.00         1680      8080   \n",
       "3   3  20140627  12.458775         3       2.25         1715      6819   \n",
       "4   4  20150115  12.583995         3       1.50         1060      9711   \n",
       "\n",
       "   floors  waterfront  view  condition  grade  sqft_above  sqft_basement  \\\n",
       "0     1.0           0     0          3      7        1180              0   \n",
       "1     1.0           0     0          3      6         770              0   \n",
       "2     1.0           0     0          3      8        1680              0   \n",
       "3     2.0           0     0          3      7        1715              0   \n",
       "4     1.0           0     0          3      7        1060              0   \n",
       "\n",
       "   yr_built  yr_renovated  zipcode      lat     long  sqft_living15  \\\n",
       "0      1955             0    98178  47.5112 -122.257           1340   \n",
       "1      1933             0    98028  47.7379 -122.233           2720   \n",
       "2      1987             0    98074  47.6168 -122.045           1800   \n",
       "3      1995             0    98003  47.3097 -122.327           2238   \n",
       "4      1963             0    98198  47.4095 -122.315           1650   \n",
       "\n",
       "   sqft_lot15  year  month  day  \n",
       "0        5650  2014     10   13  \n",
       "1        8062  2015      2   25  \n",
       "2        7503  2015      2   18  \n",
       "3        6819  2014      6   27  \n",
       "4        9711  2015      1   15  "
      ]
     },
     "execution_count": 37,
     "metadata": {},
     "output_type": "execute_result"
    }
   ],
   "source": [
    "train_set.head()"
   ]
  },
  {
   "cell_type": "markdown",
   "metadata": {},
   "source": [
    "### `bedrooms`\n",
    "- histogram 분포를 보면 대부분의 집의 침실이 3~4개에 집중 되어 있는 것을 볼 수 있다.\n",
    "- 평균과 분산을 통해서도 그것을 확인 할 수 있으며, 75% 분위선까지도 4개의 침실인 것을 볼 수 있다."
   ]
  },
  {
   "cell_type": "code",
   "execution_count": 38,
   "metadata": {},
   "outputs": [
    {
     "data": {
      "text/plain": [
       "<matplotlib.axes._subplots.AxesSubplot at 0x12a997cc0>"
      ]
     },
     "execution_count": 38,
     "metadata": {},
     "output_type": "execute_result"
    },
    {
     "data": {
      "image/png": "[encoded data removed]",
      "text/plain": [
       "<Figure size 432x288 with 1 Axes>"
      ]
     },
     "metadata": {
      "needs_background": "light"
     },
     "output_type": "display_data"
    }
   ],
   "source": [
    "train_set['bedrooms'].hist(bins=len(train_set['bedrooms'].unique()))"
   ]
  },
  {
   "cell_type": "code",
   "execution_count": 39,
   "metadata": {},
   "outputs": [
    {
     "data": {
      "text/plain": [
       "count    15035.000000\n",
       "mean         3.369139\n",
       "std          0.902721\n",
       "min          0.000000\n",
       "25%          3.000000\n",
       "50%          3.000000\n",
       "75%          4.000000\n",
       "max         10.000000\n",
       "Name: bedrooms, dtype: float64"
      ]
     },
     "execution_count": 39,
     "metadata": {},
     "output_type": "execute_result"
    }
   ],
   "source": [
    "train_set['bedrooms'].describe()"
   ]
  },
  {
   "cell_type": "markdown",
   "metadata": {},
   "source": [
    "### `sqft_living` \n",
    "- 한쪽으로 치우쳐져 있음을 확인 할 수 있다."
   ]
  },
  {
   "cell_type": "code",
   "execution_count": 40,
   "metadata": {},
   "outputs": [
    {
     "data": {
      "image/png": "[encoded data removed]",
      "text/plain": [
       "<Figure size 720x432 with 1 Axes>"
      ]
     },
     "metadata": {
      "needs_background": "light"
     },
     "output_type": "display_data"
    },
    {
     "data": {
      "image/png": "[encoded data removed]",
      "text/plain": [
       "<Figure size 720x432 with 1 Axes>"
      ]
     },
     "metadata": {
      "needs_background": "light"
     },
     "output_type": "display_data"
    }
   ],
   "source": [
    "plt.figure(figsize=(10, 6))\n",
    "sns.distplot(train_set['sqft_living'])\n",
    "plt.show()\n",
    "\n",
    "plt.figure(figsize=(10, 6))\n",
    "sns.distplot(np.log1p(train_set['sqft_living']))\n",
    "plt.show()\n",
    "\n"
   ]
  },
  {
   "cell_type": "markdown",
   "metadata": {},
   "source": [
    "### BASELINE"
   ]
  },
  {
   "cell_type": "code",
   "execution_count": 44,
   "metadata": {},
   "outputs": [
    {
     "data": {
      "text/html": [
       "<div>\n",
       "<style scoped>\n",
       "    .dataframe tbody tr th:only-of-type {\n",
       "        vertical-align: middle;\n",
       "    }\n",
       "\n",
       "    .dataframe tbody tr th {\n",
       "        vertical-align: top;\n",
       "    }\n",
       "\n",
       "    .dataframe thead th {\n",
       "        text-align: right;\n",
       "    }\n",
       "</style>\n",
       "<table border=\"1\" class=\"dataframe\">\n",
       "  <thead>\n",
       "    <tr style=\"text-align: right;\">\n",
       "      <th></th>\n",
       "      <th>id</th>\n",
       "      <th>price</th>\n",
       "      <th>bedrooms</th>\n",
       "      <th>bathrooms</th>\n",
       "      <th>sqft_living</th>\n",
       "      <th>sqft_lot</th>\n",
       "      <th>floors</th>\n",
       "      <th>waterfront</th>\n",
       "      <th>view</th>\n",
       "      <th>condition</th>\n",
       "      <th>grade</th>\n",
       "      <th>sqft_above</th>\n",
       "      <th>sqft_basement</th>\n",
       "      <th>yr_built</th>\n",
       "      <th>yr_renovated</th>\n",
       "      <th>zipcode</th>\n",
       "      <th>lat</th>\n",
       "      <th>long</th>\n",
       "      <th>sqft_living15</th>\n",
       "      <th>sqft_lot15</th>\n",
       "      <th>year</th>\n",
       "      <th>month</th>\n",
       "      <th>day</th>\n",
       "    </tr>\n",
       "  </thead>\n",
       "  <tbody>\n",
       "    <tr>\n",
       "      <th>id</th>\n",
       "      <td>1.000000</td>\n",
       "      <td>0.035940</td>\n",
       "      <td>0.010520</td>\n",
       "      <td>0.104030</td>\n",
       "      <td>0.041725</td>\n",
       "      <td>-0.034077</td>\n",
       "      <td>0.182848</td>\n",
       "      <td>-0.011775</td>\n",
       "      <td>-0.024360</td>\n",
       "      <td>-0.101618</td>\n",
       "      <td>0.078622</td>\n",
       "      <td>0.073086</td>\n",
       "      <td>-0.050634</td>\n",
       "      <td>0.202477</td>\n",
       "      <td>-0.029810</td>\n",
       "      <td>-0.005761</td>\n",
       "      <td>0.002588</td>\n",
       "      <td>0.014757</td>\n",
       "      <td>0.029248</td>\n",
       "      <td>-0.032269</td>\n",
       "      <td>-0.013244</td>\n",
       "      <td>0.009917</td>\n",
       "      <td>0.002289</td>\n",
       "    </tr>\n",
       "    <tr>\n",
       "      <th>price</th>\n",
       "      <td>0.035940</td>\n",
       "      <td>1.000000</td>\n",
       "      <td>0.359946</td>\n",
       "      <td>0.552000</td>\n",
       "      <td>0.697907</td>\n",
       "      <td>0.108946</td>\n",
       "      <td>0.317810</td>\n",
       "      <td>0.172580</td>\n",
       "      <td>0.347505</td>\n",
       "      <td>0.042947</td>\n",
       "      <td>0.707412</td>\n",
       "      <td>0.607197</td>\n",
       "      <td>0.314378</td>\n",
       "      <td>0.076294</td>\n",
       "      <td>0.127533</td>\n",
       "      <td>-0.039195</td>\n",
       "      <td>0.444417</td>\n",
       "      <td>0.054362</td>\n",
       "      <td>0.621800</td>\n",
       "      <td>0.096976</td>\n",
       "      <td>0.009913</td>\n",
       "      <td>-0.013975</td>\n",
       "      <td>-0.020578</td>\n",
       "    </tr>\n",
       "    <tr>\n",
       "      <th>bedrooms</th>\n",
       "      <td>0.010520</td>\n",
       "      <td>0.359946</td>\n",
       "      <td>1.000000</td>\n",
       "      <td>0.530548</td>\n",
       "      <td>0.596974</td>\n",
       "      <td>0.033475</td>\n",
       "      <td>0.189532</td>\n",
       "      <td>-0.004819</td>\n",
       "      <td>0.085703</td>\n",
       "      <td>0.034885</td>\n",
       "      <td>0.375286</td>\n",
       "      <td>0.494867</td>\n",
       "      <td>0.315183</td>\n",
       "      <td>0.158799</td>\n",
       "      <td>0.022729</td>\n",
       "      <td>-0.162081</td>\n",
       "      <td>-0.011190</td>\n",
       "      <td>0.135802</td>\n",
       "      <td>0.407394</td>\n",
       "      <td>0.027242</td>\n",
       "      <td>-0.002067</td>\n",
       "      <td>-0.007382</td>\n",
       "      <td>-0.012671</td>\n",
       "    </tr>\n",
       "    <tr>\n",
       "      <th>bathrooms</th>\n",
       "      <td>0.104030</td>\n",
       "      <td>0.552000</td>\n",
       "      <td>0.530548</td>\n",
       "      <td>1.000000</td>\n",
       "      <td>0.755853</td>\n",
       "      <td>0.089308</td>\n",
       "      <td>0.508649</td>\n",
       "      <td>0.075452</td>\n",
       "      <td>0.187488</td>\n",
       "      <td>-0.125907</td>\n",
       "      <td>0.666278</td>\n",
       "      <td>0.688255</td>\n",
       "      <td>0.282642</td>\n",
       "      <td>0.503964</td>\n",
       "      <td>0.065423</td>\n",
       "      <td>-0.207500</td>\n",
       "      <td>0.018110</td>\n",
       "      <td>0.227669</td>\n",
       "      <td>0.573541</td>\n",
       "      <td>0.088120</td>\n",
       "      <td>-0.022161</td>\n",
       "      <td>0.007759</td>\n",
       "      <td>-0.010256</td>\n",
       "    </tr>\n",
       "    <tr>\n",
       "      <th>sqft_living</th>\n",
       "      <td>0.041725</td>\n",
       "      <td>0.697907</td>\n",
       "      <td>0.596974</td>\n",
       "      <td>0.755853</td>\n",
       "      <td>1.000000</td>\n",
       "      <td>0.176500</td>\n",
       "      <td>0.363193</td>\n",
       "      <td>0.108137</td>\n",
       "      <td>0.282821</td>\n",
       "      <td>-0.054213</td>\n",
       "      <td>0.762543</td>\n",
       "      <td>0.878736</td>\n",
       "      <td>0.434017</td>\n",
       "      <td>0.315927</td>\n",
       "      <td>0.064893</td>\n",
       "      <td>-0.200745</td>\n",
       "      <td>0.051609</td>\n",
       "      <td>0.245429</td>\n",
       "      <td>0.760271</td>\n",
       "      <td>0.184176</td>\n",
       "      <td>-0.021638</td>\n",
       "      <td>0.009763</td>\n",
       "      <td>-0.011125</td>\n",
       "    </tr>\n",
       "    <tr>\n",
       "      <th>sqft_lot</th>\n",
       "      <td>-0.034077</td>\n",
       "      <td>0.108946</td>\n",
       "      <td>0.033475</td>\n",
       "      <td>0.089308</td>\n",
       "      <td>0.176500</td>\n",
       "      <td>1.000000</td>\n",
       "      <td>0.001535</td>\n",
       "      <td>0.025584</td>\n",
       "      <td>0.080441</td>\n",
       "      <td>-0.002099</td>\n",
       "      <td>0.119906</td>\n",
       "      <td>0.186242</td>\n",
       "      <td>0.017818</td>\n",
       "      <td>0.058686</td>\n",
       "      <td>-0.001451</td>\n",
       "      <td>-0.127709</td>\n",
       "      <td>-0.082234</td>\n",
       "      <td>0.227451</td>\n",
       "      <td>0.147562</td>\n",
       "      <td>0.728458</td>\n",
       "      <td>0.007243</td>\n",
       "      <td>-0.001897</td>\n",
       "      <td>0.003807</td>\n",
       "    </tr>\n",
       "    <tr>\n",
       "      <th>floors</th>\n",
       "      <td>0.182848</td>\n",
       "      <td>0.317810</td>\n",
       "      <td>0.189532</td>\n",
       "      <td>0.508649</td>\n",
       "      <td>0.363193</td>\n",
       "      <td>0.001535</td>\n",
       "      <td>1.000000</td>\n",
       "      <td>0.031159</td>\n",
       "      <td>0.034511</td>\n",
       "      <td>-0.261016</td>\n",
       "      <td>0.462598</td>\n",
       "      <td>0.529476</td>\n",
       "      <td>-0.239350</td>\n",
       "      <td>0.490436</td>\n",
       "      <td>0.009752</td>\n",
       "      <td>-0.059107</td>\n",
       "      <td>0.049004</td>\n",
       "      <td>0.126983</td>\n",
       "      <td>0.287125</td>\n",
       "      <td>-0.010287</td>\n",
       "      <td>-0.020852</td>\n",
       "      <td>0.015441</td>\n",
       "      <td>-0.008965</td>\n",
       "    </tr>\n",
       "    <tr>\n",
       "      <th>waterfront</th>\n",
       "      <td>-0.011775</td>\n",
       "      <td>0.172580</td>\n",
       "      <td>-0.004819</td>\n",
       "      <td>0.075452</td>\n",
       "      <td>0.108137</td>\n",
       "      <td>0.025584</td>\n",
       "      <td>0.031159</td>\n",
       "      <td>1.000000</td>\n",
       "      <td>0.389669</td>\n",
       "      <td>0.011613</td>\n",
       "      <td>0.088061</td>\n",
       "      <td>0.081968</td>\n",
       "      <td>0.071576</td>\n",
       "      <td>-0.026523</td>\n",
       "      <td>0.104168</td>\n",
       "      <td>0.028632</td>\n",
       "      <td>-0.014772</td>\n",
       "      <td>-0.037922</td>\n",
       "      <td>0.091810</td>\n",
       "      <td>0.028255</td>\n",
       "      <td>-0.002041</td>\n",
       "      <td>0.005828</td>\n",
       "      <td>0.014694</td>\n",
       "    </tr>\n",
       "    <tr>\n",
       "      <th>view</th>\n",
       "      <td>-0.024360</td>\n",
       "      <td>0.347505</td>\n",
       "      <td>0.085703</td>\n",
       "      <td>0.187488</td>\n",
       "      <td>0.282821</td>\n",
       "      <td>0.080441</td>\n",
       "      <td>0.034511</td>\n",
       "      <td>0.389669</td>\n",
       "      <td>1.000000</td>\n",
       "      <td>0.045255</td>\n",
       "      <td>0.247924</td>\n",
       "      <td>0.172693</td>\n",
       "      <td>0.265880</td>\n",
       "      <td>-0.061670</td>\n",
       "      <td>0.107605</td>\n",
       "      <td>0.089247</td>\n",
       "      <td>0.005285</td>\n",
       "      <td>-0.073151</td>\n",
       "      <td>0.278267</td>\n",
       "      <td>0.076501</td>\n",
       "      <td>0.014233</td>\n",
       "      <td>-0.014440</td>\n",
       "      <td>0.013287</td>\n",
       "    </tr>\n",
       "    <tr>\n",
       "      <th>condition</th>\n",
       "      <td>-0.101618</td>\n",
       "      <td>0.042947</td>\n",
       "      <td>0.034885</td>\n",
       "      <td>-0.125907</td>\n",
       "      <td>-0.054213</td>\n",
       "      <td>-0.002099</td>\n",
       "      <td>-0.261016</td>\n",
       "      <td>0.011613</td>\n",
       "      <td>0.045255</td>\n",
       "      <td>1.000000</td>\n",
       "      <td>-0.143599</td>\n",
       "      <td>-0.152856</td>\n",
       "      <td>0.175064</td>\n",
       "      <td>-0.366590</td>\n",
       "      <td>-0.062342</td>\n",
       "      <td>0.001106</td>\n",
       "      <td>-0.015974</td>\n",
       "      <td>-0.110742</td>\n",
       "      <td>-0.091407</td>\n",
       "      <td>-0.003873</td>\n",
       "      <td>-0.045968</td>\n",
       "      <td>0.020182</td>\n",
       "      <td>-0.003907</td>\n",
       "    </tr>\n",
       "    <tr>\n",
       "      <th>grade</th>\n",
       "      <td>0.078622</td>\n",
       "      <td>0.707412</td>\n",
       "      <td>0.375286</td>\n",
       "      <td>0.666278</td>\n",
       "      <td>0.762543</td>\n",
       "      <td>0.119906</td>\n",
       "      <td>0.462598</td>\n",
       "      <td>0.088061</td>\n",
       "      <td>0.247924</td>\n",
       "      <td>-0.143599</td>\n",
       "      <td>1.000000</td>\n",
       "      <td>0.759240</td>\n",
       "      <td>0.162657</td>\n",
       "      <td>0.440608</td>\n",
       "      <td>0.030155</td>\n",
       "      <td>-0.186541</td>\n",
       "      <td>0.112319</td>\n",
       "      <td>0.202130</td>\n",
       "      <td>0.715321</td>\n",
       "      <td>0.119734</td>\n",
       "      <td>-0.022660</td>\n",
       "      <td>0.009230</td>\n",
       "      <td>-0.019799</td>\n",
       "    </tr>\n",
       "    <tr>\n",
       "      <th>sqft_above</th>\n",
       "      <td>0.073086</td>\n",
       "      <td>0.607197</td>\n",
       "      <td>0.494867</td>\n",
       "      <td>0.688255</td>\n",
       "      <td>0.878736</td>\n",
       "      <td>0.186242</td>\n",
       "      <td>0.529476</td>\n",
       "      <td>0.081968</td>\n",
       "      <td>0.172693</td>\n",
       "      <td>-0.152856</td>\n",
       "      <td>0.759240</td>\n",
       "      <td>1.000000</td>\n",
       "      <td>-0.048623</td>\n",
       "      <td>0.422431</td>\n",
       "      <td>0.031441</td>\n",
       "      <td>-0.258474</td>\n",
       "      <td>0.001074</td>\n",
       "      <td>0.347226</td>\n",
       "      <td>0.737795</td>\n",
       "      <td>0.194226</td>\n",
       "      <td>-0.019124</td>\n",
       "      <td>0.010427</td>\n",
       "      <td>-0.007108</td>\n",
       "    </tr>\n",
       "    <tr>\n",
       "      <th>sqft_basement</th>\n",
       "      <td>-0.050634</td>\n",
       "      <td>0.314378</td>\n",
       "      <td>0.315183</td>\n",
       "      <td>0.282642</td>\n",
       "      <td>0.434017</td>\n",
       "      <td>0.017818</td>\n",
       "      <td>-0.239350</td>\n",
       "      <td>0.071576</td>\n",
       "      <td>0.265880</td>\n",
       "      <td>0.175064</td>\n",
       "      <td>0.162657</td>\n",
       "      <td>-0.048623</td>\n",
       "      <td>1.000000</td>\n",
       "      <td>-0.136214</td>\n",
       "      <td>0.076452</td>\n",
       "      <td>0.067782</td>\n",
       "      <td>0.105969</td>\n",
       "      <td>-0.141792</td>\n",
       "      <td>0.198380</td>\n",
       "      <td>0.018813</td>\n",
       "      <td>-0.009185</td>\n",
       "      <td>0.000750</td>\n",
       "      <td>-0.009863</td>\n",
       "    </tr>\n",
       "    <tr>\n",
       "      <th>yr_built</th>\n",
       "      <td>0.202477</td>\n",
       "      <td>0.076294</td>\n",
       "      <td>0.158799</td>\n",
       "      <td>0.503964</td>\n",
       "      <td>0.315927</td>\n",
       "      <td>0.058686</td>\n",
       "      <td>0.490436</td>\n",
       "      <td>-0.026523</td>\n",
       "      <td>-0.061670</td>\n",
       "      <td>-0.366590</td>\n",
       "      <td>0.440608</td>\n",
       "      <td>0.422431</td>\n",
       "      <td>-0.136214</td>\n",
       "      <td>1.000000</td>\n",
       "      <td>-0.215760</td>\n",
       "      <td>-0.354280</td>\n",
       "      <td>-0.156563</td>\n",
       "      <td>0.414565</td>\n",
       "      <td>0.324221</td>\n",
       "      <td>0.076009</td>\n",
       "      <td>0.004381</td>\n",
       "      <td>-0.001425</td>\n",
       "      <td>-0.011638</td>\n",
       "    </tr>\n",
       "    <tr>\n",
       "      <th>yr_renovated</th>\n",
       "      <td>-0.029810</td>\n",
       "      <td>0.127533</td>\n",
       "      <td>0.022729</td>\n",
       "      <td>0.065423</td>\n",
       "      <td>0.064893</td>\n",
       "      <td>-0.001451</td>\n",
       "      <td>0.009752</td>\n",
       "      <td>0.104168</td>\n",
       "      <td>0.107605</td>\n",
       "      <td>-0.062342</td>\n",
       "      <td>0.030155</td>\n",
       "      <td>0.031441</td>\n",
       "      <td>0.076452</td>\n",
       "      <td>-0.215760</td>\n",
       "      <td>1.000000</td>\n",
       "      <td>0.068307</td>\n",
       "      <td>0.034844</td>\n",
       "      <td>-0.070134</td>\n",
       "      <td>0.007995</td>\n",
       "      <td>-0.000348</td>\n",
       "      <td>-0.019075</td>\n",
       "      <td>0.006802</td>\n",
       "      <td>0.016533</td>\n",
       "    </tr>\n",
       "    <tr>\n",
       "      <th>zipcode</th>\n",
       "      <td>-0.005761</td>\n",
       "      <td>-0.039195</td>\n",
       "      <td>-0.162081</td>\n",
       "      <td>-0.207500</td>\n",
       "      <td>-0.200745</td>\n",
       "      <td>-0.127709</td>\n",
       "      <td>-0.059107</td>\n",
       "      <td>0.028632</td>\n",
       "      <td>0.089247</td>\n",
       "      <td>0.001106</td>\n",
       "      <td>-0.186541</td>\n",
       "      <td>-0.258474</td>\n",
       "      <td>0.067782</td>\n",
       "      <td>-0.354280</td>\n",
       "      <td>0.068307</td>\n",
       "      <td>1.000000</td>\n",
       "      <td>0.261312</td>\n",
       "      <td>-0.563455</td>\n",
       "      <td>-0.274176</td>\n",
       "      <td>-0.145710</td>\n",
       "      <td>-0.000743</td>\n",
       "      <td>0.000282</td>\n",
       "      <td>-0.007562</td>\n",
       "    </tr>\n",
       "    <tr>\n",
       "      <th>lat</th>\n",
       "      <td>0.002588</td>\n",
       "      <td>0.444417</td>\n",
       "      <td>-0.011190</td>\n",
       "      <td>0.018110</td>\n",
       "      <td>0.051609</td>\n",
       "      <td>-0.082234</td>\n",
       "      <td>0.049004</td>\n",
       "      <td>-0.014772</td>\n",
       "      <td>0.005285</td>\n",
       "      <td>-0.015974</td>\n",
       "      <td>0.112319</td>\n",
       "      <td>0.001074</td>\n",
       "      <td>0.105969</td>\n",
       "      <td>-0.156563</td>\n",
       "      <td>0.034844</td>\n",
       "      <td>0.261312</td>\n",
       "      <td>1.000000</td>\n",
       "      <td>-0.133460</td>\n",
       "      <td>0.048924</td>\n",
       "      <td>-0.081725</td>\n",
       "      <td>-0.031389</td>\n",
       "      <td>0.019899</td>\n",
       "      <td>-0.015690</td>\n",
       "    </tr>\n",
       "    <tr>\n",
       "      <th>long</th>\n",
       "      <td>0.014757</td>\n",
       "      <td>0.054362</td>\n",
       "      <td>0.135802</td>\n",
       "      <td>0.227669</td>\n",
       "      <td>0.245429</td>\n",
       "      <td>0.227451</td>\n",
       "      <td>0.126983</td>\n",
       "      <td>-0.037922</td>\n",
       "      <td>-0.073151</td>\n",
       "      <td>-0.110742</td>\n",
       "      <td>0.202130</td>\n",
       "      <td>0.347226</td>\n",
       "      <td>-0.141792</td>\n",
       "      <td>0.414565</td>\n",
       "      <td>-0.070134</td>\n",
       "      <td>-0.563455</td>\n",
       "      <td>-0.133460</td>\n",
       "      <td>1.000000</td>\n",
       "      <td>0.333673</td>\n",
       "      <td>0.256201</td>\n",
       "      <td>0.003253</td>\n",
       "      <td>-0.007618</td>\n",
       "      <td>-0.006330</td>\n",
       "    </tr>\n",
       "    <tr>\n",
       "      <th>sqft_living15</th>\n",
       "      <td>0.029248</td>\n",
       "      <td>0.621800</td>\n",
       "      <td>0.407394</td>\n",
       "      <td>0.573541</td>\n",
       "      <td>0.760271</td>\n",
       "      <td>0.147562</td>\n",
       "      <td>0.287125</td>\n",
       "      <td>0.091810</td>\n",
       "      <td>0.278267</td>\n",
       "      <td>-0.091407</td>\n",
       "      <td>0.715321</td>\n",
       "      <td>0.737795</td>\n",
       "      <td>0.198380</td>\n",
       "      <td>0.324221</td>\n",
       "      <td>0.007995</td>\n",
       "      <td>-0.274176</td>\n",
       "      <td>0.048924</td>\n",
       "      <td>0.333673</td>\n",
       "      <td>1.000000</td>\n",
       "      <td>0.183599</td>\n",
       "      <td>-0.013523</td>\n",
       "      <td>-0.001068</td>\n",
       "      <td>-0.009914</td>\n",
       "    </tr>\n",
       "    <tr>\n",
       "      <th>sqft_lot15</th>\n",
       "      <td>-0.032269</td>\n",
       "      <td>0.096976</td>\n",
       "      <td>0.027242</td>\n",
       "      <td>0.088120</td>\n",
       "      <td>0.184176</td>\n",
       "      <td>0.728458</td>\n",
       "      <td>-0.010287</td>\n",
       "      <td>0.028255</td>\n",
       "      <td>0.076501</td>\n",
       "      <td>-0.003873</td>\n",
       "      <td>0.119734</td>\n",
       "      <td>0.194226</td>\n",
       "      <td>0.018813</td>\n",
       "      <td>0.076009</td>\n",
       "      <td>-0.000348</td>\n",
       "      <td>-0.145710</td>\n",
       "      <td>-0.081725</td>\n",
       "      <td>0.256201</td>\n",
       "      <td>0.183599</td>\n",
       "      <td>1.000000</td>\n",
       "      <td>0.003022</td>\n",
       "      <td>0.004651</td>\n",
       "      <td>0.005678</td>\n",
       "    </tr>\n",
       "    <tr>\n",
       "      <th>year</th>\n",
       "      <td>-0.013244</td>\n",
       "      <td>0.009913</td>\n",
       "      <td>-0.002067</td>\n",
       "      <td>-0.022161</td>\n",
       "      <td>-0.021638</td>\n",
       "      <td>0.007243</td>\n",
       "      <td>-0.020852</td>\n",
       "      <td>-0.002041</td>\n",
       "      <td>0.014233</td>\n",
       "      <td>-0.045968</td>\n",
       "      <td>-0.022660</td>\n",
       "      <td>-0.019124</td>\n",
       "      <td>-0.009185</td>\n",
       "      <td>0.004381</td>\n",
       "      <td>-0.019075</td>\n",
       "      <td>-0.000743</td>\n",
       "      <td>-0.031389</td>\n",
       "      <td>0.003253</td>\n",
       "      <td>-0.013523</td>\n",
       "      <td>0.003022</td>\n",
       "      <td>1.000000</td>\n",
       "      <td>-0.781074</td>\n",
       "      <td>-0.005003</td>\n",
       "    </tr>\n",
       "    <tr>\n",
       "      <th>month</th>\n",
       "      <td>0.009917</td>\n",
       "      <td>-0.013975</td>\n",
       "      <td>-0.007382</td>\n",
       "      <td>0.007759</td>\n",
       "      <td>0.009763</td>\n",
       "      <td>-0.001897</td>\n",
       "      <td>0.015441</td>\n",
       "      <td>0.005828</td>\n",
       "      <td>-0.014440</td>\n",
       "      <td>0.020182</td>\n",
       "      <td>0.009230</td>\n",
       "      <td>0.010427</td>\n",
       "      <td>0.000750</td>\n",
       "      <td>-0.001425</td>\n",
       "      <td>0.006802</td>\n",
       "      <td>0.000282</td>\n",
       "      <td>0.019899</td>\n",
       "      <td>-0.007618</td>\n",
       "      <td>-0.001068</td>\n",
       "      <td>0.004651</td>\n",
       "      <td>-0.781074</td>\n",
       "      <td>1.000000</td>\n",
       "      <td>-0.061457</td>\n",
       "    </tr>\n",
       "    <tr>\n",
       "      <th>day</th>\n",
       "      <td>0.002289</td>\n",
       "      <td>-0.020578</td>\n",
       "      <td>-0.012671</td>\n",
       "      <td>-0.010256</td>\n",
       "      <td>-0.011125</td>\n",
       "      <td>0.003807</td>\n",
       "      <td>-0.008965</td>\n",
       "      <td>0.014694</td>\n",
       "      <td>0.013287</td>\n",
       "      <td>-0.003907</td>\n",
       "      <td>-0.019799</td>\n",
       "      <td>-0.007108</td>\n",
       "      <td>-0.009863</td>\n",
       "      <td>-0.011638</td>\n",
       "      <td>0.016533</td>\n",
       "      <td>-0.007562</td>\n",
       "      <td>-0.015690</td>\n",
       "      <td>-0.006330</td>\n",
       "      <td>-0.009914</td>\n",
       "      <td>0.005678</td>\n",
       "      <td>-0.005003</td>\n",
       "      <td>-0.061457</td>\n",
       "      <td>1.000000</td>\n",
       "    </tr>\n",
       "  </tbody>\n",
       "</table>\n",
       "</div>"
      ],
      "text/plain": [
       "                     id     price  bedrooms  bathrooms  sqft_living  sqft_lot  \\\n",
       "id             1.000000  0.035940  0.010520   0.104030     0.041725 -0.034077   \n",
       "price          0.035940  1.000000  0.359946   0.552000     0.697907  0.108946   \n",
       "bedrooms       0.010520  0.359946  1.000000   0.530548     0.596974  0.033475   \n",
       "bathrooms      0.104030  0.552000  0.530548   1.000000     0.755853  0.089308   \n",
       "sqft_living    0.041725  0.697907  0.596974   0.755853     1.000000  0.176500   \n",
       "sqft_lot      -0.034077  0.108946  0.033475   0.089308     0.176500  1.000000   \n",
       "floors         0.182848  0.317810  0.189532   0.508649     0.363193  0.001535   \n",
       "waterfront    -0.011775  0.172580 -0.004819   0.075452     0.108137  0.025584   \n",
       "view          -0.024360  0.347505  0.085703   0.187488     0.282821  0.080441   \n",
       "condition     -0.101618  0.042947  0.034885  -0.125907    -0.054213 -0.002099   \n",
       "grade          0.078622  0.707412  0.375286   0.666278     0.762543  0.119906   \n",
       "sqft_above     0.073086  0.607197  0.494867   0.688255     0.878736  0.186242   \n",
       "sqft_basement -0.050634  0.314378  0.315183   0.282642     0.434017  0.017818   \n",
       "yr_built       0.202477  0.076294  0.158799   0.503964     0.315927  0.058686   \n",
       "yr_renovated  -0.029810  0.127533  0.022729   0.065423     0.064893 -0.001451   \n",
       "zipcode       -0.005761 -0.039195 -0.162081  -0.207500    -0.200745 -0.127709   \n",
       "lat            0.002588  0.444417 -0.011190   0.018110     0.051609 -0.082234   \n",
       "long           0.014757  0.054362  0.135802   0.227669     0.245429  0.227451   \n",
       "sqft_living15  0.029248  0.621800  0.407394   0.573541     0.760271  0.147562   \n",
       "sqft_lot15    -0.032269  0.096976  0.027242   0.088120     0.184176  0.728458   \n",
       "year          -0.013244  0.009913 -0.002067  -0.022161    -0.021638  0.007243   \n",
       "month          0.009917 -0.013975 -0.007382   0.007759     0.009763 -0.001897   \n",
       "day            0.002289 -0.020578 -0.012671  -0.010256    -0.011125  0.003807   \n",
       "\n",
       "                 floors  waterfront      view  condition     grade  \\\n",
       "id             0.182848   -0.011775 -0.024360  -0.101618  0.078622   \n",
       "price          0.317810    0.172580  0.347505   0.042947  0.707412   \n",
       "bedrooms       0.189532   -0.004819  0.085703   0.034885  0.375286   \n",
       "bathrooms      0.508649    0.075452  0.187488  -0.125907  0.666278   \n",
       "sqft_living    0.363193    0.108137  0.282821  -0.054213  0.762543   \n",
       "sqft_lot       0.001535    0.025584  0.080441  -0.002099  0.119906   \n",
       "floors         1.000000    0.031159  0.034511  -0.261016  0.462598   \n",
       "waterfront     0.031159    1.000000  0.389669   0.011613  0.088061   \n",
       "view           0.034511    0.389669  1.000000   0.045255  0.247924   \n",
       "condition     -0.261016    0.011613  0.045255   1.000000 -0.143599   \n",
       "grade          0.462598    0.088061  0.247924  -0.143599  1.000000   \n",
       "sqft_above     0.529476    0.081968  0.172693  -0.152856  0.759240   \n",
       "sqft_basement -0.239350    0.071576  0.265880   0.175064  0.162657   \n",
       "yr_built       0.490436   -0.026523 -0.061670  -0.366590  0.440608   \n",
       "yr_renovated   0.009752    0.104168  0.107605  -0.062342  0.030155   \n",
       "zipcode       -0.059107    0.028632  0.089247   0.001106 -0.186541   \n",
       "lat            0.049004   -0.014772  0.005285  -0.015974  0.112319   \n",
       "long           0.126983   -0.037922 -0.073151  -0.110742  0.202130   \n",
       "sqft_living15  0.287125    0.091810  0.278267  -0.091407  0.715321   \n",
       "sqft_lot15    -0.010287    0.028255  0.076501  -0.003873  0.119734   \n",
       "year          -0.020852   -0.002041  0.014233  -0.045968 -0.022660   \n",
       "month          0.015441    0.005828 -0.014440   0.020182  0.009230   \n",
       "day           -0.008965    0.014694  0.013287  -0.003907 -0.019799   \n",
       "\n",
       "               sqft_above  sqft_basement  yr_built  yr_renovated   zipcode  \\\n",
       "id               0.073086      -0.050634  0.202477     -0.029810 -0.005761   \n",
       "price            0.607197       0.314378  0.076294      0.127533 -0.039195   \n",
       "bedrooms         0.494867       0.315183  0.158799      0.022729 -0.162081   \n",
       "bathrooms        0.688255       0.282642  0.503964      0.065423 -0.207500   \n",
       "sqft_living      0.878736       0.434017  0.315927      0.064893 -0.200745   \n",
       "sqft_lot         0.186242       0.017818  0.058686     -0.001451 -0.127709   \n",
       "floors           0.529476      -0.239350  0.490436      0.009752 -0.059107   \n",
       "waterfront       0.081968       0.071576 -0.026523      0.104168  0.028632   \n",
       "view             0.172693       0.265880 -0.061670      0.107605  0.089247   \n",
       "condition       -0.152856       0.175064 -0.366590     -0.062342  0.001106   \n",
       "grade            0.759240       0.162657  0.440608      0.030155 -0.186541   \n",
       "sqft_above       1.000000      -0.048623  0.422431      0.031441 -0.258474   \n",
       "sqft_basement   -0.048623       1.000000 -0.136214      0.076452  0.067782   \n",
       "yr_built         0.422431      -0.136214  1.000000     -0.215760 -0.354280   \n",
       "yr_renovated     0.031441       0.076452 -0.215760      1.000000  0.068307   \n",
       "zipcode         -0.258474       0.067782 -0.354280      0.068307  1.000000   \n",
       "lat              0.001074       0.105969 -0.156563      0.034844  0.261312   \n",
       "long             0.347226      -0.141792  0.414565     -0.070134 -0.563455   \n",
       "sqft_living15    0.737795       0.198380  0.324221      0.007995 -0.274176   \n",
       "sqft_lot15       0.194226       0.018813  0.076009     -0.000348 -0.145710   \n",
       "year            -0.019124      -0.009185  0.004381     -0.019075 -0.000743   \n",
       "month            0.010427       0.000750 -0.001425      0.006802  0.000282   \n",
       "day             -0.007108      -0.009863 -0.011638      0.016533 -0.007562   \n",
       "\n",
       "                    lat      long  sqft_living15  sqft_lot15      year  \\\n",
       "id             0.002588  0.014757       0.029248   -0.032269 -0.013244   \n",
       "price          0.444417  0.054362       0.621800    0.096976  0.009913   \n",
       "bedrooms      -0.011190  0.135802       0.407394    0.027242 -0.002067   \n",
       "bathrooms      0.018110  0.227669       0.573541    0.088120 -0.022161   \n",
       "sqft_living    0.051609  0.245429       0.760271    0.184176 -0.021638   \n",
       "sqft_lot      -0.082234  0.227451       0.147562    0.728458  0.007243   \n",
       "floors         0.049004  0.126983       0.287125   -0.010287 -0.020852   \n",
       "waterfront    -0.014772 -0.037922       0.091810    0.028255 -0.002041   \n",
       "view           0.005285 -0.073151       0.278267    0.076501  0.014233   \n",
       "condition     -0.015974 -0.110742      -0.091407   -0.003873 -0.045968   \n",
       "grade          0.112319  0.202130       0.715321    0.119734 -0.022660   \n",
       "sqft_above     0.001074  0.347226       0.737795    0.194226 -0.019124   \n",
       "sqft_basement  0.105969 -0.141792       0.198380    0.018813 -0.009185   \n",
       "yr_built      -0.156563  0.414565       0.324221    0.076009  0.004381   \n",
       "yr_renovated   0.034844 -0.070134       0.007995   -0.000348 -0.019075   \n",
       "zipcode        0.261312 -0.563455      -0.274176   -0.145710 -0.000743   \n",
       "lat            1.000000 -0.133460       0.048924   -0.081725 -0.031389   \n",
       "long          -0.133460  1.000000       0.333673    0.256201  0.003253   \n",
       "sqft_living15  0.048924  0.333673       1.000000    0.183599 -0.013523   \n",
       "sqft_lot15    -0.081725  0.256201       0.183599    1.000000  0.003022   \n",
       "year          -0.031389  0.003253      -0.013523    0.003022  1.000000   \n",
       "month          0.019899 -0.007618      -0.001068    0.004651 -0.781074   \n",
       "day           -0.015690 -0.006330      -0.009914    0.005678 -0.005003   \n",
       "\n",
       "                  month       day  \n",
       "id             0.009917  0.002289  \n",
       "price         -0.013975 -0.020578  \n",
       "bedrooms      -0.007382 -0.012671  \n",
       "bathrooms      0.007759 -0.010256  \n",
       "sqft_living    0.009763 -0.011125  \n",
       "sqft_lot      -0.001897  0.003807  \n",
       "floors         0.015441 -0.008965  \n",
       "waterfront     0.005828  0.014694  \n",
       "view          -0.014440  0.013287  \n",
       "condition      0.020182 -0.003907  \n",
       "grade          0.009230 -0.019799  \n",
       "sqft_above     0.010427 -0.007108  \n",
       "sqft_basement  0.000750 -0.009863  \n",
       "yr_built      -0.001425 -0.011638  \n",
       "yr_renovated   0.006802  0.016533  \n",
       "zipcode        0.000282 -0.007562  \n",
       "lat            0.019899 -0.015690  \n",
       "long          -0.007618 -0.006330  \n",
       "sqft_living15 -0.001068 -0.009914  \n",
       "sqft_lot15     0.004651  0.005678  \n",
       "year          -0.781074 -0.005003  \n",
       "month          1.000000 -0.061457  \n",
       "day           -0.061457  1.000000  "
      ]
     },
     "execution_count": 44,
     "metadata": {},
     "output_type": "execute_result"
    }
   ],
   "source": [
    "train_set.corr()"
   ]
  },
  {
   "cell_type": "code",
   "execution_count": 45,
   "metadata": {},
   "outputs": [
    {
     "name": "stdout",
     "output_type": "stream",
     "text": [
      "                            OLS Regression Results                            \n",
      "==============================================================================\n",
      "Dep. Variable:                  price   R-squared:                       0.561\n",
      "Model:                            OLS   Adj. R-squared:                  0.561\n",
      "Method:                 Least Squares   F-statistic:                     6410.\n",
      "Date:                Fri, 15 Mar 2019   Prob (F-statistic):               0.00\n",
      "Time:                        11:29:17   Log-Likelihood:                -5522.1\n",
      "No. Observations:               15035   AIC:                         1.105e+04\n",
      "Df Residuals:                   15031   BIC:                         1.108e+04\n",
      "Df Model:                           3                                         \n",
      "Covariance Type:            nonrobust                                         \n",
      "===============================================================================\n",
      "                  coef    std err          t      P>|t|      [0.025      0.975]\n",
      "-------------------------------------------------------------------------------\n",
      "Intercept      11.2270      0.025    446.834      0.000      11.178      11.276\n",
      "grade           0.1840      0.004     48.703      0.000       0.177       0.191\n",
      "sqft_living     0.0002   5.59e-06     41.587      0.000       0.000       0.000\n",
      "bedrooms       -0.0216      0.004     -5.422      0.000      -0.029      -0.014\n",
      "==============================================================================\n",
      "Omnibus:                       36.628   Durbin-Watson:                   1.983\n",
      "Prob(Omnibus):                  0.000   Jarque-Bera (JB):               36.188\n",
      "Skew:                           0.109   Prob(JB):                     1.39e-08\n",
      "Kurtosis:                       2.898   Cond. No.                     2.03e+04\n",
      "==============================================================================\n",
      "\n",
      "Warnings:\n",
      "[1] Standard Errors assume that the covariance matrix of the errors is correctly specified.\n",
      "[2] The condition number is large, 2.03e+04. This might indicate that there are\n",
      "strong multicollinearity or other numerical problems.\n"
     ]
    }
   ],
   "source": [
    "model = sm.OLS.from_formula(\"price ~ grade + sqft_living + bedrooms\", data=train_set)\n",
    "result = model.fit()\n",
    "print(result.summary())"
   ]
  },
  {
   "cell_type": "code",
   "execution_count": 46,
   "metadata": {},
   "outputs": [
    {
     "name": "stdout",
     "output_type": "stream",
     "text": [
      "                            OLS Regression Results                            \n",
      "==============================================================================\n",
      "Dep. Variable:        np.log1p(price)   R-squared:                       0.564\n",
      "Model:                            OLS   Adj. R-squared:                  0.564\n",
      "Method:                 Least Squares   F-statistic:                     3891.\n",
      "Date:                Fri, 15 Mar 2019   Prob (F-statistic):               0.00\n",
      "Time:                        11:29:17   Log-Likelihood:                 34347.\n",
      "No. Observations:               15035   AIC:                        -6.868e+04\n",
      "Df Residuals:                   15029   BIC:                        -6.864e+04\n",
      "Df Model:                           5                                         \n",
      "Covariance Type:            nonrobust                                         \n",
      "============================================================================================\n",
      "                               coef    std err          t      P>|t|      [0.025      0.975]\n",
      "--------------------------------------------------------------------------------------------\n",
      "Intercept                    2.5133      0.002   1416.457      0.000       2.510       2.517\n",
      "grade                        0.0122      0.000     43.380      0.000       0.012       0.013\n",
      "C(waterfront)[T.1]:grade     0.0042      0.000     15.640      0.000       0.004       0.005\n",
      "sqft_living               1.337e-05    4.4e-07     30.420      0.000    1.25e-05    1.42e-05\n",
      "sqft_living15             4.898e-06   4.73e-07     10.351      0.000    3.97e-06    5.83e-06\n",
      "bedrooms                    -0.0008      0.000     -2.853      0.004      -0.001      -0.000\n",
      "==============================================================================\n",
      "Omnibus:                       32.088   Durbin-Watson:                   1.987\n",
      "Prob(Omnibus):                  0.000   Jarque-Bera (JB):               26.193\n",
      "Skew:                          -0.016   Prob(JB):                     2.05e-06\n",
      "Kurtosis:                       2.798   Cond. No.                     2.75e+04\n",
      "==============================================================================\n",
      "\n",
      "Warnings:\n",
      "[1] Standard Errors assume that the covariance matrix of the errors is correctly specified.\n",
      "[2] The condition number is large, 2.75e+04. This might indicate that there are\n",
      "strong multicollinearity or other numerical problems.\n"
     ]
    }
   ],
   "source": [
    "model = sm.OLS.from_formula(\"np.log1p(price) ~ grade + sqft_living + sqft_living15 + bedrooms + C(waterfront):grade\", data=train_set)\n",
    "result = model.fit()\n",
    "print(result.summary())"
   ]
  },
  {
   "cell_type": "code",
   "execution_count": 47,
   "metadata": {
    "scrolled": true
   },
   "outputs": [
    {
     "ename": "PatsyError",
     "evalue": "Error evaluating factor: NameError: name 'yr' is not defined\n    price ~ grade + sqft_living + sqft_living15 + sqft_above + bathrooms +                            lat + bedrooms + view + floors + sqft_basement + C(waterfront) + yr\n                                                                                                                                                                       ^^",
     "output_type": "error",
     "traceback": [
      "\u001b[0;31m---------------------------------------------------------------------------\u001b[0m",
      "\u001b[0;31mNameError\u001b[0m                                 Traceback (most recent call last)",
      "\u001b[0;32m~/.pyenv/versions/3.7.0/envs/dss/lib/python3.7/site-packages/patsy/compat.py\u001b[0m in \u001b[0;36mcall_and_wrap_exc\u001b[0;34m(msg, origin, f, *args, **kwargs)\u001b[0m\n\u001b[1;32m     35\u001b[0m     \u001b[0;32mtry\u001b[0m\u001b[0;34m:\u001b[0m\u001b[0;34m\u001b[0m\u001b[0m\n\u001b[0;32m---> 36\u001b[0;31m         \u001b[0;32mreturn\u001b[0m \u001b[0mf\u001b[0m\u001b[0;34m(\u001b[0m\u001b[0;34m*\u001b[0m\u001b[0margs\u001b[0m\u001b[0;34m,\u001b[0m \u001b[0;34m**\u001b[0m\u001b[0mkwargs\u001b[0m\u001b[0;34m)\u001b[0m\u001b[0;34m\u001b[0m\u001b[0m\n\u001b[0m\u001b[1;32m     37\u001b[0m     \u001b[0;32mexcept\u001b[0m \u001b[0mException\u001b[0m \u001b[0;32mas\u001b[0m \u001b[0me\u001b[0m\u001b[0;34m:\u001b[0m\u001b[0;34m\u001b[0m\u001b[0m\n",
      "\u001b[0;32m~/.pyenv/versions/3.7.0/envs/dss/lib/python3.7/site-packages/patsy/eval.py\u001b[0m in \u001b[0;36meval\u001b[0;34m(self, expr, source_name, inner_namespace)\u001b[0m\n\u001b[1;32m    165\u001b[0m         return eval(code, {}, VarLookupDict([inner_namespace]\n\u001b[0;32m--> 166\u001b[0;31m                                             + self._namespaces))\n\u001b[0m\u001b[1;32m    167\u001b[0m \u001b[0;34m\u001b[0m\u001b[0m\n",
      "\u001b[0;32m<string>\u001b[0m in \u001b[0;36m<module>\u001b[0;34m\u001b[0m\n",
      "\u001b[0;31mNameError\u001b[0m: name 'yr' is not defined",
      "\nThe above exception was the direct cause of the following exception:\n",
      "\u001b[0;31mPatsyError\u001b[0m                                Traceback (most recent call last)",
      "\u001b[0;32m<ipython-input-47-7b12e8f4f805>\u001b[0m in \u001b[0;36m<module>\u001b[0;34m\u001b[0m\n\u001b[1;32m      1\u001b[0m model = sm.OLS.from_formula(\"price ~ grade + sqft_living + sqft_living15 + sqft_above + bathrooms +\\\n\u001b[0;32m----> 2\u001b[0;31m                             lat + bedrooms + view + floors + sqft_basement + C(waterfront) + yr\", data=train_set)\n\u001b[0m\u001b[1;32m      3\u001b[0m \u001b[0mresult\u001b[0m \u001b[0;34m=\u001b[0m \u001b[0mmodel\u001b[0m\u001b[0;34m.\u001b[0m\u001b[0mfit\u001b[0m\u001b[0;34m(\u001b[0m\u001b[0;34m)\u001b[0m\u001b[0;34m\u001b[0m\u001b[0m\n\u001b[1;32m      4\u001b[0m \u001b[0mprint\u001b[0m\u001b[0;34m(\u001b[0m\u001b[0mresult\u001b[0m\u001b[0;34m.\u001b[0m\u001b[0msummary\u001b[0m\u001b[0;34m(\u001b[0m\u001b[0;34m)\u001b[0m\u001b[0;34m)\u001b[0m\u001b[0;34m\u001b[0m\u001b[0m\n",
      "\u001b[0;32m~/.pyenv/versions/3.7.0/envs/dss/lib/python3.7/site-packages/statsmodels/base/model.py\u001b[0m in \u001b[0;36mfrom_formula\u001b[0;34m(cls, formula, data, subset, drop_cols, *args, **kwargs)\u001b[0m\n\u001b[1;32m    153\u001b[0m \u001b[0;34m\u001b[0m\u001b[0m\n\u001b[1;32m    154\u001b[0m         tmp = handle_formula_data(data, None, formula, depth=eval_env,\n\u001b[0;32m--> 155\u001b[0;31m                                   missing=missing)\n\u001b[0m\u001b[1;32m    156\u001b[0m         \u001b[0;34m(\u001b[0m\u001b[0;34m(\u001b[0m\u001b[0mendog\u001b[0m\u001b[0;34m,\u001b[0m \u001b[0mexog\u001b[0m\u001b[0;34m)\u001b[0m\u001b[0;34m,\u001b[0m \u001b[0mmissing_idx\u001b[0m\u001b[0;34m,\u001b[0m \u001b[0mdesign_info\u001b[0m\u001b[0;34m)\u001b[0m \u001b[0;34m=\u001b[0m \u001b[0mtmp\u001b[0m\u001b[0;34m\u001b[0m\u001b[0m\n\u001b[1;32m    157\u001b[0m \u001b[0;34m\u001b[0m\u001b[0m\n",
      "\u001b[0;32m~/.pyenv/versions/3.7.0/envs/dss/lib/python3.7/site-packages/statsmodels/formula/formulatools.py\u001b[0m in \u001b[0;36mhandle_formula_data\u001b[0;34m(Y, X, formula, depth, missing)\u001b[0m\n\u001b[1;32m     63\u001b[0m         \u001b[0;32mif\u001b[0m \u001b[0mdata_util\u001b[0m\u001b[0;34m.\u001b[0m\u001b[0m_is_using_pandas\u001b[0m\u001b[0;34m(\u001b[0m\u001b[0mY\u001b[0m\u001b[0;34m,\u001b[0m \u001b[0;32mNone\u001b[0m\u001b[0;34m)\u001b[0m\u001b[0;34m:\u001b[0m\u001b[0;34m\u001b[0m\u001b[0m\n\u001b[1;32m     64\u001b[0m             result = dmatrices(formula, Y, depth, return_type='dataframe',\n\u001b[0;32m---> 65\u001b[0;31m                                NA_action=na_action)\n\u001b[0m\u001b[1;32m     66\u001b[0m         \u001b[0;32melse\u001b[0m\u001b[0;34m:\u001b[0m\u001b[0;34m\u001b[0m\u001b[0m\n\u001b[1;32m     67\u001b[0m             result = dmatrices(formula, Y, depth, return_type='dataframe',\n",
      "\u001b[0;32m~/.pyenv/versions/3.7.0/envs/dss/lib/python3.7/site-packages/patsy/highlevel.py\u001b[0m in \u001b[0;36mdmatrices\u001b[0;34m(formula_like, data, eval_env, NA_action, return_type)\u001b[0m\n\u001b[1;32m    308\u001b[0m     \u001b[0meval_env\u001b[0m \u001b[0;34m=\u001b[0m \u001b[0mEvalEnvironment\u001b[0m\u001b[0;34m.\u001b[0m\u001b[0mcapture\u001b[0m\u001b[0;34m(\u001b[0m\u001b[0meval_env\u001b[0m\u001b[0;34m,\u001b[0m \u001b[0mreference\u001b[0m\u001b[0;34m=\u001b[0m\u001b[0;36m1\u001b[0m\u001b[0;34m)\u001b[0m\u001b[0;34m\u001b[0m\u001b[0m\n\u001b[1;32m    309\u001b[0m     (lhs, rhs) = _do_highlevel_design(formula_like, data, eval_env,\n\u001b[0;32m--> 310\u001b[0;31m                                       NA_action, return_type)\n\u001b[0m\u001b[1;32m    311\u001b[0m     \u001b[0;32mif\u001b[0m \u001b[0mlhs\u001b[0m\u001b[0;34m.\u001b[0m\u001b[0mshape\u001b[0m\u001b[0;34m[\u001b[0m\u001b[0;36m1\u001b[0m\u001b[0;34m]\u001b[0m \u001b[0;34m==\u001b[0m \u001b[0;36m0\u001b[0m\u001b[0;34m:\u001b[0m\u001b[0;34m\u001b[0m\u001b[0m\n\u001b[1;32m    312\u001b[0m         \u001b[0;32mraise\u001b[0m \u001b[0mPatsyError\u001b[0m\u001b[0;34m(\u001b[0m\u001b[0;34m\"model is missing required outcome variables\"\u001b[0m\u001b[0;34m)\u001b[0m\u001b[0;34m\u001b[0m\u001b[0m\n",
      "\u001b[0;32m~/.pyenv/versions/3.7.0/envs/dss/lib/python3.7/site-packages/patsy/highlevel.py\u001b[0m in \u001b[0;36m_do_highlevel_design\u001b[0;34m(formula_like, data, eval_env, NA_action, return_type)\u001b[0m\n\u001b[1;32m    163\u001b[0m         \u001b[0;32mreturn\u001b[0m \u001b[0miter\u001b[0m\u001b[0;34m(\u001b[0m\u001b[0;34m[\u001b[0m\u001b[0mdata\u001b[0m\u001b[0;34m]\u001b[0m\u001b[0;34m)\u001b[0m\u001b[0;34m\u001b[0m\u001b[0m\n\u001b[1;32m    164\u001b[0m     design_infos = _try_incr_builders(formula_like, data_iter_maker, eval_env,\n\u001b[0;32m--> 165\u001b[0;31m                                       NA_action)\n\u001b[0m\u001b[1;32m    166\u001b[0m     \u001b[0;32mif\u001b[0m \u001b[0mdesign_infos\u001b[0m \u001b[0;32mis\u001b[0m \u001b[0;32mnot\u001b[0m \u001b[0;32mNone\u001b[0m\u001b[0;34m:\u001b[0m\u001b[0;34m\u001b[0m\u001b[0m\n\u001b[1;32m    167\u001b[0m         return build_design_matrices(design_infos, data,\n",
      "\u001b[0;32m~/.pyenv/versions/3.7.0/envs/dss/lib/python3.7/site-packages/patsy/highlevel.py\u001b[0m in \u001b[0;36m_try_incr_builders\u001b[0;34m(formula_like, data_iter_maker, eval_env, NA_action)\u001b[0m\n\u001b[1;32m     68\u001b[0m                                       \u001b[0mdata_iter_maker\u001b[0m\u001b[0;34m,\u001b[0m\u001b[0;34m\u001b[0m\u001b[0m\n\u001b[1;32m     69\u001b[0m                                       \u001b[0meval_env\u001b[0m\u001b[0;34m,\u001b[0m\u001b[0;34m\u001b[0m\u001b[0m\n\u001b[0;32m---> 70\u001b[0;31m                                       NA_action)\n\u001b[0m\u001b[1;32m     71\u001b[0m     \u001b[0;32melse\u001b[0m\u001b[0;34m:\u001b[0m\u001b[0;34m\u001b[0m\u001b[0m\n\u001b[1;32m     72\u001b[0m         \u001b[0;32mreturn\u001b[0m \u001b[0;32mNone\u001b[0m\u001b[0;34m\u001b[0m\u001b[0m\n",
      "\u001b[0;32m~/.pyenv/versions/3.7.0/envs/dss/lib/python3.7/site-packages/patsy/build.py\u001b[0m in \u001b[0;36mdesign_matrix_builders\u001b[0;34m(termlists, data_iter_maker, eval_env, NA_action)\u001b[0m\n\u001b[1;32m    694\u001b[0m                                                    \u001b[0mfactor_states\u001b[0m\u001b[0;34m,\u001b[0m\u001b[0;34m\u001b[0m\u001b[0m\n\u001b[1;32m    695\u001b[0m                                                    \u001b[0mdata_iter_maker\u001b[0m\u001b[0;34m,\u001b[0m\u001b[0;34m\u001b[0m\u001b[0m\n\u001b[0;32m--> 696\u001b[0;31m                                                    NA_action)\n\u001b[0m\u001b[1;32m    697\u001b[0m     \u001b[0;31m# Now we need the factor infos, which encapsulate the knowledge of\u001b[0m\u001b[0;34m\u001b[0m\u001b[0;34m\u001b[0m\u001b[0m\n\u001b[1;32m    698\u001b[0m     \u001b[0;31m# how to turn any given factor into a chunk of data:\u001b[0m\u001b[0;34m\u001b[0m\u001b[0;34m\u001b[0m\u001b[0m\n",
      "\u001b[0;32m~/.pyenv/versions/3.7.0/envs/dss/lib/python3.7/site-packages/patsy/build.py\u001b[0m in \u001b[0;36m_examine_factor_types\u001b[0;34m(factors, factor_states, data_iter_maker, NA_action)\u001b[0m\n\u001b[1;32m    441\u001b[0m     \u001b[0;32mfor\u001b[0m \u001b[0mdata\u001b[0m \u001b[0;32min\u001b[0m \u001b[0mdata_iter_maker\u001b[0m\u001b[0;34m(\u001b[0m\u001b[0;34m)\u001b[0m\u001b[0;34m:\u001b[0m\u001b[0;34m\u001b[0m\u001b[0m\n\u001b[1;32m    442\u001b[0m         \u001b[0;32mfor\u001b[0m \u001b[0mfactor\u001b[0m \u001b[0;32min\u001b[0m \u001b[0mlist\u001b[0m\u001b[0;34m(\u001b[0m\u001b[0mexamine_needed\u001b[0m\u001b[0;34m)\u001b[0m\u001b[0;34m:\u001b[0m\u001b[0;34m\u001b[0m\u001b[0m\n\u001b[0;32m--> 443\u001b[0;31m             \u001b[0mvalue\u001b[0m \u001b[0;34m=\u001b[0m \u001b[0mfactor\u001b[0m\u001b[0;34m.\u001b[0m\u001b[0meval\u001b[0m\u001b[0;34m(\u001b[0m\u001b[0mfactor_states\u001b[0m\u001b[0;34m[\u001b[0m\u001b[0mfactor\u001b[0m\u001b[0;34m]\u001b[0m\u001b[0;34m,\u001b[0m \u001b[0mdata\u001b[0m\u001b[0;34m)\u001b[0m\u001b[0;34m\u001b[0m\u001b[0m\n\u001b[0m\u001b[1;32m    444\u001b[0m             \u001b[0;32mif\u001b[0m \u001b[0mfactor\u001b[0m \u001b[0;32min\u001b[0m \u001b[0mcat_sniffers\u001b[0m \u001b[0;32mor\u001b[0m \u001b[0mguess_categorical\u001b[0m\u001b[0;34m(\u001b[0m\u001b[0mvalue\u001b[0m\u001b[0;34m)\u001b[0m\u001b[0;34m:\u001b[0m\u001b[0;34m\u001b[0m\u001b[0m\n\u001b[1;32m    445\u001b[0m                 \u001b[0;32mif\u001b[0m \u001b[0mfactor\u001b[0m \u001b[0;32mnot\u001b[0m \u001b[0;32min\u001b[0m \u001b[0mcat_sniffers\u001b[0m\u001b[0;34m:\u001b[0m\u001b[0;34m\u001b[0m\u001b[0m\n",
      "\u001b[0;32m~/.pyenv/versions/3.7.0/envs/dss/lib/python3.7/site-packages/patsy/eval.py\u001b[0m in \u001b[0;36meval\u001b[0;34m(self, memorize_state, data)\u001b[0m\n\u001b[1;32m    564\u001b[0m         return self._eval(memorize_state[\"eval_code\"],\n\u001b[1;32m    565\u001b[0m                           \u001b[0mmemorize_state\u001b[0m\u001b[0;34m,\u001b[0m\u001b[0;34m\u001b[0m\u001b[0m\n\u001b[0;32m--> 566\u001b[0;31m                           data)\n\u001b[0m\u001b[1;32m    567\u001b[0m \u001b[0;34m\u001b[0m\u001b[0m\n\u001b[1;32m    568\u001b[0m     \u001b[0m__getstate__\u001b[0m \u001b[0;34m=\u001b[0m \u001b[0mno_pickling\u001b[0m\u001b[0;34m\u001b[0m\u001b[0m\n",
      "\u001b[0;32m~/.pyenv/versions/3.7.0/envs/dss/lib/python3.7/site-packages/patsy/eval.py\u001b[0m in \u001b[0;36m_eval\u001b[0;34m(self, code, memorize_state, data)\u001b[0m\n\u001b[1;32m    549\u001b[0m                                  \u001b[0mmemorize_state\u001b[0m\u001b[0;34m[\u001b[0m\u001b[0;34m\"eval_env\"\u001b[0m\u001b[0;34m]\u001b[0m\u001b[0;34m.\u001b[0m\u001b[0meval\u001b[0m\u001b[0;34m,\u001b[0m\u001b[0;34m\u001b[0m\u001b[0m\n\u001b[1;32m    550\u001b[0m                                  \u001b[0mcode\u001b[0m\u001b[0;34m,\u001b[0m\u001b[0;34m\u001b[0m\u001b[0m\n\u001b[0;32m--> 551\u001b[0;31m                                  inner_namespace=inner_namespace)\n\u001b[0m\u001b[1;32m    552\u001b[0m \u001b[0;34m\u001b[0m\u001b[0m\n\u001b[1;32m    553\u001b[0m     \u001b[0;32mdef\u001b[0m \u001b[0mmemorize_chunk\u001b[0m\u001b[0;34m(\u001b[0m\u001b[0mself\u001b[0m\u001b[0;34m,\u001b[0m \u001b[0mstate\u001b[0m\u001b[0;34m,\u001b[0m \u001b[0mwhich_pass\u001b[0m\u001b[0;34m,\u001b[0m \u001b[0mdata\u001b[0m\u001b[0;34m)\u001b[0m\u001b[0;34m:\u001b[0m\u001b[0;34m\u001b[0m\u001b[0m\n",
      "\u001b[0;32m~/.pyenv/versions/3.7.0/envs/dss/lib/python3.7/site-packages/patsy/compat.py\u001b[0m in \u001b[0;36mcall_and_wrap_exc\u001b[0;34m(msg, origin, f, *args, **kwargs)\u001b[0m\n\u001b[1;32m     41\u001b[0m                                  origin)\n\u001b[1;32m     42\u001b[0m             \u001b[0;31m# Use 'exec' to hide this syntax from the Python 2 parser:\u001b[0m\u001b[0;34m\u001b[0m\u001b[0;34m\u001b[0m\u001b[0m\n\u001b[0;32m---> 43\u001b[0;31m             \u001b[0mexec\u001b[0m\u001b[0;34m(\u001b[0m\u001b[0;34m\"raise new_exc from e\"\u001b[0m\u001b[0;34m)\u001b[0m\u001b[0;34m\u001b[0m\u001b[0m\n\u001b[0m\u001b[1;32m     44\u001b[0m         \u001b[0;32melse\u001b[0m\u001b[0;34m:\u001b[0m\u001b[0;34m\u001b[0m\u001b[0m\n\u001b[1;32m     45\u001b[0m             \u001b[0;31m# In python 2, we just let the original exception escape -- better\u001b[0m\u001b[0;34m\u001b[0m\u001b[0;34m\u001b[0m\u001b[0m\n",
      "\u001b[0;32m~/.pyenv/versions/3.7.0/envs/dss/lib/python3.7/site-packages/patsy/compat.py\u001b[0m in \u001b[0;36m<module>\u001b[0;34m\u001b[0m\n",
      "\u001b[0;31mPatsyError\u001b[0m: Error evaluating factor: NameError: name 'yr' is not defined\n    price ~ grade + sqft_living + sqft_living15 + sqft_above + bathrooms +                            lat + bedrooms + view + floors + sqft_basement + C(waterfront) + yr\n                                                                                                                                                                       ^^"
     ]
    }
   ],
   "source": [
    "model = sm.OLS.from_formula(\"price ~ grade + sqft_living + sqft_living15 + sqft_above + bathrooms +\\\n",
    "                            lat + bedrooms + view + floors + sqft_basement + C(waterfront) + yr\", data=train_set)\n",
    "result = model.fit()\n",
    "print(result.summary())"
   ]
  },
  {
   "cell_type": "code",
   "execution_count": null,
   "metadata": {},
   "outputs": [],
   "source": [
    "train_set['waterfront'].head()"
   ]
  },
  {
   "cell_type": "code",
   "execution_count": null,
   "metadata": {},
   "outputs": [],
   "source": [
    "new_df = pd.get_dummies(train_set)"
   ]
  },
  {
   "cell_type": "code",
   "execution_count": null,
   "metadata": {},
   "outputs": [],
   "source": [
    "new_df.head()"
   ]
  },
  {
   "cell_type": "code",
   "execution_count": null,
   "metadata": {},
   "outputs": [],
   "source": [
    "pd.get_dummies(train_set['waterfront'])"
   ]
  },
  {
   "cell_type": "code",
   "execution_count": null,
   "metadata": {},
   "outputs": [],
   "source": []
  }
 ],
 "metadata": {
  "hide_code_all_hidden": false,
  "kernelspec": {
   "display_name": "Python 3",
   "language": "python",
   "name": "python3"
  },
  "language_info": {
   "codemirror_mode": {
    "name": "ipython",
    "version": 3
   },
   "file_extension": ".py",
   "mimetype": "text/x-python",
   "name": "python",
   "nbconvert_exporter": "python",
   "pygments_lexer": "ipython3",
   "version": "3.7.0"
  }
 },
 "nbformat": 4,
 "nbformat_minor": 2
}
