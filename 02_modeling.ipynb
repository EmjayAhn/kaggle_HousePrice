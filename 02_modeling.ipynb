{
 "cells": [
  {
   "cell_type": "code",
   "execution_count": 103,
   "metadata": {
    "hideCode": false,
    "hidePrompt": false
   },
   "outputs": [],
   "source": [
    "pd.set_option('max_rows', 8, 'max_columns', 50)\n",
    "from sklearn.model_selection import train_test_split\n",
    "from sklearn.metrics import mean_squared_error\n",
    "from sklearn.metrics import r2_score"
   ]
  },
  {
   "cell_type": "code",
   "execution_count": 104,
   "metadata": {
    "hideCode": false,
    "hidePrompt": false
   },
   "outputs": [],
   "source": [
    "df = pd.read_csv('train.csv')"
   ]
  },
  {
   "cell_type": "code",
   "execution_count": 105,
   "metadata": {},
   "outputs": [],
   "source": [
    "df_test = pd.read_csv('test.csv')\n",
    "test_id = df_test['id']\n",
    "df_test['date'] = df_test['date'].apply(lambda data: int(data[:8]))\n",
    "df_test['waterfront'] = df_test['waterfront'].apply(lambda data: str(data))\n",
    "df_test = pd.get_dummies(df_test)\n",
    "df_test = df_test.drop('id', axis=1)"
   ]
  },
  {
   "cell_type": "markdown",
   "metadata": {
    "hideCode": false,
    "hidePrompt": false
   },
   "source": [
    "### Preprocessing"
   ]
  },
  {
   "cell_type": "markdown",
   "metadata": {},
   "source": [
    "#### `price`"
   ]
  },
  {
   "cell_type": "code",
   "execution_count": 106,
   "metadata": {},
   "outputs": [],
   "source": [
    "original_price = df['price']\n",
    "df['price'] = np.log1p(df['price'])"
   ]
  },
  {
   "cell_type": "markdown",
   "metadata": {
    "hideCode": false,
    "hidePrompt": false
   },
   "source": [
    "#### `date`"
   ]
  },
  {
   "cell_type": "code",
   "execution_count": 107,
   "metadata": {
    "hideCode": false,
    "hidePrompt": false
   },
   "outputs": [],
   "source": [
    "def regex(data):\n",
    "    pattern = re.compile('^[0-9]{8}T000000$')\n",
    "    match = pattern.match(data)\n",
    "    if match:\n",
    "        return True\n",
    "    else:\n",
    "        return False"
   ]
  },
  {
   "cell_type": "code",
   "execution_count": 108,
   "metadata": {
    "hideCode": false,
    "hidePrompt": false
   },
   "outputs": [],
   "source": [
    "df['date'] = df['date'].apply(lambda data: int(data[:8]))"
   ]
  },
  {
   "cell_type": "code",
   "execution_count": 109,
   "metadata": {
    "scrolled": true
   },
   "outputs": [
    {
     "data": {
      "text/html": [
       "<div>\n",
       "<style scoped>\n",
       "    .dataframe tbody tr th:only-of-type {\n",
       "        vertical-align: middle;\n",
       "    }\n",
       "\n",
       "    .dataframe tbody tr th {\n",
       "        vertical-align: top;\n",
       "    }\n",
       "\n",
       "    .dataframe thead th {\n",
       "        text-align: right;\n",
       "    }\n",
       "</style>\n",
       "<table border=\"1\" class=\"dataframe\">\n",
       "  <thead>\n",
       "    <tr style=\"text-align: right;\">\n",
       "      <th></th>\n",
       "      <th>id</th>\n",
       "      <th>date</th>\n",
       "      <th>price</th>\n",
       "      <th>bedrooms</th>\n",
       "      <th>bathrooms</th>\n",
       "      <th>sqft_living</th>\n",
       "      <th>sqft_lot</th>\n",
       "      <th>floors</th>\n",
       "      <th>waterfront</th>\n",
       "      <th>view</th>\n",
       "      <th>condition</th>\n",
       "      <th>grade</th>\n",
       "      <th>sqft_above</th>\n",
       "      <th>sqft_basement</th>\n",
       "      <th>yr_built</th>\n",
       "      <th>yr_renovated</th>\n",
       "      <th>zipcode</th>\n",
       "      <th>lat</th>\n",
       "      <th>long</th>\n",
       "      <th>sqft_living15</th>\n",
       "      <th>sqft_lot15</th>\n",
       "    </tr>\n",
       "  </thead>\n",
       "  <tbody>\n",
       "    <tr>\n",
       "      <th>0</th>\n",
       "      <td>0</td>\n",
       "      <td>20141013</td>\n",
       "      <td>12.309987</td>\n",
       "      <td>3</td>\n",
       "      <td>1.00</td>\n",
       "      <td>1180</td>\n",
       "      <td>5650</td>\n",
       "      <td>1.0</td>\n",
       "      <td>0</td>\n",
       "      <td>0</td>\n",
       "      <td>3</td>\n",
       "      <td>7</td>\n",
       "      <td>1180</td>\n",
       "      <td>0</td>\n",
       "      <td>1955</td>\n",
       "      <td>0</td>\n",
       "      <td>98178</td>\n",
       "      <td>47.5112</td>\n",
       "      <td>-122.257</td>\n",
       "      <td>1340</td>\n",
       "      <td>5650</td>\n",
       "    </tr>\n",
       "    <tr>\n",
       "      <th>1</th>\n",
       "      <td>1</td>\n",
       "      <td>20150225</td>\n",
       "      <td>12.100718</td>\n",
       "      <td>2</td>\n",
       "      <td>1.00</td>\n",
       "      <td>770</td>\n",
       "      <td>10000</td>\n",
       "      <td>1.0</td>\n",
       "      <td>0</td>\n",
       "      <td>0</td>\n",
       "      <td>3</td>\n",
       "      <td>6</td>\n",
       "      <td>770</td>\n",
       "      <td>0</td>\n",
       "      <td>1933</td>\n",
       "      <td>0</td>\n",
       "      <td>98028</td>\n",
       "      <td>47.7379</td>\n",
       "      <td>-122.233</td>\n",
       "      <td>2720</td>\n",
       "      <td>8062</td>\n",
       "    </tr>\n",
       "    <tr>\n",
       "      <th>2</th>\n",
       "      <td>2</td>\n",
       "      <td>20150218</td>\n",
       "      <td>13.142168</td>\n",
       "      <td>3</td>\n",
       "      <td>2.00</td>\n",
       "      <td>1680</td>\n",
       "      <td>8080</td>\n",
       "      <td>1.0</td>\n",
       "      <td>0</td>\n",
       "      <td>0</td>\n",
       "      <td>3</td>\n",
       "      <td>8</td>\n",
       "      <td>1680</td>\n",
       "      <td>0</td>\n",
       "      <td>1987</td>\n",
       "      <td>0</td>\n",
       "      <td>98074</td>\n",
       "      <td>47.6168</td>\n",
       "      <td>-122.045</td>\n",
       "      <td>1800</td>\n",
       "      <td>7503</td>\n",
       "    </tr>\n",
       "    <tr>\n",
       "      <th>3</th>\n",
       "      <td>3</td>\n",
       "      <td>20140627</td>\n",
       "      <td>12.458779</td>\n",
       "      <td>3</td>\n",
       "      <td>2.25</td>\n",
       "      <td>1715</td>\n",
       "      <td>6819</td>\n",
       "      <td>2.0</td>\n",
       "      <td>0</td>\n",
       "      <td>0</td>\n",
       "      <td>3</td>\n",
       "      <td>7</td>\n",
       "      <td>1715</td>\n",
       "      <td>0</td>\n",
       "      <td>1995</td>\n",
       "      <td>0</td>\n",
       "      <td>98003</td>\n",
       "      <td>47.3097</td>\n",
       "      <td>-122.327</td>\n",
       "      <td>2238</td>\n",
       "      <td>6819</td>\n",
       "    </tr>\n",
       "    <tr>\n",
       "      <th>4</th>\n",
       "      <td>4</td>\n",
       "      <td>20150115</td>\n",
       "      <td>12.583999</td>\n",
       "      <td>3</td>\n",
       "      <td>1.50</td>\n",
       "      <td>1060</td>\n",
       "      <td>9711</td>\n",
       "      <td>1.0</td>\n",
       "      <td>0</td>\n",
       "      <td>0</td>\n",
       "      <td>3</td>\n",
       "      <td>7</td>\n",
       "      <td>1060</td>\n",
       "      <td>0</td>\n",
       "      <td>1963</td>\n",
       "      <td>0</td>\n",
       "      <td>98198</td>\n",
       "      <td>47.4095</td>\n",
       "      <td>-122.315</td>\n",
       "      <td>1650</td>\n",
       "      <td>9711</td>\n",
       "    </tr>\n",
       "  </tbody>\n",
       "</table>\n",
       "</div>"
      ],
      "text/plain": [
       "   id      date      price  bedrooms  bathrooms  sqft_living  sqft_lot  \\\n",
       "0   0  20141013  12.309987         3       1.00         1180      5650   \n",
       "1   1  20150225  12.100718         2       1.00          770     10000   \n",
       "2   2  20150218  13.142168         3       2.00         1680      8080   \n",
       "3   3  20140627  12.458779         3       2.25         1715      6819   \n",
       "4   4  20150115  12.583999         3       1.50         1060      9711   \n",
       "\n",
       "   floors  waterfront  view  condition  grade  sqft_above  sqft_basement  \\\n",
       "0     1.0           0     0          3      7        1180              0   \n",
       "1     1.0           0     0          3      6         770              0   \n",
       "2     1.0           0     0          3      8        1680              0   \n",
       "3     2.0           0     0          3      7        1715              0   \n",
       "4     1.0           0     0          3      7        1060              0   \n",
       "\n",
       "   yr_built  yr_renovated  zipcode      lat     long  sqft_living15  \\\n",
       "0      1955             0    98178  47.5112 -122.257           1340   \n",
       "1      1933             0    98028  47.7379 -122.233           2720   \n",
       "2      1987             0    98074  47.6168 -122.045           1800   \n",
       "3      1995             0    98003  47.3097 -122.327           2238   \n",
       "4      1963             0    98198  47.4095 -122.315           1650   \n",
       "\n",
       "   sqft_lot15  \n",
       "0        5650  \n",
       "1        8062  \n",
       "2        7503  \n",
       "3        6819  \n",
       "4        9711  "
      ]
     },
     "execution_count": 109,
     "metadata": {},
     "output_type": "execute_result"
    }
   ],
   "source": [
    "df.head()"
   ]
  },
  {
   "cell_type": "markdown",
   "metadata": {},
   "source": [
    "### `waterfront`\n",
    "- make waterfront category data"
   ]
  },
  {
   "cell_type": "code",
   "execution_count": 111,
   "metadata": {},
   "outputs": [],
   "source": [
    "preprocessing_df = df\n",
    "preprocessing_df['waterfront'] = preprocessing_df['waterfront'].apply(lambda data: str(data))\n",
    "preprocessing_df = pd.get_dummies(preprocessing_df)"
   ]
  },
  {
   "cell_type": "markdown",
   "metadata": {},
   "source": [
    "- `id` column drop"
   ]
  },
  {
   "cell_type": "code",
   "execution_count": 112,
   "metadata": {
    "scrolled": true
   },
   "outputs": [
    {
     "data": {
      "text/html": [
       "<div>\n",
       "<style scoped>\n",
       "    .dataframe tbody tr th:only-of-type {\n",
       "        vertical-align: middle;\n",
       "    }\n",
       "\n",
       "    .dataframe tbody tr th {\n",
       "        vertical-align: top;\n",
       "    }\n",
       "\n",
       "    .dataframe thead th {\n",
       "        text-align: right;\n",
       "    }\n",
       "</style>\n",
       "<table border=\"1\" class=\"dataframe\">\n",
       "  <thead>\n",
       "    <tr style=\"text-align: right;\">\n",
       "      <th></th>\n",
       "      <th>date</th>\n",
       "      <th>price</th>\n",
       "      <th>bedrooms</th>\n",
       "      <th>bathrooms</th>\n",
       "      <th>sqft_living</th>\n",
       "      <th>sqft_lot</th>\n",
       "      <th>floors</th>\n",
       "      <th>view</th>\n",
       "      <th>condition</th>\n",
       "      <th>grade</th>\n",
       "      <th>sqft_above</th>\n",
       "      <th>sqft_basement</th>\n",
       "      <th>yr_built</th>\n",
       "      <th>yr_renovated</th>\n",
       "      <th>zipcode</th>\n",
       "      <th>lat</th>\n",
       "      <th>long</th>\n",
       "      <th>sqft_living15</th>\n",
       "      <th>sqft_lot15</th>\n",
       "      <th>waterfront_0</th>\n",
       "      <th>waterfront_1</th>\n",
       "    </tr>\n",
       "  </thead>\n",
       "  <tbody>\n",
       "    <tr>\n",
       "      <th>0</th>\n",
       "      <td>20141013</td>\n",
       "      <td>12.309987</td>\n",
       "      <td>3</td>\n",
       "      <td>1.00</td>\n",
       "      <td>1180</td>\n",
       "      <td>5650</td>\n",
       "      <td>1.0</td>\n",
       "      <td>0</td>\n",
       "      <td>3</td>\n",
       "      <td>7</td>\n",
       "      <td>1180</td>\n",
       "      <td>0</td>\n",
       "      <td>1955</td>\n",
       "      <td>0</td>\n",
       "      <td>98178</td>\n",
       "      <td>47.5112</td>\n",
       "      <td>-122.257</td>\n",
       "      <td>1340</td>\n",
       "      <td>5650</td>\n",
       "      <td>1</td>\n",
       "      <td>0</td>\n",
       "    </tr>\n",
       "    <tr>\n",
       "      <th>1</th>\n",
       "      <td>20150225</td>\n",
       "      <td>12.100718</td>\n",
       "      <td>2</td>\n",
       "      <td>1.00</td>\n",
       "      <td>770</td>\n",
       "      <td>10000</td>\n",
       "      <td>1.0</td>\n",
       "      <td>0</td>\n",
       "      <td>3</td>\n",
       "      <td>6</td>\n",
       "      <td>770</td>\n",
       "      <td>0</td>\n",
       "      <td>1933</td>\n",
       "      <td>0</td>\n",
       "      <td>98028</td>\n",
       "      <td>47.7379</td>\n",
       "      <td>-122.233</td>\n",
       "      <td>2720</td>\n",
       "      <td>8062</td>\n",
       "      <td>1</td>\n",
       "      <td>0</td>\n",
       "    </tr>\n",
       "    <tr>\n",
       "      <th>2</th>\n",
       "      <td>20150218</td>\n",
       "      <td>13.142168</td>\n",
       "      <td>3</td>\n",
       "      <td>2.00</td>\n",
       "      <td>1680</td>\n",
       "      <td>8080</td>\n",
       "      <td>1.0</td>\n",
       "      <td>0</td>\n",
       "      <td>3</td>\n",
       "      <td>8</td>\n",
       "      <td>1680</td>\n",
       "      <td>0</td>\n",
       "      <td>1987</td>\n",
       "      <td>0</td>\n",
       "      <td>98074</td>\n",
       "      <td>47.6168</td>\n",
       "      <td>-122.045</td>\n",
       "      <td>1800</td>\n",
       "      <td>7503</td>\n",
       "      <td>1</td>\n",
       "      <td>0</td>\n",
       "    </tr>\n",
       "    <tr>\n",
       "      <th>3</th>\n",
       "      <td>20140627</td>\n",
       "      <td>12.458779</td>\n",
       "      <td>3</td>\n",
       "      <td>2.25</td>\n",
       "      <td>1715</td>\n",
       "      <td>6819</td>\n",
       "      <td>2.0</td>\n",
       "      <td>0</td>\n",
       "      <td>3</td>\n",
       "      <td>7</td>\n",
       "      <td>1715</td>\n",
       "      <td>0</td>\n",
       "      <td>1995</td>\n",
       "      <td>0</td>\n",
       "      <td>98003</td>\n",
       "      <td>47.3097</td>\n",
       "      <td>-122.327</td>\n",
       "      <td>2238</td>\n",
       "      <td>6819</td>\n",
       "      <td>1</td>\n",
       "      <td>0</td>\n",
       "    </tr>\n",
       "    <tr>\n",
       "      <th>4</th>\n",
       "      <td>20150115</td>\n",
       "      <td>12.583999</td>\n",
       "      <td>3</td>\n",
       "      <td>1.50</td>\n",
       "      <td>1060</td>\n",
       "      <td>9711</td>\n",
       "      <td>1.0</td>\n",
       "      <td>0</td>\n",
       "      <td>3</td>\n",
       "      <td>7</td>\n",
       "      <td>1060</td>\n",
       "      <td>0</td>\n",
       "      <td>1963</td>\n",
       "      <td>0</td>\n",
       "      <td>98198</td>\n",
       "      <td>47.4095</td>\n",
       "      <td>-122.315</td>\n",
       "      <td>1650</td>\n",
       "      <td>9711</td>\n",
       "      <td>1</td>\n",
       "      <td>0</td>\n",
       "    </tr>\n",
       "  </tbody>\n",
       "</table>\n",
       "</div>"
      ],
      "text/plain": [
       "       date      price  bedrooms  bathrooms  sqft_living  sqft_lot  floors  \\\n",
       "0  20141013  12.309987         3       1.00         1180      5650     1.0   \n",
       "1  20150225  12.100718         2       1.00          770     10000     1.0   \n",
       "2  20150218  13.142168         3       2.00         1680      8080     1.0   \n",
       "3  20140627  12.458779         3       2.25         1715      6819     2.0   \n",
       "4  20150115  12.583999         3       1.50         1060      9711     1.0   \n",
       "\n",
       "   view  condition  grade  sqft_above  sqft_basement  yr_built  yr_renovated  \\\n",
       "0     0          3      7        1180              0      1955             0   \n",
       "1     0          3      6         770              0      1933             0   \n",
       "2     0          3      8        1680              0      1987             0   \n",
       "3     0          3      7        1715              0      1995             0   \n",
       "4     0          3      7        1060              0      1963             0   \n",
       "\n",
       "   zipcode      lat     long  sqft_living15  sqft_lot15  waterfront_0  \\\n",
       "0    98178  47.5112 -122.257           1340        5650             1   \n",
       "1    98028  47.7379 -122.233           2720        8062             1   \n",
       "2    98074  47.6168 -122.045           1800        7503             1   \n",
       "3    98003  47.3097 -122.327           2238        6819             1   \n",
       "4    98198  47.4095 -122.315           1650        9711             1   \n",
       "\n",
       "   waterfront_1  \n",
       "0             0  \n",
       "1             0  \n",
       "2             0  \n",
       "3             0  \n",
       "4             0  "
      ]
     },
     "execution_count": 112,
     "metadata": {},
     "output_type": "execute_result"
    }
   ],
   "source": [
    "preprocessing_df = preprocessing_df.drop('id', axis=1)\n",
    "preprocessing_df.head()"
   ]
  },
  {
   "cell_type": "markdown",
   "metadata": {
    "hideCode": false,
    "hidePrompt": false
   },
   "source": [
    "### train, test split()"
   ]
  },
  {
   "cell_type": "code",
   "execution_count": 113,
   "metadata": {
    "hideCode": false,
    "hidePrompt": false
   },
   "outputs": [],
   "source": [
    "targets = preprocessing_df['price']\n",
    "features = preprocessing_df.drop('price', axis=1)"
   ]
  },
  {
   "cell_type": "code",
   "execution_count": 114,
   "metadata": {
    "hideCode": false,
    "hidePrompt": false
   },
   "outputs": [],
   "source": [
    "train_set_features, test_set_features, train_set_target, test_set_target = train_test_split(features, targets, test_size = 0.2, random_state = 20190316)"
   ]
  },
  {
   "cell_type": "code",
   "execution_count": 115,
   "metadata": {
    "hideCode": false,
    "hidePrompt": false,
    "scrolled": false
   },
   "outputs": [
    {
     "data": {
      "text/html": [
       "<div>\n",
       "<style scoped>\n",
       "    .dataframe tbody tr th:only-of-type {\n",
       "        vertical-align: middle;\n",
       "    }\n",
       "\n",
       "    .dataframe tbody tr th {\n",
       "        vertical-align: top;\n",
       "    }\n",
       "\n",
       "    .dataframe thead th {\n",
       "        text-align: right;\n",
       "    }\n",
       "</style>\n",
       "<table border=\"1\" class=\"dataframe\">\n",
       "  <thead>\n",
       "    <tr style=\"text-align: right;\">\n",
       "      <th></th>\n",
       "      <th>date</th>\n",
       "      <th>bedrooms</th>\n",
       "      <th>bathrooms</th>\n",
       "      <th>sqft_living</th>\n",
       "      <th>sqft_lot</th>\n",
       "      <th>floors</th>\n",
       "      <th>view</th>\n",
       "      <th>condition</th>\n",
       "      <th>grade</th>\n",
       "      <th>sqft_above</th>\n",
       "      <th>sqft_basement</th>\n",
       "      <th>yr_built</th>\n",
       "      <th>yr_renovated</th>\n",
       "      <th>zipcode</th>\n",
       "      <th>lat</th>\n",
       "      <th>long</th>\n",
       "      <th>sqft_living15</th>\n",
       "      <th>sqft_lot15</th>\n",
       "      <th>waterfront_0</th>\n",
       "      <th>waterfront_1</th>\n",
       "    </tr>\n",
       "  </thead>\n",
       "  <tbody>\n",
       "    <tr>\n",
       "      <th>8144</th>\n",
       "      <td>20141009</td>\n",
       "      <td>4</td>\n",
       "      <td>1.75</td>\n",
       "      <td>1850</td>\n",
       "      <td>65340</td>\n",
       "      <td>1.5</td>\n",
       "      <td>0</td>\n",
       "      <td>4</td>\n",
       "      <td>7</td>\n",
       "      <td>1850</td>\n",
       "      <td>0</td>\n",
       "      <td>1972</td>\n",
       "      <td>0</td>\n",
       "      <td>98042</td>\n",
       "      <td>47.3468</td>\n",
       "      <td>-122.110</td>\n",
       "      <td>1750</td>\n",
       "      <td>40946</td>\n",
       "      <td>1</td>\n",
       "      <td>0</td>\n",
       "    </tr>\n",
       "    <tr>\n",
       "      <th>3355</th>\n",
       "      <td>20140522</td>\n",
       "      <td>3</td>\n",
       "      <td>1.75</td>\n",
       "      <td>1650</td>\n",
       "      <td>5100</td>\n",
       "      <td>1.0</td>\n",
       "      <td>0</td>\n",
       "      <td>5</td>\n",
       "      <td>7</td>\n",
       "      <td>1040</td>\n",
       "      <td>610</td>\n",
       "      <td>1908</td>\n",
       "      <td>0</td>\n",
       "      <td>98115</td>\n",
       "      <td>47.6873</td>\n",
       "      <td>-122.321</td>\n",
       "      <td>1540</td>\n",
       "      <td>5100</td>\n",
       "      <td>1</td>\n",
       "      <td>0</td>\n",
       "    </tr>\n",
       "    <tr>\n",
       "      <th>13760</th>\n",
       "      <td>20141023</td>\n",
       "      <td>3</td>\n",
       "      <td>2.00</td>\n",
       "      <td>1160</td>\n",
       "      <td>1174</td>\n",
       "      <td>2.0</td>\n",
       "      <td>0</td>\n",
       "      <td>3</td>\n",
       "      <td>7</td>\n",
       "      <td>790</td>\n",
       "      <td>370</td>\n",
       "      <td>2007</td>\n",
       "      <td>0</td>\n",
       "      <td>98106</td>\n",
       "      <td>47.5225</td>\n",
       "      <td>-122.357</td>\n",
       "      <td>1160</td>\n",
       "      <td>994</td>\n",
       "      <td>1</td>\n",
       "      <td>0</td>\n",
       "    </tr>\n",
       "    <tr>\n",
       "      <th>10214</th>\n",
       "      <td>20140523</td>\n",
       "      <td>4</td>\n",
       "      <td>2.50</td>\n",
       "      <td>1750</td>\n",
       "      <td>8476</td>\n",
       "      <td>1.0</td>\n",
       "      <td>0</td>\n",
       "      <td>4</td>\n",
       "      <td>7</td>\n",
       "      <td>1240</td>\n",
       "      <td>510</td>\n",
       "      <td>1983</td>\n",
       "      <td>0</td>\n",
       "      <td>98058</td>\n",
       "      <td>47.4447</td>\n",
       "      <td>-122.137</td>\n",
       "      <td>1660</td>\n",
       "      <td>7875</td>\n",
       "      <td>1</td>\n",
       "      <td>0</td>\n",
       "    </tr>\n",
       "    <tr>\n",
       "      <th>13747</th>\n",
       "      <td>20140909</td>\n",
       "      <td>5</td>\n",
       "      <td>4.00</td>\n",
       "      <td>3210</td>\n",
       "      <td>7200</td>\n",
       "      <td>2.0</td>\n",
       "      <td>0</td>\n",
       "      <td>3</td>\n",
       "      <td>8</td>\n",
       "      <td>2410</td>\n",
       "      <td>800</td>\n",
       "      <td>2011</td>\n",
       "      <td>0</td>\n",
       "      <td>98019</td>\n",
       "      <td>47.7329</td>\n",
       "      <td>-121.966</td>\n",
       "      <td>2750</td>\n",
       "      <td>7200</td>\n",
       "      <td>1</td>\n",
       "      <td>0</td>\n",
       "    </tr>\n",
       "  </tbody>\n",
       "</table>\n",
       "</div>"
      ],
      "text/plain": [
       "           date  bedrooms  bathrooms  sqft_living  sqft_lot  floors  view  \\\n",
       "8144   20141009         4       1.75         1850     65340     1.5     0   \n",
       "3355   20140522         3       1.75         1650      5100     1.0     0   \n",
       "13760  20141023         3       2.00         1160      1174     2.0     0   \n",
       "10214  20140523         4       2.50         1750      8476     1.0     0   \n",
       "13747  20140909         5       4.00         3210      7200     2.0     0   \n",
       "\n",
       "       condition  grade  sqft_above  sqft_basement  yr_built  yr_renovated  \\\n",
       "8144           4      7        1850              0      1972             0   \n",
       "3355           5      7        1040            610      1908             0   \n",
       "13760          3      7         790            370      2007             0   \n",
       "10214          4      7        1240            510      1983             0   \n",
       "13747          3      8        2410            800      2011             0   \n",
       "\n",
       "       zipcode      lat     long  sqft_living15  sqft_lot15  waterfront_0  \\\n",
       "8144     98042  47.3468 -122.110           1750       40946             1   \n",
       "3355     98115  47.6873 -122.321           1540        5100             1   \n",
       "13760    98106  47.5225 -122.357           1160         994             1   \n",
       "10214    98058  47.4447 -122.137           1660        7875             1   \n",
       "13747    98019  47.7329 -121.966           2750        7200             1   \n",
       "\n",
       "       waterfront_1  \n",
       "8144              0  \n",
       "3355              0  \n",
       "13760             0  \n",
       "10214             0  \n",
       "13747             0  "
      ]
     },
     "execution_count": 115,
     "metadata": {},
     "output_type": "execute_result"
    }
   ],
   "source": [
    "train_set_features.head()"
   ]
  },
  {
   "cell_type": "markdown",
   "metadata": {},
   "source": [
    "### Modeling1\n",
    "### XGBRegressor + GridSearch"
   ]
  },
  {
   "cell_type": "code",
   "execution_count": 12,
   "metadata": {},
   "outputs": [],
   "source": [
    "# from sklearn.model_selection import GridSearchCV\n",
    "# xgb = XGBRegressor()\n",
    "# parameters = {\n",
    "#     'n_estimators': [500, 1000],\n",
    "#     'learning_rate': [0.03, 0.05, 0.07, 0.1],\n",
    "#     'colsample_bytree': [0.5, 0.7],\n",
    "#     'subsample': [0.5, 0.7, 0.8],\n",
    "    \n",
    "# }\n",
    "# xgb_grid = GridSearchCV(xgb, parameters, cv=5, n_jobs=5)\n",
    "# xgb_grid.fit(features, targets)\n",
    "\n",
    "# print(xgb_grid.best_score_)\n",
    "# print(xgb_grid.best_params_)"
   ]
  },
  {
   "cell_type": "code",
   "execution_count": 13,
   "metadata": {},
   "outputs": [
    {
     "name": "stdout",
     "output_type": "stream",
     "text": [
      "0.16273265455559738\n"
     ]
    }
   ],
   "source": [
    "from xgboost import XGBRegressor\n",
    "xgb_reg = XGBRegressor(n_estimators=1000, learning_rate=0.07, colsample_bytree=0.7, subsample=0.8)\n",
    "xgb_reg.fit(train_set_features, train_set_target)\n",
    "xgb_reg_predict = xgb_reg.predict(test_set_features)\n",
    "xgb_mse = mean_squared_error(test_set_target, xgb_reg_predict)\n",
    "print(np.sqrt(xgb_mse))"
   ]
  },
  {
   "cell_type": "code",
   "execution_count": 14,
   "metadata": {
    "scrolled": false
   },
   "outputs": [
    {
     "data": {
      "text/plain": [
       "<matplotlib.axes._subplots.AxesSubplot at 0x1236307b8>"
      ]
     },
     "execution_count": 14,
     "metadata": {},
     "output_type": "execute_result"
    },
    {
     "name": "stderr",
     "output_type": "stream",
     "text": [
      "/Users/emjayahn/.pyenv/versions/3.7.0/envs/dss/lib/python3.7/site-packages/matplotlib/font_manager.py:1241: UserWarning: findfont: Font family ['AppleMyungjo'] not found. Falling back to DejaVu Sans.\n",
      "  (prop.get_family(), self.defaultFamily[fontext]))\n"
     ]
    },
    {
     "data": {
      "image/png": "[encoded data removed]",
      "text/plain": [
       "<Figure size 432x288 with 1 Axes>"
      ]
     },
     "metadata": {
      "needs_background": "light"
     },
     "output_type": "display_data"
    }
   ],
   "source": [
    "%matplotlib inline\n",
    "feature_importance = pd.Series(data=xgb_reg.feature_importances_, index=features.columns)\n",
    "feature_importance = feature_importance.sort_values(ascending=False)\n",
    "sns.barplot(x=feature_importance, y=feature_importance.index)"
   ]
  },
  {
   "cell_type": "markdown",
   "metadata": {},
   "source": [
    "### Preprocessing 2"
   ]
  },
  {
   "cell_type": "code",
   "execution_count": 15,
   "metadata": {},
   "outputs": [],
   "source": [
    "preprocessing_df1 = preprocessing_df"
   ]
  },
  {
   "cell_type": "markdown",
   "metadata": {},
   "source": [
    "### `yr_renovated` & `yr_built` -> `yr_combined`"
   ]
  },
  {
   "cell_type": "code",
   "execution_count": 16,
   "metadata": {},
   "outputs": [],
   "source": [
    "preprocessing_df1['yr_combine'] = preprocessing_df1.apply(lambda df: max(df['yr_built'], df['yr_renovated']), axis=1)"
   ]
  },
  {
   "cell_type": "code",
   "execution_count": 17,
   "metadata": {},
   "outputs": [],
   "source": [
    "preprocessing_df1 = preprocessing_df1.drop(['yr_built', 'yr_renovated'], axis=1)"
   ]
  },
  {
   "cell_type": "code",
   "execution_count": 18,
   "metadata": {},
   "outputs": [],
   "source": [
    "targets = preprocessing_df1['price']\n",
    "features = preprocessing_df1.drop('price', axis=1)"
   ]
  },
  {
   "cell_type": "code",
   "execution_count": 19,
   "metadata": {},
   "outputs": [],
   "source": [
    "# from sklearn.model_selection import GridSearchCV\n",
    "# xgb = XGBRegressor()\n",
    "# parameters = {\n",
    "#     'n_estimators': [500, 1000],\n",
    "#     'learning_rate': [0.03, 0.05, 0.07, 0.1],\n",
    "#     'colsample_bytree': [0.5, 0.7],\n",
    "#     'subsample': [0.5, 0.7, 0.8],\n",
    "    \n",
    "# }\n",
    "# xgb_grid = GridSearchCV(xgb, parameters, cv=5, n_jobs=5)\n",
    "# xgb_grid.fit(features, targets)\n",
    "\n",
    "# print(xgb_grid.best_score_)\n",
    "# print(xgb_grid.best_params_)"
   ]
  },
  {
   "cell_type": "code",
   "execution_count": 20,
   "metadata": {},
   "outputs": [],
   "source": [
    "train_set_features, test_set_features, train_set_target, test_set_target = train_test_split(features, targets, test_size = 0.2, random_state = 20190316)"
   ]
  },
  {
   "cell_type": "code",
   "execution_count": 21,
   "metadata": {},
   "outputs": [
    {
     "name": "stdout",
     "output_type": "stream",
     "text": [
      "0.1637955172329864\n"
     ]
    }
   ],
   "source": [
    "xgb_reg = XGBRegressor(n_estimators=1000, learning_rate=0.07, colsample_bytree=0.5, subsample=0.8)\n",
    "xgb_reg.fit(train_set_features, train_set_target)\n",
    "xgb_reg_predict = xgb_reg.predict(test_set_features)\n",
    "xgb_mse = mean_squared_error(test_set_target, xgb_reg_predict)\n",
    "print(np.sqrt(xgb_mse))"
   ]
  },
  {
   "cell_type": "code",
   "execution_count": 22,
   "metadata": {},
   "outputs": [
    {
     "data": {
      "text/plain": [
       "<matplotlib.axes._subplots.AxesSubplot at 0x125a122b0>"
      ]
     },
     "execution_count": 22,
     "metadata": {},
     "output_type": "execute_result"
    },
    {
     "data": {
      "image/png": "[encoded data removed]",
      "text/plain": [
       "<Figure size 432x288 with 1 Axes>"
      ]
     },
     "metadata": {
      "needs_background": "light"
     },
     "output_type": "display_data"
    }
   ],
   "source": [
    "%matplotlib inline\n",
    "feature_importance = pd.Series(data=xgb_reg.feature_importances_, index=features.columns)\n",
    "feature_importance = feature_importance.sort_values(ascending=False)\n",
    "sns.barplot(x=feature_importance, y=feature_importance.index)"
   ]
  },
  {
   "cell_type": "markdown",
   "metadata": {},
   "source": [
    "### sqft_living15 삭제"
   ]
  },
  {
   "cell_type": "code",
   "execution_count": 23,
   "metadata": {},
   "outputs": [],
   "source": [
    "preprocessing_df2 = preprocessing_df1\n",
    "preprocessing_df2 = preprocessing_df2.drop('sqft_living15', axis=1)"
   ]
  },
  {
   "cell_type": "code",
   "execution_count": 24,
   "metadata": {},
   "outputs": [],
   "source": [
    "targets = preprocessing_df2['price']\n",
    "features = preprocessing_df2.drop('price', axis=1)"
   ]
  },
  {
   "cell_type": "code",
   "execution_count": 91,
   "metadata": {},
   "outputs": [],
   "source": [
    "train_set_features, test_set_features, train_set_target, test_set_target = train_test_split(features, targets, test_size = 0.2, random_state = 20190316)"
   ]
  },
  {
   "cell_type": "code",
   "execution_count": 46,
   "metadata": {},
   "outputs": [
    {
     "name": "stdout",
     "output_type": "stream",
     "text": [
      "0.16394573994908979\n"
     ]
    }
   ],
   "source": [
    "xgb_reg = XGBRegressor(n_estimators=1000, learning_rate=0.07, colsample_bytree=0.5, subsample=0.8)\n",
    "xgb_reg.fit(train_set_features, train_set_target)\n",
    "xgb_reg_predict = xgb_reg.predict(test_set_features)\n",
    "xgb_mse = mean_squared_error(test_set_target, xgb_reg_predict)\n",
    "print(np.sqrt(xgb_mse))"
   ]
  },
  {
   "cell_type": "code",
   "execution_count": 27,
   "metadata": {
    "scrolled": true
   },
   "outputs": [
    {
     "data": {
      "text/plain": [
       "<matplotlib.axes._subplots.AxesSubplot at 0x1262a66d8>"
      ]
     },
     "execution_count": 27,
     "metadata": {},
     "output_type": "execute_result"
    },
    {
     "data": {
      "image/png": "[encoded data removed]",
      "text/plain": [
       "<Figure size 432x288 with 1 Axes>"
      ]
     },
     "metadata": {
      "needs_background": "light"
     },
     "output_type": "display_data"
    }
   ],
   "source": [
    "%matplotlib inline\n",
    "feature_importance = pd.Series(data=xgb_reg.feature_importances_, index=features.columns)\n",
    "feature_importance = feature_importance.sort_values(ascending=False)\n",
    "sns.barplot(x=feature_importance, y=feature_importance.index)"
   ]
  },
  {
   "cell_type": "markdown",
   "metadata": {},
   "source": [
    "### Modeling2\n",
    "#### lightgbm"
   ]
  },
  {
   "cell_type": "code",
   "execution_count": 28,
   "metadata": {
    "scrolled": true
   },
   "outputs": [
    {
     "name": "stderr",
     "output_type": "stream",
     "text": [
      "/Users/emjayahn/.pyenv/versions/3.7.0/envs/dss/lib/python3.7/site-packages/lightgbm/__init__.py:46: UserWarning: Starting from version 2.2.1, the library file in distribution wheels for macOS is built by the Apple Clang (Xcode_8.3.3) compiler.\n",
      "This means that in case of installing LightGBM from PyPI via the ``pip install lightgbm`` command, you don't need to install the gcc compiler anymore.\n",
      "Instead of that, you need to install the OpenMP library, which is required for running LightGBM on the system with the Apple Clang compiler.\n",
      "You can install the OpenMP library by the following command: ``brew install libomp``.\n",
      "  \"You can install the OpenMP library by the following command: ``brew install libomp``.\", UserWarning)\n"
     ]
    }
   ],
   "source": [
    "from lightgbm import LGBMRegressor"
   ]
  },
  {
   "cell_type": "code",
   "execution_count": 44,
   "metadata": {},
   "outputs": [],
   "source": [
    "targets = preprocessing_df['price']\n",
    "features = preprocessing_df.drop('price', axis=1)"
   ]
  },
  {
   "cell_type": "code",
   "execution_count": 30,
   "metadata": {},
   "outputs": [],
   "source": [
    "# from sklearn.model_selection import GridSearchCV\n",
    "# lgbm = LGBMRegressor()\n",
    "# parameters = {\n",
    "#     'n_estimators': [500, 1000],\n",
    "#     'learning_rate': [0.03, 0.05, 0.07, 0.1],\n",
    "#     'colsample_bytree': [0.5, 0.7],\n",
    "#     'subsample': [0.5, 0.7, 0.8],\n",
    "#     'num_leaves': [10, 20, 30, 40]\n",
    "    \n",
    "# }\n",
    "# lgbm_grid = GridSearchCV(lgbm, parameters, cv=5, n_jobs=5)\n",
    "# lgbm_grid.fit(features, targets)\n",
    "\n",
    "# print(lgbm_grid.best_score_)\n",
    "# print(lgbm_grid.best_params_)"
   ]
  },
  {
   "cell_type": "code",
   "execution_count": 45,
   "metadata": {},
   "outputs": [
    {
     "name": "stdout",
     "output_type": "stream",
     "text": [
      "0.1598453758222571\n"
     ]
    }
   ],
   "source": [
    "train_set_features, test_set_features, train_set_target, test_set_target = train_test_split(features, targets, test_size = 0.2, random_state = 20190316)\n",
    "lgbm = LGBMRegressor(n_estimators=1000, learning_rate=0.03, colsample_bytree=0.5, subsample=0.5, num_leaves=30)\n",
    "lgbm.fit(train_set_features, train_set_target)\n",
    "lgbm_predict = lgbm.predict(test_set_features)\n",
    "lgbm_mse = mean_squared_error(test_set_target, lgbm_predict)\n",
    "print(np.sqrt(lgbm_mse))"
   ]
  },
  {
   "cell_type": "code",
   "execution_count": 116,
   "metadata": {},
   "outputs": [],
   "source": [
    "xgb_reg = XGBRegressor(n_estimators=1000, learning_rate=0.07, colsample_bytree=0.7, subsample=0.8)\n",
    "lgbm = LGBMRegressor(n_estimators=1000, learning_rate=0.03, colsample_bytree=0.5, subsample=0.5, num_leaves=30)\n",
    "xgb_reg.fit(train_set_features, train_set_target)\n",
    "lgbm.fit(train_set_features, train_set_target)\n",
    "lgbm_predict = lgbm.predict(test_set_features)\n",
    "xgb_reg_predict = xgb_reg.predict(test_set_features)"
   ]
  },
  {
   "cell_type": "code",
   "execution_count": 117,
   "metadata": {},
   "outputs": [
    {
     "name": "stdout",
     "output_type": "stream",
     "text": [
      "ratio 0 : rmse 0.16273265455559738\n",
      "ratio 0.01 : rmse 0.1626274498687394\n",
      "ratio 0.02 : rmse 0.1625237833412113\n",
      "ratio 0.03 : rmse 0.16242165931651414\n",
      "ratio 0.04 : rmse 0.16232112100982354\n",
      "ratio 0.05 : rmse 0.1622221001793391\n",
      "ratio 0.060000000000000005 : rmse 0.16212463982049005\n",
      "ratio 0.07 : rmse 0.16202873346621488\n",
      "ratio 0.08 : rmse 0.1619343909495006\n",
      "ratio 0.09 : rmse 0.16184160908356607\n",
      "ratio 0.09999999999999999 : rmse 0.16175042423335634\n",
      "ratio 0.10999999999999999 : rmse 0.16166077860037706\n",
      "ratio 0.11999999999999998 : rmse 0.16157269396235466\n",
      "ratio 0.12999999999999998 : rmse 0.16148619775021064\n",
      "ratio 0.13999999999999999 : rmse 0.1614012791833781\n",
      "ratio 0.15 : rmse 0.1613179251569167\n",
      "ratio 0.16 : rmse 0.1612361974856777\n",
      "ratio 0.17 : rmse 0.16115600924246024\n",
      "ratio 0.18000000000000002 : rmse 0.16107741809532378\n",
      "ratio 0.19000000000000003 : rmse 0.1610004032473489\n",
      "ratio 0.20000000000000004 : rmse 0.1609249917042658\n",
      "ratio 0.21000000000000005 : rmse 0.16085117989104203\n",
      "ratio 0.22000000000000006 : rmse 0.16077896592783822\n",
      "ratio 0.23000000000000007 : rmse 0.16070833126398082\n",
      "ratio 0.24000000000000007 : rmse 0.16063930115996986\n",
      "ratio 0.25000000000000006 : rmse 0.16057188237147266\n",
      "ratio 0.26000000000000006 : rmse 0.16050605196913886\n",
      "ratio 0.2700000000000001 : rmse 0.16044183846305285\n",
      "ratio 0.2800000000000001 : rmse 0.1603792165430408\n",
      "ratio 0.2900000000000001 : rmse 0.16031823644854917\n",
      "ratio 0.3000000000000001 : rmse 0.16025884672069043\n",
      "ratio 0.3100000000000001 : rmse 0.16020106341120022\n",
      "ratio 0.3200000000000001 : rmse 0.16014488755876252\n",
      "ratio 0.3300000000000001 : rmse 0.16009033505176345\n",
      "ratio 0.34000000000000014 : rmse 0.16003741433845642\n",
      "ratio 0.35000000000000014 : rmse 0.1599861188570315\n",
      "ratio 0.36000000000000015 : rmse 0.15993643306287875\n",
      "ratio 0.37000000000000016 : rmse 0.15988835643332955\n",
      "ratio 0.38000000000000017 : rmse 0.15984192182258716\n",
      "ratio 0.3900000000000002 : rmse 0.1597971000169253\n",
      "ratio 0.4000000000000002 : rmse 0.1597539100622825\n",
      "ratio 0.4100000000000002 : rmse 0.15971236233229746\n",
      "ratio 0.4200000000000002 : rmse 0.15967242853401947\n",
      "ratio 0.4300000000000002 : rmse 0.15963412776877334\n",
      "ratio 0.4400000000000002 : rmse 0.1595974586288665\n",
      "ratio 0.45000000000000023 : rmse 0.15956241467358873\n",
      "ratio 0.46000000000000024 : rmse 0.15952901344161352\n",
      "ratio 0.47000000000000025 : rmse 0.15949726427807082\n",
      "ratio 0.48000000000000026 : rmse 0.15946713001327836\n",
      "ratio 0.49000000000000027 : rmse 0.1594386324107974\n",
      "ratio 0.5000000000000002 : rmse 0.15941177426828507\n",
      "ratio 0.5100000000000002 : rmse 0.1593865548178062\n",
      "ratio 0.5200000000000002 : rmse 0.15936298601008975\n",
      "ratio 0.5300000000000002 : rmse 0.15934104320485135\n",
      "ratio 0.5400000000000003 : rmse 0.1593207430509132\n",
      "ratio 0.5500000000000003 : rmse 0.1593020970307764\n",
      "ratio 0.5600000000000003 : rmse 0.15928507585192966\n",
      "ratio 0.5700000000000003 : rmse 0.15926970771496882\n",
      "ratio 0.5800000000000003 : rmse 0.15925598969556756\n",
      "ratio 0.5900000000000003 : rmse 0.1592439008496272\n",
      "ratio 0.6000000000000003 : rmse 0.15923345470420114\n",
      "ratio 0.6100000000000003 : rmse 0.1592246670032664\n",
      "ratio 0.6200000000000003 : rmse 0.15921751062802414\n",
      "ratio 0.6300000000000003 : rmse 0.15921200424328294\n",
      "ratio 0.6400000000000003 : rmse 0.15920813786025123\n",
      "ratio 0.6500000000000004 : rmse 0.1592059309777919\n",
      "ratio 0.6600000000000004 : rmse 0.15920534879387452\n",
      "ratio 0.6700000000000004 : rmse 0.15920642354260783\n",
      "ratio 0.6800000000000004 : rmse 0.15920914859477328\n",
      "ratio 0.6900000000000004 : rmse 0.15921350905023549\n",
      "ratio 0.7000000000000004 : rmse 0.15921951350217223\n",
      "ratio 0.7100000000000004 : rmse 0.15922717044291382\n",
      "ratio 0.7200000000000004 : rmse 0.15923646713858977\n",
      "ratio 0.7300000000000004 : rmse 0.15924740425661574\n",
      "ratio 0.7400000000000004 : rmse 0.1592599954589007\n",
      "ratio 0.7500000000000004 : rmse 0.15927422032723823\n",
      "ratio 0.7600000000000005 : rmse 0.1592900945710997\n",
      "ratio 0.7700000000000005 : rmse 0.15930760352181772\n",
      "ratio 0.7800000000000005 : rmse 0.159326759049606\n",
      "ratio 0.7900000000000005 : rmse 0.15934756133887817\n",
      "ratio 0.8000000000000005 : rmse 0.15936999322352202\n",
      "ratio 0.8100000000000005 : rmse 0.15939407194108524\n",
      "ratio 0.8200000000000005 : rmse 0.15941978631899237\n",
      "ratio 0.8300000000000005 : rmse 0.15944714084517134\n",
      "ratio 0.8400000000000005 : rmse 0.15947613757632023\n",
      "ratio 0.8500000000000005 : rmse 0.1595067637250671\n",
      "ratio 0.8600000000000005 : rmse 0.15953903060584215\n",
      "ratio 0.8700000000000006 : rmse 0.1595729314686842\n",
      "ratio 0.8800000000000006 : rmse 0.15960846482646987\n",
      "ratio 0.8900000000000006 : rmse 0.15964562858080578\n",
      "ratio 0.9000000000000006 : rmse 0.15968442614915923\n",
      "ratio 0.9100000000000006 : rmse 0.15972485355775207\n",
      "ratio 0.9200000000000006 : rmse 0.15976691226386192\n",
      "ratio 0.9300000000000006 : rmse 0.15981059631109587\n",
      "ratio 0.9400000000000006 : rmse 0.15985590790241277\n",
      "ratio 0.9500000000000006 : rmse 0.15990284287684847\n",
      "ratio 0.9600000000000006 : rmse 0.15995140330856836\n",
      "ratio 0.9700000000000006 : rmse 0.16000158514718613\n",
      "ratio 0.9800000000000006 : rmse 0.16005338740607994\n",
      "ratio 0.9900000000000007 : rmse 0.16010680880037412\n"
     ]
    },
    {
     "data": {
      "image/png": "[encoded data removed]",
      "text/plain": [
       "<Figure size 1440x720 with 1 Axes>"
      ]
     },
     "metadata": {
      "needs_background": "light"
     },
     "output_type": "display_data"
    }
   ],
   "source": [
    "ratio = 0\n",
    "ratio_result = []\n",
    "result = []\n",
    "while ratio < 1:\n",
    "    ratio_predict = (ratio * lgbm_predict) + ((1 - ratio) * xgb_reg_predict)\n",
    "    ratio_mse = mean_squared_error(test_set_target, ratio_predict)\n",
    "    ratio_rmse = np.sqrt(ratio_mse)\n",
    "    print(\"ratio {} : rmse {}\".format(ratio, ratio_rmse))\n",
    "    ratio_result.append(ratio)\n",
    "    result.append(ratio_rmse)\n",
    "    ratio += 0.01\n",
    "\n",
    "\n",
    "plt.figure(figsize=(20, 10))\n",
    "plt.title(\"ratio_mse vs ratio\")\n",
    "plt.xlabel(\"ratio\")\n",
    "plt.ylabel(\"ratio_mse\")\n",
    "plt.plot(ratio_result, result)\n",
    "plt.show()"
   ]
  },
  {
   "cell_type": "code",
   "execution_count": 118,
   "metadata": {
    "scrolled": true
   },
   "outputs": [
    {
     "data": {
      "text/plain": [
       "[(0.6600000000000004, 0.15920534879387452),\n",
       " (0.6500000000000004, 0.1592059309777919),\n",
       " (0.6700000000000004, 0.15920642354260783),\n",
       " (0.6400000000000003, 0.15920813786025123),\n",
       " (0.6800000000000004, 0.15920914859477328),\n",
       " (0.6300000000000003, 0.15921200424328294),\n",
       " (0.6900000000000004, 0.15921350905023549),\n",
       " (0.6200000000000003, 0.15921751062802414),\n",
       " (0.7000000000000004, 0.15921951350217223),\n",
       " (0.6100000000000003, 0.1592246670032664),\n",
       " (0.7100000000000004, 0.15922717044291382),\n",
       " (0.6000000000000003, 0.15923345470420114),\n",
       " (0.7200000000000004, 0.15923646713858977),\n",
       " (0.5900000000000003, 0.1592439008496272),\n",
       " (0.7300000000000004, 0.15924740425661574),\n",
       " (0.5800000000000003, 0.15925598969556756),\n",
       " (0.7400000000000004, 0.1592599954589007),\n",
       " (0.5700000000000003, 0.15926970771496882),\n",
       " (0.7500000000000004, 0.15927422032723823),\n",
       " (0.5600000000000003, 0.15928507585192966),\n",
       " (0.7600000000000005, 0.1592900945710997),\n",
       " (0.5500000000000003, 0.1593020970307764),\n",
       " (0.7700000000000005, 0.15930760352181772),\n",
       " (0.5400000000000003, 0.1593207430509132),\n",
       " (0.7800000000000005, 0.159326759049606),\n",
       " (0.5300000000000002, 0.15934104320485135),\n",
       " (0.7900000000000005, 0.15934756133887817),\n",
       " (0.5200000000000002, 0.15936298601008975),\n",
       " (0.8000000000000005, 0.15936999322352202),\n",
       " (0.5100000000000002, 0.1593865548178062),\n",
       " (0.8100000000000005, 0.15939407194108524),\n",
       " (0.5000000000000002, 0.15941177426828507),\n",
       " (0.8200000000000005, 0.15941978631899237),\n",
       " (0.49000000000000027, 0.1594386324107974),\n",
       " (0.8300000000000005, 0.15944714084517134),\n",
       " (0.48000000000000026, 0.15946713001327836),\n",
       " (0.8400000000000005, 0.15947613757632023),\n",
       " (0.47000000000000025, 0.15949726427807082),\n",
       " (0.8500000000000005, 0.1595067637250671),\n",
       " (0.46000000000000024, 0.15952901344161352),\n",
       " (0.8600000000000005, 0.15953903060584215),\n",
       " (0.45000000000000023, 0.15956241467358873),\n",
       " (0.8700000000000006, 0.1595729314686842),\n",
       " (0.4400000000000002, 0.1595974586288665),\n",
       " (0.8800000000000006, 0.15960846482646987),\n",
       " (0.4300000000000002, 0.15963412776877334),\n",
       " (0.8900000000000006, 0.15964562858080578),\n",
       " (0.4200000000000002, 0.15967242853401947),\n",
       " (0.9000000000000006, 0.15968442614915923),\n",
       " (0.4100000000000002, 0.15971236233229746),\n",
       " (0.9100000000000006, 0.15972485355775207),\n",
       " (0.4000000000000002, 0.1597539100622825),\n",
       " (0.9200000000000006, 0.15976691226386192),\n",
       " (0.3900000000000002, 0.1597971000169253),\n",
       " (0.9300000000000006, 0.15981059631109587),\n",
       " (0.38000000000000017, 0.15984192182258716),\n",
       " (0.9400000000000006, 0.15985590790241277),\n",
       " (0.37000000000000016, 0.15988835643332955),\n",
       " (0.9500000000000006, 0.15990284287684847),\n",
       " (0.36000000000000015, 0.15993643306287875),\n",
       " (0.9600000000000006, 0.15995140330856836),\n",
       " (0.35000000000000014, 0.1599861188570315),\n",
       " (0.9700000000000006, 0.16000158514718613),\n",
       " (0.34000000000000014, 0.16003741433845642),\n",
       " (0.9800000000000006, 0.16005338740607994),\n",
       " (0.3300000000000001, 0.16009033505176345),\n",
       " (0.9900000000000007, 0.16010680880037412),\n",
       " (0.3200000000000001, 0.16014488755876252),\n",
       " (0.3100000000000001, 0.16020106341120022),\n",
       " (0.3000000000000001, 0.16025884672069043),\n",
       " (0.2900000000000001, 0.16031823644854917),\n",
       " (0.2800000000000001, 0.1603792165430408),\n",
       " (0.2700000000000001, 0.16044183846305285),\n",
       " (0.26000000000000006, 0.16050605196913886),\n",
       " (0.25000000000000006, 0.16057188237147266),\n",
       " (0.24000000000000007, 0.16063930115996986),\n",
       " (0.23000000000000007, 0.16070833126398082),\n",
       " (0.22000000000000006, 0.16077896592783822),\n",
       " (0.21000000000000005, 0.16085117989104203),\n",
       " (0.20000000000000004, 0.1609249917042658),\n",
       " (0.19000000000000003, 0.1610004032473489),\n",
       " (0.18000000000000002, 0.16107741809532378),\n",
       " (0.17, 0.16115600924246024),\n",
       " (0.16, 0.1612361974856777),\n",
       " (0.15, 0.1613179251569167),\n",
       " (0.13999999999999999, 0.1614012791833781),\n",
       " (0.12999999999999998, 0.16148619775021064),\n",
       " (0.11999999999999998, 0.16157269396235466),\n",
       " (0.10999999999999999, 0.16166077860037706),\n",
       " (0.09999999999999999, 0.16175042423335634),\n",
       " (0.09, 0.16184160908356607),\n",
       " (0.08, 0.1619343909495006),\n",
       " (0.07, 0.16202873346621488),\n",
       " (0.060000000000000005, 0.16212463982049005),\n",
       " (0.05, 0.1622221001793391),\n",
       " (0.04, 0.16232112100982354),\n",
       " (0.03, 0.16242165931651414),\n",
       " (0.02, 0.1625237833412113),\n",
       " (0.01, 0.1626274498687394),\n",
       " (0, 0.16273265455559738)]"
      ]
     },
     "execution_count": 118,
     "metadata": {},
     "output_type": "execute_result"
    }
   ],
   "source": [
    "sorted(list(zip(ratio_result, result)), key=lambda x: x[1])"
   ]
  },
  {
   "cell_type": "code",
   "execution_count": 100,
   "metadata": {},
   "outputs": [],
   "source": [
    "lgbm_predict = lgbm.predict(df_test)\n",
    "xgb_reg_predict = xgb_reg.predict(df_test)\n",
    "ratio = 0.66\n",
    "ratio_predict = (ratio * lgbm_predict) + ((1 - ratio) * xgb_reg_predict)\n",
    "ratio_predict = np.expm1(ratio_predict)"
   ]
  },
  {
   "cell_type": "code",
   "execution_count": 101,
   "metadata": {},
   "outputs": [
    {
     "data": {
      "text/html": [
       "<div>\n",
       "<style scoped>\n",
       "    .dataframe tbody tr th:only-of-type {\n",
       "        vertical-align: middle;\n",
       "    }\n",
       "\n",
       "    .dataframe tbody tr th {\n",
       "        vertical-align: top;\n",
       "    }\n",
       "\n",
       "    .dataframe thead th {\n",
       "        text-align: right;\n",
       "    }\n",
       "</style>\n",
       "<table border=\"1\" class=\"dataframe\">\n",
       "  <thead>\n",
       "    <tr style=\"text-align: right;\">\n",
       "      <th></th>\n",
       "      <th>id</th>\n",
       "      <th>price</th>\n",
       "    </tr>\n",
       "  </thead>\n",
       "  <tbody>\n",
       "    <tr>\n",
       "      <th>0</th>\n",
       "      <td>15035</td>\n",
       "      <td>5.128667e+05</td>\n",
       "    </tr>\n",
       "    <tr>\n",
       "      <th>1</th>\n",
       "      <td>15036</td>\n",
       "      <td>4.676324e+05</td>\n",
       "    </tr>\n",
       "    <tr>\n",
       "      <th>2</th>\n",
       "      <td>15037</td>\n",
       "      <td>1.380924e+06</td>\n",
       "    </tr>\n",
       "    <tr>\n",
       "      <th>3</th>\n",
       "      <td>15038</td>\n",
       "      <td>2.907668e+05</td>\n",
       "    </tr>\n",
       "    <tr>\n",
       "      <th>4</th>\n",
       "      <td>15039</td>\n",
       "      <td>3.188339e+05</td>\n",
       "    </tr>\n",
       "  </tbody>\n",
       "</table>\n",
       "</div>"
      ],
      "text/plain": [
       "      id         price\n",
       "0  15035  5.128667e+05\n",
       "1  15036  4.676324e+05\n",
       "2  15037  1.380924e+06\n",
       "3  15038  2.907668e+05\n",
       "4  15039  3.188339e+05"
      ]
     },
     "execution_count": 101,
     "metadata": {},
     "output_type": "execute_result"
    }
   ],
   "source": [
    "submission = pd.DataFrame({'id': test_id,\n",
    "                          'price': ratio_predict})\n",
    "submission.head()"
   ]
  },
  {
   "cell_type": "code",
   "execution_count": 102,
   "metadata": {},
   "outputs": [],
   "source": [
    "submission.to_csv('./submission.csv', index=False)"
   ]
  },
  {
   "cell_type": "code",
   "execution_count": null,
   "metadata": {},
   "outputs": [],
   "source": []
  }
 ],
 "metadata": {
  "hide_code_all_hidden": false,
  "kernelspec": {
   "display_name": "Python 3",
   "language": "python",
   "name": "python3"
  },
  "language_info": {
   "codemirror_mode": {
    "name": "ipython",
    "version": 3
   },
   "file_extension": ".py",
   "mimetype": "text/x-python",
   "name": "python",
   "nbconvert_exporter": "python",
   "pygments_lexer": "ipython3",
   "version": "3.7.0"
  }
 },
 "nbformat": 4,
 "nbformat_minor": 2
}
