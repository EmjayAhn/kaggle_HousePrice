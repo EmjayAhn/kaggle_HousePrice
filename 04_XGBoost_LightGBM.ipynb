{
 "cells": [
  {
   "cell_type": "markdown",
   "metadata": {},
   "source": [
    "# HousePricePrediction"
   ]
  },
  {
   "cell_type": "code",
   "execution_count": 263,
   "metadata": {},
   "outputs": [],
   "source": [
    "import re\n",
    "from sklearn.model_selection import train_test_split\n",
    "from sklearn.metrics import mean_squared_error\n",
    "\n",
    "from sklearn.linear_model import LinearRegression\n",
    "from sklearn.linear_model import Lasso\n",
    "from sklearn.linear_model import Ridge\n",
    "from sklearn.linear_model import ElasticNet\n",
    "\n",
    "from xgboost import XGBRegressor\n",
    "from lightgbm import LGBMRegressor\n",
    "\n",
    "from sklearn.model_selection import GridSearchCV\n",
    "\n",
    "pd.set_option('max_rows', 10, 'max_columns', 50)\n",
    "%matplotlib inline"
   ]
  },
  {
   "cell_type": "markdown",
   "metadata": {},
   "source": [
    "### Dataset\n",
    "- ID : 집을 구분하는 번호\n",
    "- date : 집을 구매한 날짜\n",
    "- price : 집의 가격(Target variable)\n",
    "- bedrooms : 침실의 수\n",
    "- bathrooms : 침실 개수 당 화장실의 수(화장실의 수 / 침실의 수 )\n",
    "- sqft_living : 주거 공간의 평방 피트(면적)\n",
    "- sqft_lot : 부지의 평방 피트(면적)\n",
    "- floors : 집의 층 수\n",
    "- waterfront : 집의 전방에 강이 흐르는지 유무 (a.k.a. 리버뷰)\n",
    "- view : 집이 얼마나 좋아 보이는지의 정도\n",
    "- condition : 집의 전반적인 상태\n",
    "- grade : King County grading 시스템 기준으로 매긴 집의 등급\n",
    "- sqft_above : 지하실을 제외한 평방 피트(면적)\n",
    "- sqft_basement : 지하실의 평방 피트(면적)\n",
    "- yr_built : 지어진 년도\n",
    "- yr_renovated : 집을 재건축한 년도\n",
    "- zipcode : 우편번호\n",
    "- lat : 위도\n",
    "- long : 경도\n",
    "- sqft_living15 : 2015년 기준 주거 공간의 평방 피트(면적, 집을 재건축했다면, 변화가 있을 수 있음)\n",
    "- sqft_lot15 : 2015년 기준 부지의 평방 피트(면적, 집을 재건축했다면, 변화가 있을 수 있음)"
   ]
  },
  {
   "cell_type": "code",
   "execution_count": 149,
   "metadata": {},
   "outputs": [],
   "source": [
    "df = pd.read_csv('train.csv')\n",
    "df_test = pd.read_csv('test.csv')\n",
    "test_id = df_test['id']"
   ]
  },
  {
   "cell_type": "code",
   "execution_count": 150,
   "metadata": {},
   "outputs": [
    {
     "name": "stdout",
     "output_type": "stream",
     "text": [
      "train set 데이터량 (15035, 21)\n",
      "test set 데이터량 (6468, 20)\n"
     ]
    }
   ],
   "source": [
    "print(\"train set 데이터량\", df.shape)\n",
    "print(\"test set 데이터량\", df_test.shape)"
   ]
  },
  {
   "cell_type": "markdown",
   "metadata": {},
   "source": [
    "### EDA & Preprocessing"
   ]
  },
  {
   "cell_type": "markdown",
   "metadata": {},
   "source": [
    "#### Null Data 확인\n",
    "- 다음 정보를 통해 train data와 test data에 Null 값이 없는 것을 확인 할 수 있습니다. 하지만, Null data는 없을 지라도 다른 결측치가 있을 수 있다는 것은 염두해 두어야 합니다. \n",
    "- 추후에 feature 별로 자세히 살펴볼 때, Null 이 아닌 다른 결측치가 있을지 확인해 보아야 합니다."
   ]
  },
  {
   "cell_type": "code",
   "execution_count": 151,
   "metadata": {},
   "outputs": [
    {
     "name": "stdout",
     "output_type": "stream",
     "text": [
      "<class 'pandas.core.frame.DataFrame'>\n",
      "RangeIndex: 15035 entries, 0 to 15034\n",
      "Data columns (total 21 columns):\n",
      "id               15035 non-null int64\n",
      "date             15035 non-null object\n",
      "price            15035 non-null float64\n",
      "bedrooms         15035 non-null int64\n",
      "bathrooms        15035 non-null float64\n",
      "sqft_living      15035 non-null int64\n",
      "sqft_lot         15035 non-null int64\n",
      "floors           15035 non-null float64\n",
      "waterfront       15035 non-null int64\n",
      "view             15035 non-null int64\n",
      "condition        15035 non-null int64\n",
      "grade            15035 non-null int64\n",
      "sqft_above       15035 non-null int64\n",
      "sqft_basement    15035 non-null int64\n",
      "yr_built         15035 non-null int64\n",
      "yr_renovated     15035 non-null int64\n",
      "zipcode          15035 non-null int64\n",
      "lat              15035 non-null float64\n",
      "long             15035 non-null float64\n",
      "sqft_living15    15035 non-null int64\n",
      "sqft_lot15       15035 non-null int64\n",
      "dtypes: float64(5), int64(15), object(1)\n",
      "memory usage: 2.4+ MB\n",
      "Train set 데이터 정보: \n",
      " None\n",
      "------------\n",
      "\n",
      "<class 'pandas.core.frame.DataFrame'>\n",
      "RangeIndex: 6468 entries, 0 to 6467\n",
      "Data columns (total 20 columns):\n",
      "id               6468 non-null int64\n",
      "date             6468 non-null object\n",
      "bedrooms         6468 non-null int64\n",
      "bathrooms        6468 non-null float64\n",
      "sqft_living      6468 non-null int64\n",
      "sqft_lot         6468 non-null int64\n",
      "floors           6468 non-null float64\n",
      "waterfront       6468 non-null int64\n",
      "view             6468 non-null int64\n",
      "condition        6468 non-null int64\n",
      "grade            6468 non-null int64\n",
      "sqft_above       6468 non-null int64\n",
      "sqft_basement    6468 non-null int64\n",
      "yr_built         6468 non-null int64\n",
      "yr_renovated     6468 non-null int64\n",
      "zipcode          6468 non-null int64\n",
      "lat              6468 non-null float64\n",
      "long             6468 non-null float64\n",
      "sqft_living15    6468 non-null int64\n",
      "sqft_lot15       6468 non-null int64\n",
      "dtypes: float64(4), int64(15), object(1)\n",
      "memory usage: 1010.7+ KB\n",
      "Test set 데이터 정보: \n",
      " None\n"
     ]
    }
   ],
   "source": [
    "print(\"Train set 데이터 정보: \\n\", df.info())\n",
    "print('------------\\n')\n",
    "print(\"Test set 데이터 정보: \\n\", df_test.info())"
   ]
  },
  {
   "cell_type": "markdown",
   "metadata": {},
   "source": [
    "#### `price` : target 분포 확인 및 전처리\n",
    "- target value 의 분포가 정규분포와는 거리가 멉니다.\n",
    "- skewness 가 0보다 큼을 분포 모양이 왼쪽으로 치우쳐져 있는 형태를 통해서도 확인할 수 있으며, 수치들을 통해서도 확인할 수 있습니다.\n",
    "- kurtosis 역시 매우 뾰족한 분포 모양을 통해서도 알 수 있고, 그 수치가 나타남을 확인 할 수 있습니다."
   ]
  },
  {
   "cell_type": "code",
   "execution_count": 152,
   "metadata": {},
   "outputs": [
    {
     "name": "stdout",
     "output_type": "stream",
     "text": [
      "skewness:  4.290252396939529\n",
      "kurtosis: 40.15491919350329\n"
     ]
    },
    {
     "data": {
      "text/plain": [
       "<matplotlib.axes._subplots.AxesSubplot at 0x1283e0a58>"
      ]
     },
     "execution_count": 152,
     "metadata": {},
     "output_type": "execute_result"
    },
    {
     "data": {
      "image/png": "[encoded data removed]",
      "text/plain": [
       "<Figure size 1440x720 with 1 Axes>"
      ]
     },
     "metadata": {
      "needs_background": "light"
     },
     "output_type": "display_data"
    }
   ],
   "source": [
    "print(\"skewness: \", df['price'].skew())\n",
    "print(\"kurtosis:\", df['price'].kurt())\n",
    "plt.figure(figsize=(20, 10))\n",
    "sns.distplot(df['price'])"
   ]
  },
  {
   "cell_type": "markdown",
   "metadata": {},
   "source": [
    "- `price` 분포를 좀더 정규화 해주기 위해, logarithm 을 취해줍니다. 꼭 잊지말고, 최종 예측치에서는 exponential 을 취해주어야 합니다."
   ]
  },
  {
   "cell_type": "code",
   "execution_count": 153,
   "metadata": {},
   "outputs": [],
   "source": [
    "original_price = df['price'] # save original price \n",
    "df['price'] = np.log1p(df['price'])"
   ]
  },
  {
   "cell_type": "markdown",
   "metadata": {},
   "source": [
    "### `id` drop\n",
    "- id 의 경우 prediction 에 영향이 없으므로, drop 해 주겠습니다."
   ]
  },
  {
   "cell_type": "code",
   "execution_count": 154,
   "metadata": {},
   "outputs": [],
   "source": [
    "df = df.drop('id', axis=1)\n",
    "df_test = df_test.drop('id', axis=1)"
   ]
  },
  {
   "cell_type": "markdown",
   "metadata": {},
   "source": [
    "#### `date` : 형식 확인 및 전처리\n",
    "- `Date` Column 이 모두 **날짜(숫자 8자리) + T000000** pattern 으로 되어있는지 확인해봅니다.\n",
    "    - 확인결과, 모두 숫자, T000000 형태가 붙어있는 것을 확인 할 수 있습니다. (True)"
   ]
  },
  {
   "cell_type": "code",
   "execution_count": 155,
   "metadata": {},
   "outputs": [
    {
     "name": "stdout",
     "output_type": "stream",
     "text": [
      "True\n"
     ]
    }
   ],
   "source": [
    "def regex(data):\n",
    "    pattern = re.compile('^[0-9]{8}T000000$')\n",
    "    match = pattern.match(data)\n",
    "    if match:\n",
    "        return True\n",
    "    else:\n",
    "        return False\n",
    "    \n",
    "date_pattern_check_series = df['date'].apply(lambda data: regex(data))\n",
    "print(all(date_pattern_check_series))\n",
    "del date_pattern_check_series"
   ]
  },
  {
   "cell_type": "markdown",
   "metadata": {},
   "source": [
    "- 모두 같은 형태임을 확인했으므로, 날짜형식만자리까지만 자신있게 제거해줍니다."
   ]
  },
  {
   "cell_type": "code",
   "execution_count": 156,
   "metadata": {},
   "outputs": [],
   "source": [
    "df['date'] = df['date'].apply(lambda data: data[:8])\n",
    "df_test['date'] = df_test['date'].apply(lambda data: data[:8])"
   ]
  },
  {
   "cell_type": "markdown",
   "metadata": {},
   "source": [
    "- `date`를 활용해 매달 주택의 거래량과 그 평균 price 를 확인해 보겠습니다.\n",
    "    - 거래량이 많은 달에는 평균 가격이 비교적 높은 것을 확인 할 수 있습니다.\n",
    "    - 2015년 05월에는 거래량이 다른 다른달에 비해 많지 않은데도 불구하고, 평균 가격이 높은 특이점도 확인 할 수 있습니다.\n",
    "    - 시계열 적인 데이터의 수가 많지 않고, 부족하기 때문에, 월별 주기성을 확정 할 수 는 없지만 `date` column 을 drop 하고, yearmonth data 를 dummy 변수로 활용하겠습니다."
   ]
  },
  {
   "cell_type": "code",
   "execution_count": 157,
   "metadata": {
    "scrolled": false
   },
   "outputs": [
    {
     "data": {
      "image/png": "[encoded data removed]",
      "text/plain": [
       "<Figure size 1440x720 with 2 Axes>"
      ]
     },
     "metadata": {
      "needs_background": "light"
     },
     "output_type": "display_data"
    }
   ],
   "source": [
    "df['yrmth'] = df['date'].apply(lambda data: data[:6])\n",
    "df_test['yrmth'] = df_test['date'].apply(lambda data: data[:6])\n",
    "\n",
    "yrmth_df = df.groupby('yrmth')['price'].agg({'mean_price': 'mean', \n",
    "                                             'number_of_sales': 'count'})\n",
    "vmin = np.min(yrmth_df['number_of_sales'])\n",
    "vmax = np.max(yrmth_df['number_of_sales'])\n",
    "\n",
    "plt.figure(figsize=(20, 10))\n",
    "\n",
    "plt.scatter(np.arange(yrmth_df.shape[0]), yrmth_df['mean_price'], c=yrmth_df['number_of_sales'], \\\n",
    "            s=yrmth_df['number_of_sales'], vmin=vmin, vmax=vmax, cmap=plt.cm.Reds)\n",
    "plt.colorbar(label='number_of_sales')\n",
    "\n",
    "plt.plot(np.arange(yrmth_df.shape[0]), yrmth_df['mean_price'])\n",
    "\n",
    "plt.title('Monthly Average Price')\n",
    "plt.xticks(np.arange(yrmth_df.shape[0]), yrmth_df.index.values)\n",
    "plt.xlabel('YYYYMM - YearMonth')\n",
    "plt.ylabel('log_Price')\n",
    "plt.show()"
   ]
  },
  {
   "cell_type": "code",
   "execution_count": 158,
   "metadata": {},
   "outputs": [],
   "source": [
    "df = pd.get_dummies(df, columns=['yrmth'], drop_first=True)\n",
    "df_test = pd.get_dummies(df_test, columns=['yrmth'], drop_first=True)\n",
    "\n",
    "# df = df.drop('date', axis=1)\n",
    "# df_test = df_test.drop('date', axis=1)"
   ]
  },
  {
   "cell_type": "code",
   "execution_count": 159,
   "metadata": {},
   "outputs": [],
   "source": [
    "df['date'] = df['date'].apply(lambda data: int(data))\n",
    "df_test['date'] = df_test['date'].apply(lambda data: int(data))"
   ]
  },
  {
   "cell_type": "markdown",
   "metadata": {},
   "source": [
    "### `sqft_living`, `sqft_living15`,  `sqft_basement`, `sqft_above`, `sqft_lot`, `sqft_lot15`\n",
    "- `sqft_living`, `sqft_basement`, `sqft_above` 간의 관계를 확인해 봅니다.\n",
    "    - 확인결과, `sqft_living`은 `sqft_basement` 와 `sqft_above`를 더한 값임을 확인 할 수 있습니다.\n",
    "    - 독립변수간에 상관성이 매우 높을 것이 예상되므로, `sqft_basement`는 지하실이 있는지 유무로 categorical variable 로 바꿔주고, drop하겠습니다."
   ]
  },
  {
   "cell_type": "code",
   "execution_count": 160,
   "metadata": {},
   "outputs": [
    {
     "data": {
      "text/plain": [
       "True"
      ]
     },
     "execution_count": 160,
     "metadata": {},
     "output_type": "execute_result"
    }
   ],
   "source": [
    "all(df['sqft_living'] == (df['sqft_basement'] + df['sqft_above']))"
   ]
  },
  {
   "cell_type": "markdown",
   "metadata": {},
   "source": [
    "- Correlation 확인을 해보겠습니다.\n",
    "    - sqft_living15 와 sqft_lot15 의 경우, 각각 sqft_livng 과 sqft_lot 간에 correlation 이 매우 높은 것을 확인 할 수 있습니다.\n",
    "    - `sqft_living15`와 `sqft_lot15`를 drop 해 주겠습니다.\n",
    "    - 또한 위에서 `sqft_basement`와 `sqft_above` 를 더한 값이 `sqft_living`과 같으므로 `basement`는 더미변수로, `sqft_above`는 삭제해주겠습니다."
   ]
  },
  {
   "cell_type": "code",
   "execution_count": 161,
   "metadata": {
    "scrolled": false
   },
   "outputs": [
    {
     "data": {
      "text/html": [
       "<div>\n",
       "<style scoped>\n",
       "    .dataframe tbody tr th:only-of-type {\n",
       "        vertical-align: middle;\n",
       "    }\n",
       "\n",
       "    .dataframe tbody tr th {\n",
       "        vertical-align: top;\n",
       "    }\n",
       "\n",
       "    .dataframe thead th {\n",
       "        text-align: right;\n",
       "    }\n",
       "</style>\n",
       "<table border=\"1\" class=\"dataframe\">\n",
       "  <thead>\n",
       "    <tr style=\"text-align: right;\">\n",
       "      <th></th>\n",
       "      <th>sqft_living</th>\n",
       "      <th>sqft_living15</th>\n",
       "      <th>sqft_basement</th>\n",
       "      <th>sqft_above</th>\n",
       "      <th>sqft_lot</th>\n",
       "      <th>sqft_lot15</th>\n",
       "      <th>price</th>\n",
       "    </tr>\n",
       "  </thead>\n",
       "  <tbody>\n",
       "    <tr>\n",
       "      <th>sqft_living</th>\n",
       "      <td>1.000000</td>\n",
       "      <td>0.760271</td>\n",
       "      <td>0.434017</td>\n",
       "      <td>0.878736</td>\n",
       "      <td>0.176500</td>\n",
       "      <td>0.184176</td>\n",
       "      <td>0.697907</td>\n",
       "    </tr>\n",
       "    <tr>\n",
       "      <th>sqft_living15</th>\n",
       "      <td>0.760271</td>\n",
       "      <td>1.000000</td>\n",
       "      <td>0.198380</td>\n",
       "      <td>0.737795</td>\n",
       "      <td>0.147562</td>\n",
       "      <td>0.183599</td>\n",
       "      <td>0.621800</td>\n",
       "    </tr>\n",
       "    <tr>\n",
       "      <th>sqft_basement</th>\n",
       "      <td>0.434017</td>\n",
       "      <td>0.198380</td>\n",
       "      <td>1.000000</td>\n",
       "      <td>-0.048623</td>\n",
       "      <td>0.017818</td>\n",
       "      <td>0.018813</td>\n",
       "      <td>0.314378</td>\n",
       "    </tr>\n",
       "    <tr>\n",
       "      <th>sqft_above</th>\n",
       "      <td>0.878736</td>\n",
       "      <td>0.737795</td>\n",
       "      <td>-0.048623</td>\n",
       "      <td>1.000000</td>\n",
       "      <td>0.186242</td>\n",
       "      <td>0.194226</td>\n",
       "      <td>0.607197</td>\n",
       "    </tr>\n",
       "    <tr>\n",
       "      <th>sqft_lot</th>\n",
       "      <td>0.176500</td>\n",
       "      <td>0.147562</td>\n",
       "      <td>0.017818</td>\n",
       "      <td>0.186242</td>\n",
       "      <td>1.000000</td>\n",
       "      <td>0.728458</td>\n",
       "      <td>0.108946</td>\n",
       "    </tr>\n",
       "    <tr>\n",
       "      <th>sqft_lot15</th>\n",
       "      <td>0.184176</td>\n",
       "      <td>0.183599</td>\n",
       "      <td>0.018813</td>\n",
       "      <td>0.194226</td>\n",
       "      <td>0.728458</td>\n",
       "      <td>1.000000</td>\n",
       "      <td>0.096976</td>\n",
       "    </tr>\n",
       "    <tr>\n",
       "      <th>price</th>\n",
       "      <td>0.697907</td>\n",
       "      <td>0.621800</td>\n",
       "      <td>0.314378</td>\n",
       "      <td>0.607197</td>\n",
       "      <td>0.108946</td>\n",
       "      <td>0.096976</td>\n",
       "      <td>1.000000</td>\n",
       "    </tr>\n",
       "  </tbody>\n",
       "</table>\n",
       "</div>"
      ],
      "text/plain": [
       "               sqft_living  sqft_living15  sqft_basement  sqft_above  \\\n",
       "sqft_living       1.000000       0.760271       0.434017    0.878736   \n",
       "sqft_living15     0.760271       1.000000       0.198380    0.737795   \n",
       "sqft_basement     0.434017       0.198380       1.000000   -0.048623   \n",
       "sqft_above        0.878736       0.737795      -0.048623    1.000000   \n",
       "sqft_lot          0.176500       0.147562       0.017818    0.186242   \n",
       "sqft_lot15        0.184176       0.183599       0.018813    0.194226   \n",
       "price             0.697907       0.621800       0.314378    0.607197   \n",
       "\n",
       "               sqft_lot  sqft_lot15     price  \n",
       "sqft_living    0.176500    0.184176  0.697907  \n",
       "sqft_living15  0.147562    0.183599  0.621800  \n",
       "sqft_basement  0.017818    0.018813  0.314378  \n",
       "sqft_above     0.186242    0.194226  0.607197  \n",
       "sqft_lot       1.000000    0.728458  0.108946  \n",
       "sqft_lot15     0.728458    1.000000  0.096976  \n",
       "price          0.108946    0.096976  1.000000  "
      ]
     },
     "execution_count": 161,
     "metadata": {},
     "output_type": "execute_result"
    }
   ],
   "source": [
    "df[['sqft_living', 'sqft_living15', 'sqft_basement', 'sqft_above', 'sqft_lot', 'sqft_lot15', 'price']].corr()"
   ]
  },
  {
   "cell_type": "code",
   "execution_count": 162,
   "metadata": {},
   "outputs": [],
   "source": [
    "# sqft_basement 를 dummy 변수로 만들어주는 코드\n",
    "pre_sqft_df = df.copy()\n",
    "pre_sqft_df['basement_dummy'] = pre_sqft_df['sqft_basement'].apply(lambda data: 1 if data > 0 else 0)\n",
    "df_test['basement_dummy'] = df_test['sqft_basement'].apply(lambda data: 1 if data > 0 else 0)\n",
    "\n",
    "# pre_sqft_df = pre_sqft_df.drop('sqft_basement', axis=1)\n",
    "# df_test = df_test.drop('sqft_basement', axis=1)\n",
    "# pre_sqft_df.head()"
   ]
  },
  {
   "cell_type": "code",
   "execution_count": 163,
   "metadata": {},
   "outputs": [],
   "source": [
    "# sqft_living15 와 sqft_lot15, sqft_above drop 코드\n",
    "pre_sqft_df = pre_sqft_df.drop(columns=['sqft_living15', 'sqft_lot15', 'sqft_above'], axis=1)\n",
    "df_test = df_test.drop(columns=['sqft_living15', 'sqft_lot15', 'sqft_above'], axis=1)"
   ]
  },
  {
   "cell_type": "markdown",
   "metadata": {},
   "source": [
    "- `sqft_living`, `sqft_basement`, `sqft_lot`,의 skewness를 확인합니다.\n",
    "    - skewness 가 비교적 큰 것 (저의 경우 그 기준을 1로 하였습니다.) 1보다 큰 skewness 를 logarithm 을 취해줍니다."
   ]
  },
  {
   "cell_type": "code",
   "execution_count": 164,
   "metadata": {
    "scrolled": true
   },
   "outputs": [
    {
     "name": "stdout",
     "output_type": "stream",
     "text": [
      "sqft_living skewness:  1.4924715984991939\n",
      "sqft_basement skewness:  1.5565549481889323\n",
      "sqft_lot skewness:  13.35050013446013\n"
     ]
    }
   ],
   "source": [
    "print(\"sqft_living skewness: \", pre_sqft_df['sqft_living'].skew())\n",
    "print(\"sqft_basement skewness: \", pre_sqft_df['sqft_basement'].skew())\n",
    "print(\"sqft_lot skewness: \", pre_sqft_df['sqft_lot'].skew())"
   ]
  },
  {
   "cell_type": "code",
   "execution_count": 165,
   "metadata": {},
   "outputs": [],
   "source": [
    "skew_list = ['sqft_living', 'sqft_basement', 'sqft_lot',]\n",
    "for skew in skew_list:\n",
    "    pre_sqft_df[skew] = pre_sqft_df[skew].apply(lambda data: np.log1p(data))\n",
    "    df_test[skew] = df_test[skew].apply(lambda data: np.log1p(data))"
   ]
  },
  {
   "cell_type": "code",
   "execution_count": 166,
   "metadata": {
    "scrolled": true
   },
   "outputs": [
    {
     "name": "stdout",
     "output_type": "stream",
     "text": [
      "sqft_living skewness:  -0.03745962412709876\n",
      "sqft_basement skewness:  0.4884019504032108\n",
      "sqft_lot skewness:  0.9899185058491824\n"
     ]
    }
   ],
   "source": [
    "print(\"sqft_living skewness: \", pre_sqft_df['sqft_living'].skew())\n",
    "print(\"sqft_basement skewness: \", pre_sqft_df['sqft_basement'].skew())\n",
    "print(\"sqft_lot skewness: \", pre_sqft_df['sqft_lot'].skew())"
   ]
  },
  {
   "cell_type": "markdown",
   "metadata": {},
   "source": [
    "### `yr_built` & `yr_renovated`\n",
    "- `yr_built`와 `yr_renovated`의 경우 집의 건축연도, 재건축 연도를 의미합니다. yr_renovated 의 경우, 리모델링이 되지 않았을 때는 0으로 처리 되는 것을 볼 수 있습니다.\n",
    "- 우리의 경험칙상 집이 재건축이 되면, 재건축된 연도가 처음 건축된 연도보다 더 중요했음을 알 수 있습니다.\n",
    "    - 따라서 yr_renovated 의 경우 리모델링을 했는지 안했는지로 변수를 바꿔주도록 하겠습니다. 또한 두 변수를 조합한 yr_combine 형태의 컬럼역시 만들어 주도록 하겠습니다."
   ]
  },
  {
   "cell_type": "code",
   "execution_count": 167,
   "metadata": {},
   "outputs": [],
   "source": [
    "pre_sqft_built_df = pre_sqft_df.copy()"
   ]
  },
  {
   "cell_type": "code",
   "execution_count": 168,
   "metadata": {
    "scrolled": true
   },
   "outputs": [
    {
     "data": {
      "text/plain": [
       "array([1955, 1933, 1987, 1995, 1963, 1965, 1942, 1927, 1977, 1900, 1979,\n",
       "       1994, 1916, 1921, 1969, 1947, 1968, 1985, 1941, 1915, 1909, 2003,\n",
       "       1929, 1981, 1930, 1904, 1996, 1984, 2014, 1922, 1966, 1950, 2008,\n",
       "       1959, 1954, 1989, 2005, 1973, 1972, 1986, 1956, 2002, 1992, 1964,\n",
       "       1952, 1925, 1961, 2006, 1988, 2001, 1962, 1939, 1967, 1975, 1910,\n",
       "       1983, 1991, 1905, 1980, 1971, 2010, 1945, 1924, 1978, 1926, 1923,\n",
       "       1990, 2000, 1976, 1949, 1999, 1901, 1993, 1948, 1920, 1997, 1957,\n",
       "       2004, 1960, 1940, 1918, 1974, 1911, 1937, 1982, 1908, 1931, 1998,\n",
       "       1928, 1943, 1907, 2013, 1953, 2012, 2007, 1912, 2011, 1917, 1958,\n",
       "       1946, 1951, 1932, 1944, 2009, 1903, 1970, 1938, 1919, 1906, 1936,\n",
       "       1913, 1902, 1914, 2015, 1935, 1934])"
      ]
     },
     "execution_count": 168,
     "metadata": {},
     "output_type": "execute_result"
    }
   ],
   "source": [
    "pre_sqft_built_df['yr_built'].unique()"
   ]
  },
  {
   "cell_type": "code",
   "execution_count": 169,
   "metadata": {
    "scrolled": false
   },
   "outputs": [
    {
     "data": {
      "text/plain": [
       "array([   0, 2002, 1999, 1991, 1978, 2005, 2008, 2003, 1994, 1984, 1954,\n",
       "       2014, 2011, 1974, 1983, 2013, 1990, 1957, 1977, 1981, 1995, 2000,\n",
       "       1986, 1992, 2004, 2007, 1987, 2006, 1985, 1971, 1945, 1979, 1997,\n",
       "       2010, 1969, 1948, 2009, 1970, 2015, 1989, 2001, 1968, 2012, 1963,\n",
       "       1993, 1962, 1972, 1980, 1998, 1955, 1996, 1950, 1956, 1982, 1988,\n",
       "       1940, 1946, 1975, 1964, 1958, 1976, 1973, 1967, 1965, 1944])"
      ]
     },
     "execution_count": 169,
     "metadata": {},
     "output_type": "execute_result"
    }
   ],
   "source": [
    "pre_sqft_built_df['yr_renovated'].unique()"
   ]
  },
  {
   "cell_type": "markdown",
   "metadata": {},
   "source": [
    "- 앞서, null 값이 없다고 생각했었지만, yr_renovated 의 경우 대부분의 값들이 0값임을 알수 있다. \n",
    "- 이는 애초에 재건축이 되지 않았거나, 혹은 재건축이 되었더라도, 기록을 못했기때문에 일어난 일이라고 생각하는 것이 일감이지만, 좀더 살펴볼 필요가 있다."
   ]
  },
  {
   "cell_type": "code",
   "execution_count": 170,
   "metadata": {
    "scrolled": true
   },
   "outputs": [
    {
     "data": {
      "text/plain": [
       "0       14404\n",
       "2014       71\n",
       "2013       28\n",
       "2003       25\n",
       "2007       25\n",
       "Name: yr_renovated, dtype: int64"
      ]
     },
     "execution_count": 170,
     "metadata": {},
     "output_type": "execute_result"
    }
   ],
   "source": [
    "pre_sqft_built_df['yr_renovated'].value_counts().head()"
   ]
  },
  {
   "cell_type": "markdown",
   "metadata": {},
   "source": [
    "- 경험칙상, 재건축을 하게 되면 지어진 날짜보다는 재건축된 날짜가 아파트의 연식을 계산하는데 더 주요한 변수가 됩니다.\n",
    "    - 따라서, yr_renovated 와 yr_built 를 합치는 새로운 column 을 생각해 볼 수 있다.\n",
    "    - 재건축을 하지 않아, yr_renovated 의 값이 0 인 경우, yr_built 를 가져오고,\n",
    "    - 재건축을 한 경우에는 yr_renovated 의 값을 가져오는 column 을 생성해보는 것이다."
   ]
  },
  {
   "cell_type": "code",
   "execution_count": 171,
   "metadata": {},
   "outputs": [],
   "source": [
    "pre_sqft_built_df['renovated_index'] = pre_sqft_built_df['yr_renovated'].apply(lambda data: 0 if data == 0 else 1)\n",
    "df_test['renovated_index'] = df_test['yr_renovated'].apply(lambda data: 0 if data == 0 else 1)\n",
    "pre_sqft_built_df['yr_combine'] = pre_sqft_built_df.apply(lambda df: max(df['yr_built'], df['yr_renovated']), axis=1)\n",
    "df_test['yr_combine'] = df_test.apply(lambda df: max(df['yr_built'], df['yr_renovated']), axis=1)"
   ]
  },
  {
   "cell_type": "markdown",
   "metadata": {},
   "source": [
    "- yr_built 와 yr_comibne 의 경우, correlation 이 매우 높으므로, yr_built 을 삭제해주도록 하겠습니다."
   ]
  },
  {
   "cell_type": "code",
   "execution_count": 172,
   "metadata": {
    "scrolled": false
   },
   "outputs": [
    {
     "data": {
      "text/html": [
       "<div>\n",
       "<style scoped>\n",
       "    .dataframe tbody tr th:only-of-type {\n",
       "        vertical-align: middle;\n",
       "    }\n",
       "\n",
       "    .dataframe tbody tr th {\n",
       "        vertical-align: top;\n",
       "    }\n",
       "\n",
       "    .dataframe thead th {\n",
       "        text-align: right;\n",
       "    }\n",
       "</style>\n",
       "<table border=\"1\" class=\"dataframe\">\n",
       "  <thead>\n",
       "    <tr style=\"text-align: right;\">\n",
       "      <th></th>\n",
       "      <th>yr_built</th>\n",
       "      <th>yr_renovated</th>\n",
       "      <th>yr_combine</th>\n",
       "      <th>price</th>\n",
       "    </tr>\n",
       "  </thead>\n",
       "  <tbody>\n",
       "    <tr>\n",
       "      <th>yr_built</th>\n",
       "      <td>1.000000</td>\n",
       "      <td>-0.215760</td>\n",
       "      <td>0.911773</td>\n",
       "      <td>0.076293</td>\n",
       "    </tr>\n",
       "    <tr>\n",
       "      <th>yr_renovated</th>\n",
       "      <td>-0.215760</td>\n",
       "      <td>1.000000</td>\n",
       "      <td>0.169203</td>\n",
       "      <td>0.127533</td>\n",
       "    </tr>\n",
       "    <tr>\n",
       "      <th>yr_combine</th>\n",
       "      <td>0.911773</td>\n",
       "      <td>0.169203</td>\n",
       "      <td>1.000000</td>\n",
       "      <td>0.128711</td>\n",
       "    </tr>\n",
       "    <tr>\n",
       "      <th>price</th>\n",
       "      <td>0.076293</td>\n",
       "      <td>0.127533</td>\n",
       "      <td>0.128711</td>\n",
       "      <td>1.000000</td>\n",
       "    </tr>\n",
       "  </tbody>\n",
       "</table>\n",
       "</div>"
      ],
      "text/plain": [
       "              yr_built  yr_renovated  yr_combine     price\n",
       "yr_built      1.000000     -0.215760    0.911773  0.076293\n",
       "yr_renovated -0.215760      1.000000    0.169203  0.127533\n",
       "yr_combine    0.911773      0.169203    1.000000  0.128711\n",
       "price         0.076293      0.127533    0.128711  1.000000"
      ]
     },
     "execution_count": 172,
     "metadata": {},
     "output_type": "execute_result"
    }
   ],
   "source": [
    "pre_sqft_built_df[['yr_built', 'yr_renovated', 'yr_combine', 'price']].corr()"
   ]
  },
  {
   "cell_type": "code",
   "execution_count": 173,
   "metadata": {},
   "outputs": [],
   "source": [
    "# yr_built 삭제\n",
    "pre_sqft_built_df = pre_sqft_built_df.drop('yr_built', axis=1)\n",
    "df_test = df_test.drop('yr_built', axis=1)"
   ]
  },
  {
   "cell_type": "code",
   "execution_count": 174,
   "metadata": {
    "scrolled": false
   },
   "outputs": [
    {
     "data": {
      "text/html": [
       "<div>\n",
       "<style scoped>\n",
       "    .dataframe tbody tr th:only-of-type {\n",
       "        vertical-align: middle;\n",
       "    }\n",
       "\n",
       "    .dataframe tbody tr th {\n",
       "        vertical-align: top;\n",
       "    }\n",
       "\n",
       "    .dataframe thead th {\n",
       "        text-align: right;\n",
       "    }\n",
       "</style>\n",
       "<table border=\"1\" class=\"dataframe\">\n",
       "  <thead>\n",
       "    <tr style=\"text-align: right;\">\n",
       "      <th></th>\n",
       "      <th>date</th>\n",
       "      <th>price</th>\n",
       "      <th>bedrooms</th>\n",
       "      <th>bathrooms</th>\n",
       "      <th>sqft_living</th>\n",
       "      <th>sqft_lot</th>\n",
       "      <th>floors</th>\n",
       "      <th>waterfront</th>\n",
       "      <th>view</th>\n",
       "      <th>condition</th>\n",
       "      <th>grade</th>\n",
       "      <th>sqft_basement</th>\n",
       "      <th>yr_renovated</th>\n",
       "      <th>zipcode</th>\n",
       "      <th>lat</th>\n",
       "      <th>long</th>\n",
       "      <th>yrmth_201406</th>\n",
       "      <th>yrmth_201407</th>\n",
       "      <th>yrmth_201408</th>\n",
       "      <th>yrmth_201409</th>\n",
       "      <th>yrmth_201410</th>\n",
       "      <th>yrmth_201411</th>\n",
       "      <th>yrmth_201412</th>\n",
       "      <th>yrmth_201501</th>\n",
       "      <th>yrmth_201502</th>\n",
       "      <th>yrmth_201503</th>\n",
       "      <th>yrmth_201504</th>\n",
       "      <th>yrmth_201505</th>\n",
       "      <th>basement_dummy</th>\n",
       "      <th>renovated_index</th>\n",
       "      <th>yr_combine</th>\n",
       "    </tr>\n",
       "  </thead>\n",
       "  <tbody>\n",
       "    <tr>\n",
       "      <th>0</th>\n",
       "      <td>20141013</td>\n",
       "      <td>12.309987</td>\n",
       "      <td>3</td>\n",
       "      <td>1.00</td>\n",
       "      <td>7.074117</td>\n",
       "      <td>8.639588</td>\n",
       "      <td>1.0</td>\n",
       "      <td>0</td>\n",
       "      <td>0</td>\n",
       "      <td>3</td>\n",
       "      <td>7</td>\n",
       "      <td>0.0</td>\n",
       "      <td>0</td>\n",
       "      <td>98178</td>\n",
       "      <td>47.5112</td>\n",
       "      <td>-122.257</td>\n",
       "      <td>0</td>\n",
       "      <td>0</td>\n",
       "      <td>0</td>\n",
       "      <td>0</td>\n",
       "      <td>1</td>\n",
       "      <td>0</td>\n",
       "      <td>0</td>\n",
       "      <td>0</td>\n",
       "      <td>0</td>\n",
       "      <td>0</td>\n",
       "      <td>0</td>\n",
       "      <td>0</td>\n",
       "      <td>0</td>\n",
       "      <td>0</td>\n",
       "      <td>1955.0</td>\n",
       "    </tr>\n",
       "    <tr>\n",
       "      <th>1</th>\n",
       "      <td>20150225</td>\n",
       "      <td>12.100718</td>\n",
       "      <td>2</td>\n",
       "      <td>1.00</td>\n",
       "      <td>6.647688</td>\n",
       "      <td>9.210440</td>\n",
       "      <td>1.0</td>\n",
       "      <td>0</td>\n",
       "      <td>0</td>\n",
       "      <td>3</td>\n",
       "      <td>6</td>\n",
       "      <td>0.0</td>\n",
       "      <td>0</td>\n",
       "      <td>98028</td>\n",
       "      <td>47.7379</td>\n",
       "      <td>-122.233</td>\n",
       "      <td>0</td>\n",
       "      <td>0</td>\n",
       "      <td>0</td>\n",
       "      <td>0</td>\n",
       "      <td>0</td>\n",
       "      <td>0</td>\n",
       "      <td>0</td>\n",
       "      <td>0</td>\n",
       "      <td>1</td>\n",
       "      <td>0</td>\n",
       "      <td>0</td>\n",
       "      <td>0</td>\n",
       "      <td>0</td>\n",
       "      <td>0</td>\n",
       "      <td>1933.0</td>\n",
       "    </tr>\n",
       "    <tr>\n",
       "      <th>2</th>\n",
       "      <td>20150218</td>\n",
       "      <td>13.142168</td>\n",
       "      <td>3</td>\n",
       "      <td>2.00</td>\n",
       "      <td>7.427144</td>\n",
       "      <td>8.997271</td>\n",
       "      <td>1.0</td>\n",
       "      <td>0</td>\n",
       "      <td>0</td>\n",
       "      <td>3</td>\n",
       "      <td>8</td>\n",
       "      <td>0.0</td>\n",
       "      <td>0</td>\n",
       "      <td>98074</td>\n",
       "      <td>47.6168</td>\n",
       "      <td>-122.045</td>\n",
       "      <td>0</td>\n",
       "      <td>0</td>\n",
       "      <td>0</td>\n",
       "      <td>0</td>\n",
       "      <td>0</td>\n",
       "      <td>0</td>\n",
       "      <td>0</td>\n",
       "      <td>0</td>\n",
       "      <td>1</td>\n",
       "      <td>0</td>\n",
       "      <td>0</td>\n",
       "      <td>0</td>\n",
       "      <td>0</td>\n",
       "      <td>0</td>\n",
       "      <td>1987.0</td>\n",
       "    </tr>\n",
       "    <tr>\n",
       "      <th>3</th>\n",
       "      <td>20140627</td>\n",
       "      <td>12.458779</td>\n",
       "      <td>3</td>\n",
       "      <td>2.25</td>\n",
       "      <td>7.447751</td>\n",
       "      <td>8.827615</td>\n",
       "      <td>2.0</td>\n",
       "      <td>0</td>\n",
       "      <td>0</td>\n",
       "      <td>3</td>\n",
       "      <td>7</td>\n",
       "      <td>0.0</td>\n",
       "      <td>0</td>\n",
       "      <td>98003</td>\n",
       "      <td>47.3097</td>\n",
       "      <td>-122.327</td>\n",
       "      <td>1</td>\n",
       "      <td>0</td>\n",
       "      <td>0</td>\n",
       "      <td>0</td>\n",
       "      <td>0</td>\n",
       "      <td>0</td>\n",
       "      <td>0</td>\n",
       "      <td>0</td>\n",
       "      <td>0</td>\n",
       "      <td>0</td>\n",
       "      <td>0</td>\n",
       "      <td>0</td>\n",
       "      <td>0</td>\n",
       "      <td>0</td>\n",
       "      <td>1995.0</td>\n",
       "    </tr>\n",
       "    <tr>\n",
       "      <th>4</th>\n",
       "      <td>20150115</td>\n",
       "      <td>12.583999</td>\n",
       "      <td>3</td>\n",
       "      <td>1.50</td>\n",
       "      <td>6.966967</td>\n",
       "      <td>9.181118</td>\n",
       "      <td>1.0</td>\n",
       "      <td>0</td>\n",
       "      <td>0</td>\n",
       "      <td>3</td>\n",
       "      <td>7</td>\n",
       "      <td>0.0</td>\n",
       "      <td>0</td>\n",
       "      <td>98198</td>\n",
       "      <td>47.4095</td>\n",
       "      <td>-122.315</td>\n",
       "      <td>0</td>\n",
       "      <td>0</td>\n",
       "      <td>0</td>\n",
       "      <td>0</td>\n",
       "      <td>0</td>\n",
       "      <td>0</td>\n",
       "      <td>0</td>\n",
       "      <td>1</td>\n",
       "      <td>0</td>\n",
       "      <td>0</td>\n",
       "      <td>0</td>\n",
       "      <td>0</td>\n",
       "      <td>0</td>\n",
       "      <td>0</td>\n",
       "      <td>1963.0</td>\n",
       "    </tr>\n",
       "  </tbody>\n",
       "</table>\n",
       "</div>"
      ],
      "text/plain": [
       "       date      price  bedrooms  bathrooms  sqft_living  sqft_lot  floors  \\\n",
       "0  20141013  12.309987         3       1.00     7.074117  8.639588     1.0   \n",
       "1  20150225  12.100718         2       1.00     6.647688  9.210440     1.0   \n",
       "2  20150218  13.142168         3       2.00     7.427144  8.997271     1.0   \n",
       "3  20140627  12.458779         3       2.25     7.447751  8.827615     2.0   \n",
       "4  20150115  12.583999         3       1.50     6.966967  9.181118     1.0   \n",
       "\n",
       "   waterfront  view  condition  grade  sqft_basement  yr_renovated  zipcode  \\\n",
       "0           0     0          3      7            0.0             0    98178   \n",
       "1           0     0          3      6            0.0             0    98028   \n",
       "2           0     0          3      8            0.0             0    98074   \n",
       "3           0     0          3      7            0.0             0    98003   \n",
       "4           0     0          3      7            0.0             0    98198   \n",
       "\n",
       "       lat     long  yrmth_201406  yrmth_201407  yrmth_201408  yrmth_201409  \\\n",
       "0  47.5112 -122.257             0             0             0             0   \n",
       "1  47.7379 -122.233             0             0             0             0   \n",
       "2  47.6168 -122.045             0             0             0             0   \n",
       "3  47.3097 -122.327             1             0             0             0   \n",
       "4  47.4095 -122.315             0             0             0             0   \n",
       "\n",
       "   yrmth_201410  yrmth_201411  yrmth_201412  yrmth_201501  yrmth_201502  \\\n",
       "0             1             0             0             0             0   \n",
       "1             0             0             0             0             1   \n",
       "2             0             0             0             0             1   \n",
       "3             0             0             0             0             0   \n",
       "4             0             0             0             1             0   \n",
       "\n",
       "   yrmth_201503  yrmth_201504  yrmth_201505  basement_dummy  renovated_index  \\\n",
       "0             0             0             0               0                0   \n",
       "1             0             0             0               0                0   \n",
       "2             0             0             0               0                0   \n",
       "3             0             0             0               0                0   \n",
       "4             0             0             0               0                0   \n",
       "\n",
       "   yr_combine  \n",
       "0      1955.0  \n",
       "1      1933.0  \n",
       "2      1987.0  \n",
       "3      1995.0  \n",
       "4      1963.0  "
      ]
     },
     "execution_count": 174,
     "metadata": {},
     "output_type": "execute_result"
    }
   ],
   "source": [
    "pre_sqft_built_df.head()"
   ]
  },
  {
   "cell_type": "markdown",
   "metadata": {},
   "source": [
    "### `waterfront`\n",
    "- waterfront 는 집의 전방에 물이 흐르는지 유무에 관한 feature 입니다.\n",
    "- waterfront 에 따른 price 의 분포를 확인 해봄으로써, waterfront 의 중요도를 짐작해보겠습니다.\n",
    "    -  아래 그림을 살펴 보면, waterfront 에 따른 분포가 확연히 다른 것을 확인 할 수 있습니다. 이 feature 는 그대로 두어도 될것 같습니다."
   ]
  },
  {
   "cell_type": "code",
   "execution_count": 175,
   "metadata": {
    "scrolled": true
   },
   "outputs": [
    {
     "data": {
      "text/plain": [
       "array([0, 1])"
      ]
     },
     "execution_count": 175,
     "metadata": {},
     "output_type": "execute_result"
    }
   ],
   "source": [
    "pre_sqft_built_df['waterfront'].unique()"
   ]
  },
  {
   "cell_type": "code",
   "execution_count": 176,
   "metadata": {},
   "outputs": [
    {
     "data": {
      "image/png": "[encoded data removed]",
      "text/plain": [
       "<Figure size 432x288 with 1 Axes>"
      ]
     },
     "metadata": {
      "needs_background": "light"
     },
     "output_type": "display_data"
    }
   ],
   "source": [
    "plt.title(\"Distribution of Price hued by waterfront\")\n",
    "sns.kdeplot(pre_sqft_built_df[pre_sqft_built_df['waterfront']==1]['price'])\n",
    "sns.kdeplot(pre_sqft_built_df[pre_sqft_built_df['waterfront']==0]['price'])\n",
    "plt.legend(['waterfront: 1', 'waterfront: 0'])\n",
    "plt.show()"
   ]
  },
  {
   "cell_type": "markdown",
   "metadata": {},
   "source": [
    "## `'bedrooms', 'bathrooms', 'floors', 'view', 'condition', 'grade'`\n",
    "- 6개의 변수들을 살펴보겠습니다.\n",
    "- 아래 그림을 보면, floors 의 경우 floors 의 숫자가 증가함에 따라 price 의 증가가 선명하지 않습니다.\n",
    "    - 따라서 floors 를 category vaiable 로 주어, 각 case 에 대한 모델링을 따로 하는 것이 좋을 것 같습니다."
   ]
  },
  {
   "cell_type": "code",
   "execution_count": 177,
   "metadata": {},
   "outputs": [
    {
     "data": {
      "image/png": "[encoded data removed]",
      "text/plain": [
       "<Figure size 1440x1080 with 6 Axes>"
      ]
     },
     "metadata": {
      "needs_background": "light"
     },
     "output_type": "display_data"
    }
   ],
   "source": [
    "others = ['bedrooms', 'bathrooms', 'floors', 'view', 'condition', 'grade']\n",
    "plt.figure(figsize=(20, 15))\n",
    "for index, item in enumerate(others):\n",
    "    plt.subplot(321+index)\n",
    "    sns.boxplot(x=item, y='price', data=pre_sqft_built_df)"
   ]
  },
  {
   "cell_type": "code",
   "execution_count": 178,
   "metadata": {},
   "outputs": [],
   "source": [
    "pre_sqft_built_df = pd.get_dummies(pre_sqft_built_df, columns=['floors'], drop_first=True)\n",
    "df_test = pd.get_dummies(df_test, columns=['floors'], drop_first=True)"
   ]
  },
  {
   "cell_type": "code",
   "execution_count": 251,
   "metadata": {},
   "outputs": [],
   "source": [
    "y_label = pre_sqft_df['price']\n",
    "X_data = pre_sqft_df.drop('price', axis=1)\n",
    "X_train, X_test, y_train, y_test = train_test_split(X_data, y_label, test_size=0.2, random_state=20190319)"
   ]
  },
  {
   "cell_type": "code",
   "execution_count": 260,
   "metadata": {},
   "outputs": [],
   "source": [
    "def scoring(models, X_train, y_train, X_test, y_test):\n",
    "    exponential_test = np.expm1(y_test)\n",
    "    for model in models:\n",
    "        fitted = model.fit(X_train, y_train)\n",
    "        y_pred = fitted.predict(X_test)\n",
    "        rmsle = np.sqrt(mean_squared_error(y_test, y_pred))\n",
    "        y_pred = np.expm1(y_pred)\n",
    "        rmse = np.sqrt(mean_squared_error(exponential_test, y_pred))\n",
    "        print(\"{}, rmsle: {}\".format(model.__class__.__name__, rmsle))\n",
    "        print(\"{}, rmse: {}\".format(model.__class__.__name__, rmse))"
   ]
  },
  {
   "cell_type": "code",
   "execution_count": 261,
   "metadata": {},
   "outputs": [
    {
     "name": "stdout",
     "output_type": "stream",
     "text": [
      "LinearRegression, rmsle: 0.2544227801090251\n",
      "LinearRegression, rmse: 191479.38950250513\n",
      "Ridge, rmsle: 0.25448995919437656\n",
      "Ridge, rmse: 191602.04912273196\n",
      "Lasso, rmsle: 0.5218942152071568\n",
      "Lasso, rmse: 401679.65988760744\n",
      "ElasticNet, rmsle: 0.5209829040562096\n",
      "ElasticNet, rmse: 401338.685232563\n",
      "XGBRegressor, rmsle: 0.18438147539048225\n",
      "XGBRegressor, rmse: 169937.8729369069\n",
      "LGBMRegressor, rmsle: 0.16424871077323672\n",
      "LGBMRegressor, rmse: 147321.89755162294\n"
     ]
    }
   ],
   "source": [
    "lr = LinearRegression()\n",
    "rd = Ridge()\n",
    "ls = Lasso()\n",
    "el = ElasticNet()\n",
    "xgb = XGBRegressor()\n",
    "lgbm = LGBMRegressor()\n",
    "\n",
    "models = [lr, rd, ls, el, xgb, lgbm]\n",
    "scoring(models, X_train, y_train, X_test, y_test)"
   ]
  },
  {
   "cell_type": "code",
   "execution_count": 265,
   "metadata": {
    "scrolled": false
   },
   "outputs": [
    {
     "name": "stdout",
     "output_type": "stream",
     "text": [
      "Fitting 5 folds for each of 1296 candidates, totalling 6480 fits\n"
     ]
    },
    {
     "name": "stderr",
     "output_type": "stream",
     "text": [
      "[Parallel(n_jobs=5)]: Using backend LokyBackend with 5 concurrent workers.\n",
      "[Parallel(n_jobs=5)]: Done   8 tasks      | elapsed:    1.2s\n",
      "[Parallel(n_jobs=5)]: Done  62 tasks      | elapsed:    4.1s\n",
      "[Parallel(n_jobs=5)]: Done 152 tasks      | elapsed:   14.7s\n",
      "[Parallel(n_jobs=5)]: Done 278 tasks      | elapsed:   28.5s\n",
      "[Parallel(n_jobs=5)]: Done 440 tasks      | elapsed:   44.8s\n",
      "[Parallel(n_jobs=5)]: Done 638 tasks      | elapsed:  1.7min\n",
      "[Parallel(n_jobs=5)]: Done 872 tasks      | elapsed:  2.8min\n",
      "[Parallel(n_jobs=5)]: Done 1142 tasks      | elapsed:  3.3min\n",
      "[Parallel(n_jobs=5)]: Done 1448 tasks      | elapsed:  4.5min\n",
      "[Parallel(n_jobs=5)]: Done 1790 tasks      | elapsed:  5.8min\n",
      "[Parallel(n_jobs=5)]: Done 2168 tasks      | elapsed:  6.9min\n",
      "[Parallel(n_jobs=5)]: Done 2582 tasks      | elapsed:  8.4min\n",
      "[Parallel(n_jobs=5)]: Done 3032 tasks      | elapsed:  9.6min\n",
      "[Parallel(n_jobs=5)]: Done 3518 tasks      | elapsed: 11.3min\n",
      "[Parallel(n_jobs=5)]: Done 4040 tasks      | elapsed: 13.7min\n",
      "[Parallel(n_jobs=5)]: Done 4598 tasks      | elapsed: 15.3min\n",
      "[Parallel(n_jobs=5)]: Done 5192 tasks      | elapsed: 17.5min\n",
      "[Parallel(n_jobs=5)]: Done 5822 tasks      | elapsed: 20.2min\n",
      "[Parallel(n_jobs=5)]: Done 6480 out of 6480 | elapsed: 22.8min finished\n"
     ]
    },
    {
     "name": "stdout",
     "output_type": "stream",
     "text": [
      "-0.025731015934073117\n",
      "{'colsample_bytree': 0.5, 'learning_rate': 0.03, 'max_depth': 7, 'min_child_weight': 0.001, 'n_estimators': 1000, 'num_leaves': 30, 'subsample': 0.5}\n"
     ]
    }
   ],
   "source": [
    "from lightgbm import LGBMRegressor\n",
    "\n",
    "lgbm = LGBMRegressor()\n",
    "\n",
    "parameters = {\n",
    "    'max_depth': [3, 7],\n",
    "    'n_estimators': [100, 500, 1000],\n",
    "    'learning_rate': [0.03, 0.05, 0.07, 0.1],\n",
    "    'colsample_bytree': [0.5, 0.7],\n",
    "    'subsample': [0.5, 0.7, 0.8],\n",
    "    'min_child_weight': [0.001, 0.1, 1],\n",
    "    'num_leaves': [20, 30, 40]\n",
    "    \n",
    "}\n",
    "lgbm_grid = GridSearchCV(lgbm, parameters, scoring='neg_mean_squared_error', cv=5, n_jobs=5, verbose=5)\n",
    "lgbm_grid.fit(X_train, y_train)\n",
    "\n",
    "print(lgbm_grid.best_score_)\n",
    "print(lgbm_grid.best_params_)"
   ]
  },
  {
   "cell_type": "code",
   "execution_count": 268,
   "metadata": {},
   "outputs": [
    {
     "name": "stdout",
     "output_type": "stream",
     "text": [
      "XGBRegressor, rmsle: 0.15942287754164197\n",
      "XGBRegressor, rmse: 142300.1961776262\n",
      "LGBMRegressor, rmsle: 0.15815220206966565\n",
      "LGBMRegressor, rmse: 142120.19559094598\n"
     ]
    }
   ],
   "source": [
    "xgb = XGBRegressor(colsample_bytree=0.5, learning_rate=0.03, max_depth=7, min_child_weight=0.001, n_estimators=1000,\\\n",
    "                  num_leaves=30, subsample=0.5)\n",
    "lgbm = LGBMRegressor(colsample_bytree=0.5, learning_rate=0.03, max_depth=7, min_child_weight=0.001, n_estimators=1000,\\\n",
    "                  num_leaves=30, subsample=0.5)\n",
    "models = [xgb, lgbm]\n",
    "scoring(models, X_train, y_train, X_test, y_test)"
   ]
  },
  {
   "cell_type": "code",
   "execution_count": 87,
   "metadata": {
    "scrolled": true
   },
   "outputs": [
    {
     "name": "stdout",
     "output_type": "stream",
     "text": [
      "Fitting 5 folds for each of 192 candidates, totalling 960 fits\n"
     ]
    },
    {
     "name": "stderr",
     "output_type": "stream",
     "text": [
      "[Parallel(n_jobs=5)]: Using backend LokyBackend with 5 concurrent workers.\n",
      "[Parallel(n_jobs=5)]: Done  40 tasks      | elapsed:   56.2s\n",
      "[Parallel(n_jobs=5)]: Done 190 tasks      | elapsed:  6.3min\n",
      "[Parallel(n_jobs=5)]: Done 440 tasks      | elapsed: 16.1min\n",
      "[Parallel(n_jobs=5)]: Done 790 tasks      | elapsed: 31.2min\n",
      "[Parallel(n_jobs=5)]: Done 960 out of 960 | elapsed: 39.9min finished\n"
     ]
    },
    {
     "name": "stdout",
     "output_type": "stream",
     "text": [
      "0.9082011762931045\n",
      "{'colsample_bytree': 0.5, 'learning_rate': 0.03, 'max_depth': 7, 'min_child_weight': 1, 'n_estimators': 1000, 'subsample': 0.7}\n"
     ]
    }
   ],
   "source": [
    "from sklearn.model_selection import GridSearchCV\n",
    "from xgboost import XGBRegressor\n",
    "\n",
    "xgb = XGBRegressor()\n",
    "\n",
    "parameters = {\n",
    "    'max_depth': [3, 7],\n",
    "    'n_estimators': [500, 1000],\n",
    "    'learning_rate': [0.03, 0.05, 0.07, 0.1],\n",
    "    'colsample_bytree': [0.5, 0.7],\n",
    "    'subsample': [0.5, 0.7, 0.8],\n",
    "    'min_child_weight': [1, 5]\n",
    "    \n",
    "}\n",
    "xgb_grid = GridSearchCV(xgb, parameters, cv=5, n_jobs=5, verbose=5)\n",
    "xgb_grid.fit(X_train, y_train)\n",
    "\n",
    "print(xgb_grid.best_score_)\n",
    "print(xgb_grid.best_params_)"
   ]
  },
  {
   "cell_type": "code",
   "execution_count": 108,
   "metadata": {
    "scrolled": false
   },
   "outputs": [
    {
     "data": {
      "text/plain": [
       "XGBRegressor(base_score=0.5, booster='gbtree', colsample_bylevel=1,\n",
       "       colsample_bytree=0.5, gamma=0, learning_rate=0.03, max_delta_step=0,\n",
       "       max_depth=7, min_child_weight=1, missing=None, n_estimators=1000,\n",
       "       n_jobs=1, nthread=None, objective='reg:linear', random_state=0,\n",
       "       reg_alpha=0, reg_lambda=1, scale_pos_weight=1, seed=None,\n",
       "       silent=True, subsample=0.7)"
      ]
     },
     "execution_count": 108,
     "metadata": {},
     "output_type": "execute_result"
    }
   ],
   "source": [
    "xgb = XGBRegressor(colsample_bytree=0.5, learning_rate=0.03, max_depth=7, min_child_weight=1, \\\n",
    "                   n_estimators=1000, subsample=0.7)\n",
    "xgb.fit(X_data, y_label)"
   ]
  },
  {
   "cell_type": "code",
   "execution_count": 180,
   "metadata": {
    "scrolled": true
   },
   "outputs": [
    {
     "data": {
      "text/plain": [
       "XGBRegressor(base_score=0.5, booster='gbtree', colsample_bylevel=1,\n",
       "       colsample_bytree=0.7, gamma=0, learning_rate=0.07, max_delta_step=0,\n",
       "       max_depth=3, min_child_weight=1, missing=None, n_estimators=1000,\n",
       "       n_jobs=1, nthread=None, objective='reg:linear', random_state=0,\n",
       "       reg_alpha=0, reg_lambda=1, scale_pos_weight=1, seed=None,\n",
       "       silent=True, subsample=0.8)"
      ]
     },
     "execution_count": 180,
     "metadata": {},
     "output_type": "execute_result"
    }
   ],
   "source": [
    "xgb_reg = XGBRegressor(n_estimators=1000, learning_rate=0.07, colsample_bytree=0.7, subsample=0.8)\n",
    "xgb_reg.fit(X_data, y_label)"
   ]
  },
  {
   "cell_type": "code",
   "execution_count": 181,
   "metadata": {},
   "outputs": [
    {
     "data": {
      "text/html": [
       "<div>\n",
       "<style scoped>\n",
       "    .dataframe tbody tr th:only-of-type {\n",
       "        vertical-align: middle;\n",
       "    }\n",
       "\n",
       "    .dataframe tbody tr th {\n",
       "        vertical-align: top;\n",
       "    }\n",
       "\n",
       "    .dataframe thead th {\n",
       "        text-align: right;\n",
       "    }\n",
       "</style>\n",
       "<table border=\"1\" class=\"dataframe\">\n",
       "  <thead>\n",
       "    <tr style=\"text-align: right;\">\n",
       "      <th></th>\n",
       "      <th>id</th>\n",
       "      <th>price</th>\n",
       "    </tr>\n",
       "  </thead>\n",
       "  <tbody>\n",
       "    <tr>\n",
       "      <th>0</th>\n",
       "      <td>15035</td>\n",
       "      <td>5.547912e+05</td>\n",
       "    </tr>\n",
       "    <tr>\n",
       "      <th>1</th>\n",
       "      <td>15036</td>\n",
       "      <td>4.536362e+05</td>\n",
       "    </tr>\n",
       "    <tr>\n",
       "      <th>2</th>\n",
       "      <td>15037</td>\n",
       "      <td>1.439972e+06</td>\n",
       "    </tr>\n",
       "    <tr>\n",
       "      <th>3</th>\n",
       "      <td>15038</td>\n",
       "      <td>3.211153e+05</td>\n",
       "    </tr>\n",
       "    <tr>\n",
       "      <th>4</th>\n",
       "      <td>15039</td>\n",
       "      <td>3.203030e+05</td>\n",
       "    </tr>\n",
       "  </tbody>\n",
       "</table>\n",
       "</div>"
      ],
      "text/plain": [
       "      id         price\n",
       "0  15035  5.547912e+05\n",
       "1  15036  4.536362e+05\n",
       "2  15037  1.439972e+06\n",
       "3  15038  3.211153e+05\n",
       "4  15039  3.203030e+05"
      ]
     },
     "execution_count": 181,
     "metadata": {},
     "output_type": "execute_result"
    }
   ],
   "source": [
    "#\n",
    "xgb_predict = xgb_reg.predict(df_test)\n",
    "xgb_predict = np.expm1(xgb_predict)\n",
    "\n",
    "submission = pd.DataFrame({'id': test_id,\n",
    "                          'price': xgb_predict})\n",
    "submission.head()"
   ]
  },
  {
   "cell_type": "code",
   "execution_count": 94,
   "metadata": {},
   "outputs": [
    {
     "name": "stdout",
     "output_type": "stream",
     "text": [
      "rmsle 0.15827099782440657\n",
      "rmse 141689.620449872\n"
     ]
    }
   ],
   "source": [
    "# y_pred = xgb.predict(X_test)\n",
    "\n",
    "# rmsle = np.sqrt(mean_squared_error(y_test, y_pred))\n",
    "\n",
    "# y_pred = np.expm1(y_pred)\n",
    "# y_test = np.expm1(y_test)\n",
    "\n",
    "# rmse = np.sqrt(mean_squared_error(y_test, y_pred))\n",
    "# print(\"rmsle\", rmsle)\n",
    "# print(\"rmse\", rmse)"
   ]
  },
  {
   "cell_type": "code",
   "execution_count": 121,
   "metadata": {
    "scrolled": true
   },
   "outputs": [
    {
     "data": {
      "text/plain": [
       "LGBMRegressor(boosting_type='gbdt', class_weight=None, colsample_bytree=0.5,\n",
       "       importance_type='split', learning_rate=0.03, max_depth=7,\n",
       "       min_child_samples=20, min_child_weight=0.001, min_split_gain=0.0,\n",
       "       n_estimators=1000, n_jobs=-1, num_leaves=40, objective=None,\n",
       "       random_state=None, reg_alpha=0.0, reg_lambda=0.0, silent=True,\n",
       "       subsample=0.5, subsample_for_bin=200000, subsample_freq=0)"
      ]
     },
     "execution_count": 121,
     "metadata": {},
     "output_type": "execute_result"
    }
   ],
   "source": [
    "lgbm = LGBMRegressor(colsample_bytree=0.5, learning_rate=0.03, max_depth=7, min_child_weight=0.001, n_estimators=1000, num_leaves=40, subsample=0.5)\n",
    "\n",
    "lgbm.fit(X_data, y_label)"
   ]
  },
  {
   "cell_type": "code",
   "execution_count": 122,
   "metadata": {},
   "outputs": [
    {
     "data": {
      "text/html": [
       "<div>\n",
       "<style scoped>\n",
       "    .dataframe tbody tr th:only-of-type {\n",
       "        vertical-align: middle;\n",
       "    }\n",
       "\n",
       "    .dataframe tbody tr th {\n",
       "        vertical-align: top;\n",
       "    }\n",
       "\n",
       "    .dataframe thead th {\n",
       "        text-align: right;\n",
       "    }\n",
       "</style>\n",
       "<table border=\"1\" class=\"dataframe\">\n",
       "  <thead>\n",
       "    <tr style=\"text-align: right;\">\n",
       "      <th></th>\n",
       "      <th>id</th>\n",
       "      <th>price</th>\n",
       "    </tr>\n",
       "  </thead>\n",
       "  <tbody>\n",
       "    <tr>\n",
       "      <th>0</th>\n",
       "      <td>15035</td>\n",
       "      <td>5.302817e+05</td>\n",
       "    </tr>\n",
       "    <tr>\n",
       "      <th>1</th>\n",
       "      <td>15036</td>\n",
       "      <td>4.753959e+05</td>\n",
       "    </tr>\n",
       "    <tr>\n",
       "      <th>2</th>\n",
       "      <td>15037</td>\n",
       "      <td>1.483366e+06</td>\n",
       "    </tr>\n",
       "    <tr>\n",
       "      <th>3</th>\n",
       "      <td>15038</td>\n",
       "      <td>3.089319e+05</td>\n",
       "    </tr>\n",
       "    <tr>\n",
       "      <th>4</th>\n",
       "      <td>15039</td>\n",
       "      <td>3.261365e+05</td>\n",
       "    </tr>\n",
       "  </tbody>\n",
       "</table>\n",
       "</div>"
      ],
      "text/plain": [
       "      id         price\n",
       "0  15035  5.302817e+05\n",
       "1  15036  4.753959e+05\n",
       "2  15037  1.483366e+06\n",
       "3  15038  3.089319e+05\n",
       "4  15039  3.261365e+05"
      ]
     },
     "execution_count": 122,
     "metadata": {},
     "output_type": "execute_result"
    }
   ],
   "source": [
    "#\n",
    "lgbm_predict = lgbm.predict(df_test)\n",
    "lgbm_predict = np.expm1(lgbm_predict)\n",
    "\n",
    "submission = pd.DataFrame({'id': test_id,\n",
    "                          'price': lgbm_predict})\n",
    "submission.head()"
   ]
  },
  {
   "cell_type": "code",
   "execution_count": null,
   "metadata": {},
   "outputs": [],
   "source": []
  },
  {
   "cell_type": "code",
   "execution_count": 109,
   "metadata": {},
   "outputs": [
    {
     "data": {
      "text/html": [
       "<div>\n",
       "<style scoped>\n",
       "    .dataframe tbody tr th:only-of-type {\n",
       "        vertical-align: middle;\n",
       "    }\n",
       "\n",
       "    .dataframe tbody tr th {\n",
       "        vertical-align: top;\n",
       "    }\n",
       "\n",
       "    .dataframe thead th {\n",
       "        text-align: right;\n",
       "    }\n",
       "</style>\n",
       "<table border=\"1\" class=\"dataframe\">\n",
       "  <thead>\n",
       "    <tr style=\"text-align: right;\">\n",
       "      <th></th>\n",
       "      <th>id</th>\n",
       "      <th>price</th>\n",
       "    </tr>\n",
       "  </thead>\n",
       "  <tbody>\n",
       "    <tr>\n",
       "      <th>0</th>\n",
       "      <td>15035</td>\n",
       "      <td>5.279218e+05</td>\n",
       "    </tr>\n",
       "    <tr>\n",
       "      <th>1</th>\n",
       "      <td>15036</td>\n",
       "      <td>4.556789e+05</td>\n",
       "    </tr>\n",
       "    <tr>\n",
       "      <th>2</th>\n",
       "      <td>15037</td>\n",
       "      <td>1.470348e+06</td>\n",
       "    </tr>\n",
       "    <tr>\n",
       "      <th>3</th>\n",
       "      <td>15038</td>\n",
       "      <td>3.204014e+05</td>\n",
       "    </tr>\n",
       "    <tr>\n",
       "      <th>4</th>\n",
       "      <td>15039</td>\n",
       "      <td>3.256097e+05</td>\n",
       "    </tr>\n",
       "  </tbody>\n",
       "</table>\n",
       "</div>"
      ],
      "text/plain": [
       "      id         price\n",
       "0  15035  5.279218e+05\n",
       "1  15036  4.556789e+05\n",
       "2  15037  1.470348e+06\n",
       "3  15038  3.204014e+05\n",
       "4  15039  3.256097e+05"
      ]
     },
     "execution_count": 109,
     "metadata": {},
     "output_type": "execute_result"
    }
   ],
   "source": [
    "#\n",
    "xgb_predict = xgb.predict(df_test)\n",
    "xgb_predict = np.expm1(xgb_predict)\n",
    "\n",
    "submission = pd.DataFrame({'id': test_id,\n",
    "                          'price': xgb_predict})\n",
    "submission.head()"
   ]
  },
  {
   "cell_type": "code",
   "execution_count": 182,
   "metadata": {},
   "outputs": [],
   "source": [
    "submission.to_csv('./submission.csv', index=False)"
   ]
  },
  {
   "cell_type": "code",
   "execution_count": null,
   "metadata": {},
   "outputs": [],
   "source": []
  },
  {
   "cell_type": "code",
   "execution_count": null,
   "metadata": {},
   "outputs": [],
   "source": []
  },
  {
   "cell_type": "code",
   "execution_count": 31,
   "metadata": {},
   "outputs": [
    {
     "ename": "KeyboardInterrupt",
     "evalue": "",
     "output_type": "error",
     "traceback": [
      "\u001b[0;31m---------------------------------------------------------------------------\u001b[0m",
      "\u001b[0;31mKeyboardInterrupt\u001b[0m                         Traceback (most recent call last)",
      "\u001b[0;32m<ipython-input-31-baaad4f38ab9>\u001b[0m in \u001b[0;36m<module>\u001b[0;34m\u001b[0m\n\u001b[1;32m     27\u001b[0m \u001b[0mlgbm_grid\u001b[0m \u001b[0;34m=\u001b[0m \u001b[0mGridSearchCV\u001b[0m\u001b[0;34m(\u001b[0m\u001b[0mlgbm\u001b[0m\u001b[0;34m,\u001b[0m \u001b[0mparameters_lgbm\u001b[0m\u001b[0;34m,\u001b[0m \u001b[0mcv\u001b[0m\u001b[0;34m=\u001b[0m\u001b[0;36m5\u001b[0m\u001b[0;34m,\u001b[0m \u001b[0mn_jobs\u001b[0m\u001b[0;34m=\u001b[0m\u001b[0;36m5\u001b[0m\u001b[0;34m)\u001b[0m\u001b[0;34m\u001b[0m\u001b[0m\n\u001b[1;32m     28\u001b[0m \u001b[0;34m\u001b[0m\u001b[0m\n\u001b[0;32m---> 29\u001b[0;31m \u001b[0mxgb_grid\u001b[0m\u001b[0;34m.\u001b[0m\u001b[0mfit\u001b[0m\u001b[0;34m(\u001b[0m\u001b[0mX_train\u001b[0m\u001b[0;34m,\u001b[0m \u001b[0my_train\u001b[0m\u001b[0;34m)\u001b[0m\u001b[0;34m\u001b[0m\u001b[0m\n\u001b[0m\u001b[1;32m     30\u001b[0m \u001b[0mlgbm_grid\u001b[0m\u001b[0;34m.\u001b[0m\u001b[0mfit\u001b[0m\u001b[0;34m(\u001b[0m\u001b[0mX_train\u001b[0m\u001b[0;34m,\u001b[0m \u001b[0my_train\u001b[0m\u001b[0;34m)\u001b[0m\u001b[0;34m\u001b[0m\u001b[0m\n\u001b[1;32m     31\u001b[0m \u001b[0;34m\u001b[0m\u001b[0m\n",
      "\u001b[0;32m~/.pyenv/versions/3.7.0/envs/dss/lib/python3.7/site-packages/sklearn/model_selection/_search.py\u001b[0m in \u001b[0;36mfit\u001b[0;34m(self, X, y, groups, **fit_params)\u001b[0m\n\u001b[1;32m    720\u001b[0m                 \u001b[0;32mreturn\u001b[0m \u001b[0mresults_container\u001b[0m\u001b[0;34m[\u001b[0m\u001b[0;36m0\u001b[0m\u001b[0;34m]\u001b[0m\u001b[0;34m\u001b[0m\u001b[0m\n\u001b[1;32m    721\u001b[0m \u001b[0;34m\u001b[0m\u001b[0m\n\u001b[0;32m--> 722\u001b[0;31m             \u001b[0mself\u001b[0m\u001b[0;34m.\u001b[0m\u001b[0m_run_search\u001b[0m\u001b[0;34m(\u001b[0m\u001b[0mevaluate_candidates\u001b[0m\u001b[0;34m)\u001b[0m\u001b[0;34m\u001b[0m\u001b[0m\n\u001b[0m\u001b[1;32m    723\u001b[0m \u001b[0;34m\u001b[0m\u001b[0m\n\u001b[1;32m    724\u001b[0m         \u001b[0mresults\u001b[0m \u001b[0;34m=\u001b[0m \u001b[0mresults_container\u001b[0m\u001b[0;34m[\u001b[0m\u001b[0;36m0\u001b[0m\u001b[0;34m]\u001b[0m\u001b[0;34m\u001b[0m\u001b[0m\n",
      "\u001b[0;32m~/.pyenv/versions/3.7.0/envs/dss/lib/python3.7/site-packages/sklearn/model_selection/_search.py\u001b[0m in \u001b[0;36m_run_search\u001b[0;34m(self, evaluate_candidates)\u001b[0m\n\u001b[1;32m   1189\u001b[0m     \u001b[0;32mdef\u001b[0m \u001b[0m_run_search\u001b[0m\u001b[0;34m(\u001b[0m\u001b[0mself\u001b[0m\u001b[0;34m,\u001b[0m \u001b[0mevaluate_candidates\u001b[0m\u001b[0;34m)\u001b[0m\u001b[0;34m:\u001b[0m\u001b[0;34m\u001b[0m\u001b[0m\n\u001b[1;32m   1190\u001b[0m         \u001b[0;34m\"\"\"Search all candidates in param_grid\"\"\"\u001b[0m\u001b[0;34m\u001b[0m\u001b[0m\n\u001b[0;32m-> 1191\u001b[0;31m         \u001b[0mevaluate_candidates\u001b[0m\u001b[0;34m(\u001b[0m\u001b[0mParameterGrid\u001b[0m\u001b[0;34m(\u001b[0m\u001b[0mself\u001b[0m\u001b[0;34m.\u001b[0m\u001b[0mparam_grid\u001b[0m\u001b[0;34m)\u001b[0m\u001b[0;34m)\u001b[0m\u001b[0;34m\u001b[0m\u001b[0m\n\u001b[0m\u001b[1;32m   1192\u001b[0m \u001b[0;34m\u001b[0m\u001b[0m\n\u001b[1;32m   1193\u001b[0m \u001b[0;34m\u001b[0m\u001b[0m\n",
      "\u001b[0;32m~/.pyenv/versions/3.7.0/envs/dss/lib/python3.7/site-packages/sklearn/model_selection/_search.py\u001b[0m in \u001b[0;36mevaluate_candidates\u001b[0;34m(candidate_params)\u001b[0m\n\u001b[1;32m    709\u001b[0m                                \u001b[0;32mfor\u001b[0m \u001b[0mparameters\u001b[0m\u001b[0;34m,\u001b[0m \u001b[0;34m(\u001b[0m\u001b[0mtrain\u001b[0m\u001b[0;34m,\u001b[0m \u001b[0mtest\u001b[0m\u001b[0;34m)\u001b[0m\u001b[0;34m\u001b[0m\u001b[0m\n\u001b[1;32m    710\u001b[0m                                in product(candidate_params,\n\u001b[0;32m--> 711\u001b[0;31m                                           cv.split(X, y, groups)))\n\u001b[0m\u001b[1;32m    712\u001b[0m \u001b[0;34m\u001b[0m\u001b[0m\n\u001b[1;32m    713\u001b[0m                 \u001b[0mall_candidate_params\u001b[0m\u001b[0;34m.\u001b[0m\u001b[0mextend\u001b[0m\u001b[0;34m(\u001b[0m\u001b[0mcandidate_params\u001b[0m\u001b[0;34m)\u001b[0m\u001b[0;34m\u001b[0m\u001b[0m\n",
      "\u001b[0;32m~/.pyenv/versions/3.7.0/envs/dss/lib/python3.7/site-packages/sklearn/externals/joblib/parallel.py\u001b[0m in \u001b[0;36m__call__\u001b[0;34m(self, iterable)\u001b[0m\n\u001b[1;32m    994\u001b[0m \u001b[0;34m\u001b[0m\u001b[0m\n\u001b[1;32m    995\u001b[0m             \u001b[0;32mwith\u001b[0m \u001b[0mself\u001b[0m\u001b[0;34m.\u001b[0m\u001b[0m_backend\u001b[0m\u001b[0;34m.\u001b[0m\u001b[0mretrieval_context\u001b[0m\u001b[0;34m(\u001b[0m\u001b[0;34m)\u001b[0m\u001b[0;34m:\u001b[0m\u001b[0;34m\u001b[0m\u001b[0m\n\u001b[0;32m--> 996\u001b[0;31m                 \u001b[0mself\u001b[0m\u001b[0;34m.\u001b[0m\u001b[0mretrieve\u001b[0m\u001b[0;34m(\u001b[0m\u001b[0;34m)\u001b[0m\u001b[0;34m\u001b[0m\u001b[0m\n\u001b[0m\u001b[1;32m    997\u001b[0m             \u001b[0;31m# Make sure that we get a last message telling us we are done\u001b[0m\u001b[0;34m\u001b[0m\u001b[0;34m\u001b[0m\u001b[0m\n\u001b[1;32m    998\u001b[0m             \u001b[0melapsed_time\u001b[0m \u001b[0;34m=\u001b[0m \u001b[0mtime\u001b[0m\u001b[0;34m.\u001b[0m\u001b[0mtime\u001b[0m\u001b[0;34m(\u001b[0m\u001b[0;34m)\u001b[0m \u001b[0;34m-\u001b[0m \u001b[0mself\u001b[0m\u001b[0;34m.\u001b[0m\u001b[0m_start_time\u001b[0m\u001b[0;34m\u001b[0m\u001b[0m\n",
      "\u001b[0;32m~/.pyenv/versions/3.7.0/envs/dss/lib/python3.7/site-packages/sklearn/externals/joblib/parallel.py\u001b[0m in \u001b[0;36mretrieve\u001b[0;34m(self)\u001b[0m\n\u001b[1;32m    897\u001b[0m             \u001b[0;32mtry\u001b[0m\u001b[0;34m:\u001b[0m\u001b[0;34m\u001b[0m\u001b[0m\n\u001b[1;32m    898\u001b[0m                 \u001b[0;32mif\u001b[0m \u001b[0mgetattr\u001b[0m\u001b[0;34m(\u001b[0m\u001b[0mself\u001b[0m\u001b[0;34m.\u001b[0m\u001b[0m_backend\u001b[0m\u001b[0;34m,\u001b[0m \u001b[0;34m'supports_timeout'\u001b[0m\u001b[0;34m,\u001b[0m \u001b[0;32mFalse\u001b[0m\u001b[0;34m)\u001b[0m\u001b[0;34m:\u001b[0m\u001b[0;34m\u001b[0m\u001b[0m\n\u001b[0;32m--> 899\u001b[0;31m                     \u001b[0mself\u001b[0m\u001b[0;34m.\u001b[0m\u001b[0m_output\u001b[0m\u001b[0;34m.\u001b[0m\u001b[0mextend\u001b[0m\u001b[0;34m(\u001b[0m\u001b[0mjob\u001b[0m\u001b[0;34m.\u001b[0m\u001b[0mget\u001b[0m\u001b[0;34m(\u001b[0m\u001b[0mtimeout\u001b[0m\u001b[0;34m=\u001b[0m\u001b[0mself\u001b[0m\u001b[0;34m.\u001b[0m\u001b[0mtimeout\u001b[0m\u001b[0;34m)\u001b[0m\u001b[0;34m)\u001b[0m\u001b[0;34m\u001b[0m\u001b[0m\n\u001b[0m\u001b[1;32m    900\u001b[0m                 \u001b[0;32melse\u001b[0m\u001b[0;34m:\u001b[0m\u001b[0;34m\u001b[0m\u001b[0m\n\u001b[1;32m    901\u001b[0m                     \u001b[0mself\u001b[0m\u001b[0;34m.\u001b[0m\u001b[0m_output\u001b[0m\u001b[0;34m.\u001b[0m\u001b[0mextend\u001b[0m\u001b[0;34m(\u001b[0m\u001b[0mjob\u001b[0m\u001b[0;34m.\u001b[0m\u001b[0mget\u001b[0m\u001b[0;34m(\u001b[0m\u001b[0;34m)\u001b[0m\u001b[0;34m)\u001b[0m\u001b[0;34m\u001b[0m\u001b[0m\n",
      "\u001b[0;32m~/.pyenv/versions/3.7.0/envs/dss/lib/python3.7/site-packages/sklearn/externals/joblib/_parallel_backends.py\u001b[0m in \u001b[0;36mwrap_future_result\u001b[0;34m(future, timeout)\u001b[0m\n\u001b[1;32m    515\u001b[0m         AsyncResults.get from multiprocessing.\"\"\"\n\u001b[1;32m    516\u001b[0m         \u001b[0;32mtry\u001b[0m\u001b[0;34m:\u001b[0m\u001b[0;34m\u001b[0m\u001b[0m\n\u001b[0;32m--> 517\u001b[0;31m             \u001b[0;32mreturn\u001b[0m \u001b[0mfuture\u001b[0m\u001b[0;34m.\u001b[0m\u001b[0mresult\u001b[0m\u001b[0;34m(\u001b[0m\u001b[0mtimeout\u001b[0m\u001b[0;34m=\u001b[0m\u001b[0mtimeout\u001b[0m\u001b[0;34m)\u001b[0m\u001b[0;34m\u001b[0m\u001b[0m\n\u001b[0m\u001b[1;32m    518\u001b[0m         \u001b[0;32mexcept\u001b[0m \u001b[0mLokyTimeoutError\u001b[0m\u001b[0;34m:\u001b[0m\u001b[0;34m\u001b[0m\u001b[0m\n\u001b[1;32m    519\u001b[0m             \u001b[0;32mraise\u001b[0m \u001b[0mTimeoutError\u001b[0m\u001b[0;34m(\u001b[0m\u001b[0;34m)\u001b[0m\u001b[0;34m\u001b[0m\u001b[0m\n",
      "\u001b[0;32m~/.pyenv/versions/3.7.0/lib/python3.7/concurrent/futures/_base.py\u001b[0m in \u001b[0;36mresult\u001b[0;34m(self, timeout)\u001b[0m\n\u001b[1;32m    425\u001b[0m                 \u001b[0;32mreturn\u001b[0m \u001b[0mself\u001b[0m\u001b[0;34m.\u001b[0m\u001b[0m__get_result\u001b[0m\u001b[0;34m(\u001b[0m\u001b[0;34m)\u001b[0m\u001b[0;34m\u001b[0m\u001b[0m\n\u001b[1;32m    426\u001b[0m \u001b[0;34m\u001b[0m\u001b[0m\n\u001b[0;32m--> 427\u001b[0;31m             \u001b[0mself\u001b[0m\u001b[0;34m.\u001b[0m\u001b[0m_condition\u001b[0m\u001b[0;34m.\u001b[0m\u001b[0mwait\u001b[0m\u001b[0;34m(\u001b[0m\u001b[0mtimeout\u001b[0m\u001b[0;34m)\u001b[0m\u001b[0;34m\u001b[0m\u001b[0m\n\u001b[0m\u001b[1;32m    428\u001b[0m \u001b[0;34m\u001b[0m\u001b[0m\n\u001b[1;32m    429\u001b[0m             \u001b[0;32mif\u001b[0m \u001b[0mself\u001b[0m\u001b[0;34m.\u001b[0m\u001b[0m_state\u001b[0m \u001b[0;32min\u001b[0m \u001b[0;34m[\u001b[0m\u001b[0mCANCELLED\u001b[0m\u001b[0;34m,\u001b[0m \u001b[0mCANCELLED_AND_NOTIFIED\u001b[0m\u001b[0;34m]\u001b[0m\u001b[0;34m:\u001b[0m\u001b[0;34m\u001b[0m\u001b[0m\n",
      "\u001b[0;32m~/.pyenv/versions/3.7.0/lib/python3.7/threading.py\u001b[0m in \u001b[0;36mwait\u001b[0;34m(self, timeout)\u001b[0m\n\u001b[1;32m    294\u001b[0m         \u001b[0;32mtry\u001b[0m\u001b[0;34m:\u001b[0m    \u001b[0;31m# restore state no matter what (e.g., KeyboardInterrupt)\u001b[0m\u001b[0;34m\u001b[0m\u001b[0m\n\u001b[1;32m    295\u001b[0m             \u001b[0;32mif\u001b[0m \u001b[0mtimeout\u001b[0m \u001b[0;32mis\u001b[0m \u001b[0;32mNone\u001b[0m\u001b[0;34m:\u001b[0m\u001b[0;34m\u001b[0m\u001b[0m\n\u001b[0;32m--> 296\u001b[0;31m                 \u001b[0mwaiter\u001b[0m\u001b[0;34m.\u001b[0m\u001b[0macquire\u001b[0m\u001b[0;34m(\u001b[0m\u001b[0;34m)\u001b[0m\u001b[0;34m\u001b[0m\u001b[0m\n\u001b[0m\u001b[1;32m    297\u001b[0m                 \u001b[0mgotit\u001b[0m \u001b[0;34m=\u001b[0m \u001b[0;32mTrue\u001b[0m\u001b[0;34m\u001b[0m\u001b[0m\n\u001b[1;32m    298\u001b[0m             \u001b[0;32melse\u001b[0m\u001b[0;34m:\u001b[0m\u001b[0;34m\u001b[0m\u001b[0m\n",
      "\u001b[0;31mKeyboardInterrupt\u001b[0m: "
     ]
    }
   ],
   "source": [
    "# from sklearn.model_selection import GridSearchCV\n",
    "# from xgboost import XGBRegressor\n",
    "# from lightgbm import LGBMRegressor\n",
    "\n",
    "\n",
    "# xgb = XGBRegressor()\n",
    "# lgbm = LGBMRegressor()\n",
    "# parameters_xgb = {\n",
    "#     'max_depth': [3, 5, 7, 9],\n",
    "#     'n_estimators': [500, 1000, 1500, 2000],\n",
    "#     'learning_rate': [0.01, 0.05, 0.1, 0.15, 0.2, 0.4],\n",
    "#     'colsample_bytree': [0.1, 0.3, 0.5, 0.7],\n",
    "#     'subsample': [0.5, 0.7, 0.8],\n",
    "#     'min_child_weight': [1, 10, 100]\n",
    "# }\n",
    "# parameters_lgbm = {\n",
    "#     'max_depth': [-1, 3, 5, 7, 9],\n",
    "#     'n_estimators': [500, 1000, 1500, 2000],\n",
    "#     'learning_rate': [0.01, 0.05, 0.1, 0.15, 0.2, 0.4],\n",
    "#     'colsample_bytree': [0.1, 0.3, 0.5, 0.7],\n",
    "#     'subsample': [0.5, 0.7, 0.8],\n",
    "#     'num_leaves': [10, 20, 30, 40],\n",
    "#     'min_child_weight': [1, 10, 100]\n",
    "# }\n",
    "\n",
    "# xgb_grid = GridSearchCV(xgb, parameters_xgb, cv=5, n_jobs=5)\n",
    "# lgbm_grid = GridSearchCV(lgbm, parameters_lgbm, cv=5, n_jobs=5)\n",
    "\n",
    "# xgb_grid.fit(X_train, y_train)\n",
    "# lgbm_grid.fit(X_train, y_train)\n",
    "\n",
    "# print(xgb_grid.best_score_)\n",
    "# print(xgb_grid.best_params_)\n",
    "# print(lgbm_grid.best_score_)\n",
    "# print(lgbm_grid.best_params_)\n"
   ]
  },
  {
   "cell_type": "code",
   "execution_count": null,
   "metadata": {},
   "outputs": [],
   "source": [
    "# def grid_search(model, parameters, cv=5, n_jobs=5, train, test):\n",
    "#     model_grid = GridSearchCV(model, parameters, cv, n_jobs)\n",
    "#     model_grid.fit(train, test)\n",
    "#     print(model.__class__.__name__, model_grid.best_score_)\n",
    "#     print(model.__class__.__name__, model_grid.best_params_)"
   ]
  },
  {
   "cell_type": "code",
   "execution_count": null,
   "metadata": {},
   "outputs": [],
   "source": []
  }
 ],
 "metadata": {
  "kernelspec": {
   "display_name": "Python 3",
   "language": "python",
   "name": "python3"
  },
  "language_info": {
   "codemirror_mode": {
    "name": "ipython",
    "version": 3
   },
   "file_extension": ".py",
   "mimetype": "text/x-python",
   "name": "python",
   "nbconvert_exporter": "python",
   "pygments_lexer": "ipython3",
   "version": "3.7.0"
  }
 },
 "nbformat": 4,
 "nbformat_minor": 2
}
